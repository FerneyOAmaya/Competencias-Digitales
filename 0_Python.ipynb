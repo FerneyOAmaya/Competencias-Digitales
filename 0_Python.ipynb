{
  "nbformat": 4,
  "nbformat_minor": 0,
  "metadata": {
    "colab": {
      "name": "0_Python.ipynb",
      "provenance": [],
      "collapsed_sections": [],
      "toc_visible": true
    },
    "kernelspec": {
      "name": "python3",
      "display_name": "Python 3"
    }
  },
  "cells": [
    {
      "cell_type": "markdown",
      "metadata": {
        "id": "5Uimjphy8WNz"
      },
      "source": [
        "[![Open In Colab](https://colab.research.google.com/assets/colab-badge.svg)](https://colab.research.google.com/github/FerneyOAmaya/DataLiteracy/blob/master/0_Python.ipynb)\n",
        "\n",
        "#Introducción a Pyhton\n",
        "\n",
        "Se presenta un breve resumen de los principales elementos para programar empleando Python.\n",
        "\n",
        "Por:\n",
        "\n",
        "Ferney Amaya Fernández <br>\n",
        "https://ferneyoamaya.github.io/ <br><br>\n",
        "\n",
        "Contenido:\n",
        "1. Generalidades.\n",
        "2. Tipos de datos.\n",
        "3. Operadores.\n",
        "4. Estructuras de control.\n",
        "5. Referencias."
      ]
    },
    {
      "cell_type": "markdown",
      "metadata": {
        "id": "XZ6FiRW5-o-o"
      },
      "source": [
        "## 1.Generalidades\n",
        "\n",
        "Algunos aspectos de Python:\n",
        "- Emplea una nueva linea para completar el comando, no requiere punto y coma al final.\n",
        "- Emplea identación (sangría) en lazos, funciones, clases. Debe usarse al menos 1 espacio en blanco."
      ]
    },
    {
      "cell_type": "markdown",
      "metadata": {
        "id": "aJ08w-wwRVvv"
      },
      "source": [
        "### 1.1. Variables\n",
        "\n",
        "Las variables son creada al asignarles un valor por primera vez.\n",
        "\n",
        "Para nombrar variables:\n",
        "- Son sensibles a las mayúsculas y minúsculas (case-sensitive), las variables _Carro_ y _carro_ son diferentes.\n",
        "- Su nombre debe iniciar con letra o guión bajo (_), no con un número.\n",
        "- Pueden contener solo caracteres alfanuméricas y guión bajo  (A-z, 0-9, _ ).\n",
        "\n",
        "El comando print() es empleado para visualizar el contenido de una variable.\n",
        "\n",
        "Asignar a la variable x el valor 5 y luego visualizar el valor:"
      ]
    },
    {
      "cell_type": "code",
      "metadata": {
        "id": "1Qvli5c1ReD5",
        "colab": {
          "base_uri": "https://localhost:8080/",
          "height": 34
        },
        "outputId": "8397669d-6699-4653-98df-943c13602fa1"
      },
      "source": [
        "x = 5\n",
        "print(x)"
      ],
      "execution_count": null,
      "outputs": [
        {
          "output_type": "stream",
          "text": [
            "5\n"
          ],
          "name": "stdout"
        }
      ]
    },
    {
      "cell_type": "markdown",
      "metadata": {
        "id": "23q_KmkpR3E6"
      },
      "source": [
        "Pueden asignarse valores a múltiples variables en una línea:\n"
      ]
    },
    {
      "cell_type": "code",
      "metadata": {
        "id": "BcgZp01FSCJ1",
        "colab": {
          "base_uri": "https://localhost:8080/",
          "height": 34
        },
        "outputId": "a8184222-67ca-4068-c247-07d6aee7f898"
      },
      "source": [
        "x, y, z = \"Manzana\", \"Azul\", \"Edificio\"\n",
        "print(x,y,z)"
      ],
      "execution_count": null,
      "outputs": [
        {
          "output_type": "stream",
          "text": [
            "Manzana Azul Edificio\n"
          ],
          "name": "stdout"
        }
      ]
    },
    {
      "cell_type": "markdown",
      "metadata": {
        "id": "YVG2ccudRenX"
      },
      "source": [
        "### 1.2. Comentarios\n",
        "\n",
        "Pueden ser de una o varias líneas:\n",
        "\n",
        "\\# Comentario de una sola línea\n",
        "<br> <br>\n",
        "\"\"\" <br>\n",
        "Comentario <br>\n",
        "de varias <br>\n",
        "líneas <br>\n",
        "\"\"\"\n"
      ]
    },
    {
      "cell_type": "markdown",
      "metadata": {
        "id": "D5fbjoQ58npU"
      },
      "source": [
        "## 2.Tipos de datos\n",
        "\n",
        "Los tipos de datos nativos de Python son:\n",
        "- Text Type:\tstr\n",
        "- Numeric Types:\tint, float, complex\n",
        "- Sequence Types:\tlist, tuple, range\n",
        "- Mapping Type:\tdict\n",
        "- Set Types:\tset, frozenset\n",
        "- Boolean Type:\tbool\n",
        "- Binary Types:\tbytes, bytearray, memoryview\n",
        "\n",
        "Tomado de: \n",
        "https://www.w3schools.com/python/python_datatypes.asp.\n",
        "\n",
        "Se abordarán los tipos numéricos (int, float, complex); las cadenas de caracters (strings), las listas (list), y los tipos tuple, bool y range.\n",
        "\n",
        "El comando type() entrega el tipo de datos de una variable. "
      ]
    },
    {
      "cell_type": "markdown",
      "metadata": {
        "id": "SONkdj1ceB9g"
      },
      "source": [
        "### 2.1.\tTipos numéricos\n",
        "\n",
        "Hay varios tipos de representación numerica: enteros (int), punto flotante (float) y números complejos (complex). \n",
        "\n",
        "Los valores decimales son separados por punto.\n",
        "\n",
        "Los enteros:\n",
        "\n",
        "$$-\\infty, ...,-2,-1,0,1,2,, ...,\\infty$$\n",
        "\n",
        "Lafunción type() entrega el tipo de variable.\n"
      ]
    },
    {
      "cell_type": "code",
      "metadata": {
        "id": "msjWWjudeWbX",
        "colab": {
          "base_uri": "https://localhost:8080/",
          "height": 34
        },
        "outputId": "8655833d-a6dc-4318-92e5-e92e20d6b06f"
      },
      "source": [
        "a = 5       #Entero\n",
        "b = 5.0     #Flotante\n",
        "c = 1+2j    #Complejo\n",
        "print(type(a),type(b),type(c))"
      ],
      "execution_count": null,
      "outputs": [
        {
          "output_type": "stream",
          "text": [
            "<class 'int'> <class 'float'> <class 'complex'>\n"
          ],
          "name": "stdout"
        }
      ]
    },
    {
      "cell_type": "markdown",
      "metadata": {
        "id": "d444oYZzeSd_"
      },
      "source": [
        "### 2.2. Cadenas de caracteres\n",
        "\n",
        "Las cadenas de caracteres (strings) pueden definirse empleando comillas simples o dobles. Es decir 'Hola' es lo mismo que \"Hola\".\n",
        "\n",
        "Cada elemento de la cadena puede indexarse de dos formas:\n",
        "- índice positivo: el índice del primer elemento es 0.\n",
        "- índice negativo: el índice del último elemento es -1.\n"
      ]
    },
    {
      "cell_type": "code",
      "metadata": {
        "id": "IdtrewHK-ZRG",
        "colab": {
          "base_uri": "https://localhost:8080/",
          "height": 51
        },
        "outputId": "74493314-e5e8-45f3-caad-b4dcf4bbf0c7"
      },
      "source": [
        "a = \"Hol@ mundo\"\n",
        "print(a[3])\n",
        "print(a[-7])"
      ],
      "execution_count": null,
      "outputs": [
        {
          "output_type": "stream",
          "text": [
            "@\n",
            "@\n"
          ],
          "name": "stdout"
        }
      ]
    },
    {
      "cell_type": "markdown",
      "metadata": {
        "id": "bhsmbTBP-Zp0"
      },
      "source": [
        "Se puede acceder a varios elementos:"
      ]
    },
    {
      "cell_type": "code",
      "metadata": {
        "id": "6ukUZO32_bAw",
        "colab": {
          "base_uri": "https://localhost:8080/"
        },
        "outputId": "5682eba4-3b2c-42d1-eacd-257a5941cc85"
      },
      "source": [
        "a = 'Hol@ mundo'\n",
        "print(a[0:3])    #desde posición 0 a 2: 0='H', 1='o', 2='l'\n",
        "print(a[:4])     #desde posición 0 a 3: 0='H', 1='o', 2='l', 3='@' \n",
        "print(a[5:])     #desde posición 5 a final\n",
        "print(a[0:9:2])  #desde posición 0 a 8\n",
        "print(a[0:9:2])  #desde posición 0 a 8, agrupa de a 2 y accede al primero del grupo\n",
        "print(a[0:9:3])  #desde posición 0 a 8, agrupa de a 3 y accede al primero del grupo"
      ],
      "execution_count": null,
      "outputs": [
        {
          "output_type": "stream",
          "text": [
            "Hol\n",
            "Hol@\n",
            "mundo\n",
            "Hl ud\n",
            "Hl ud\n",
            "H@u\n"
          ],
          "name": "stdout"
        }
      ]
    },
    {
      "cell_type": "markdown",
      "metadata": {
        "id": "KFDtvHts_bTC"
      },
      "source": [
        "En la cadena pueden insertarse caracteres de escape, algunos son:\n",
        "- \\\\'\t:Single Quote\t\n",
        "- \\\\\\\t:Backslash\t\n",
        "- \\n\t:New Line\t\n",
        "- \\r\t:Carriage Return\t\n",
        "- \\t\t:Tab\t\n",
        "- \\b\t:Backspace\t\n",
        "- \\f\t:Form Feed\t\n",
        "\n",
        "Tomado de:\n",
        "https://www.w3schools.com/python/gloss_python_escape_characters.asp"
      ]
    },
    {
      "cell_type": "code",
      "metadata": {
        "id": "FC9GMZEKA4R6",
        "colab": {
          "base_uri": "https://localhost:8080/",
          "height": 51
        },
        "outputId": "63608b00-dd40-4ece-ae82-b70d281dc201"
      },
      "source": [
        "a = 'Hola\\nmundo'\n",
        "print(a)"
      ],
      "execution_count": null,
      "outputs": [
        {
          "output_type": "stream",
          "text": [
            "Hola\n",
            "mundo\n"
          ],
          "name": "stdout"
        }
      ]
    },
    {
      "cell_type": "code",
      "metadata": {
        "id": "9fZhM2i7Aocs"
      },
      "source": [
        ""
      ],
      "execution_count": null,
      "outputs": []
    },
    {
      "cell_type": "markdown",
      "metadata": {
        "id": "2VdShu3dA3e6"
      },
      "source": [
        "A continuación se presentan algunos ejemplos de operaciones con strings:"
      ]
    },
    {
      "cell_type": "code",
      "metadata": {
        "id": "zUhTmg0vIZYS",
        "colab": {
          "base_uri": "https://localhost:8080/"
        },
        "outputId": "cbaa98af-f65b-45d3-b248-f51b3f133fb8"
      },
      "source": [
        "cadena = ' CURSO de python '\n",
        "print(cadena.upper())             #en mayúsculas\n",
        "print(cadena.lower())             #en minúsculas\n",
        "print(cadena.strip())             #elimina espacios al inicio y al final\n",
        "print(cadena.replace('de', '*'))  #reemplaza caracteres\n",
        "print(cadena.split('de'))         #separa de acuerdo a un conjunto de caracteres\n",
        "print(3*cadena)                   #repite 3 veces"
      ],
      "execution_count": null,
      "outputs": [
        {
          "output_type": "stream",
          "text": [
            " CURSO DE PYTHON \n",
            " curso de python \n",
            "CURSO de python\n",
            " CURSO * python \n",
            "[' CURSO ', ' python ']\n",
            " CURSO de python  CURSO de python  CURSO de python \n"
          ],
          "name": "stdout"
        }
      ]
    },
    {
      "cell_type": "markdown",
      "metadata": {
        "id": "J-y-A_lnwbA5"
      },
      "source": [
        "El número de elementos de cadena de caracteres se obtiene con len() y pueden concaternarse cademas empleando +:\n"
      ]
    },
    {
      "cell_type": "code",
      "metadata": {
        "colab": {
          "base_uri": "https://localhost:8080/"
        },
        "id": "vN5AnC2Lwhgn",
        "outputId": "4e845b99-ddee-469a-d1b2-656390d478d6"
      },
      "source": [
        "cadena = ' CURSO de python '\n",
        "print(len(cadena))\n",
        "\n",
        "a = 'Hola' + ' ' + 'mundo'\n",
        "print(a, len(a))"
      ],
      "execution_count": null,
      "outputs": [
        {
          "output_type": "stream",
          "text": [
            "17\n",
            "Hola mundo 10\n"
          ],
          "name": "stdout"
        }
      ]
    },
    {
      "cell_type": "markdown",
      "metadata": {
        "id": "xH8KJDUqxW82"
      },
      "source": [
        "El mezclar cadenas de caracteres con números generará un error. Intente ejecutar las siguientes líneas en Python:\n",
        "\n",
        "edad = 18 <br>\n",
        "cadena = 'Hola mundo, tengo ' + edad + 'años' <br>\n",
        "print(cadena) <br>\n",
        "\n",
        "El conjunto de métodos integrados en Python para cadenas de caracteres (strings) puede revisarse en:\n",
        "https://www.w3schools.com/python/python_ref_string.asp"
      ]
    },
    {
      "cell_type": "markdown",
      "metadata": {
        "id": "J72FgTov18iW"
      },
      "source": [
        "### 2.3. Listas\n",
        "\n",
        "Las listas (List) son colecciones o arreglos de elementos con las siguientes características:\n",
        "- elementos ordenados\n",
        "- elementos que pueden modificarse\n",
        "- admite duplicados\n",
        "- los elementos no necesariamente deben ser del mismo tipo de datos.\n",
        "\n",
        "Se indexan y ase asignan valores en forma similar a las cadenas de caracteres (str)."
      ]
    },
    {
      "cell_type": "code",
      "metadata": {
        "id": "w_OGHn02E0Tr",
        "colab": {
          "base_uri": "https://localhost:8080/"
        },
        "outputId": "4405f437-34b8-4673-fe5d-bcd54ad15fd5"
      },
      "source": [
        "a = [1, 2, 2.2, 3.5, 'python']\n",
        "print(a[2]) \n",
        "print(a[3:5])\n",
        "a[1:4] = ['verde']\n",
        "print(a)"
      ],
      "execution_count": null,
      "outputs": [
        {
          "output_type": "stream",
          "text": [
            "2.2\n",
            "[3.5, 'python']\n",
            "[1, 'verde', 'python']\n"
          ],
          "name": "stdout"
        }
      ]
    },
    {
      "cell_type": "markdown",
      "metadata": {
        "id": "vs6KOZGBE0v-"
      },
      "source": [
        "A continuación se presentan algunos ejemplos de operaciones con listas:"
      ]
    },
    {
      "cell_type": "code",
      "metadata": {
        "id": "uR7CJZbiGWsD",
        "colab": {
          "base_uri": "https://localhost:8080/"
        },
        "outputId": "7c06d1e9-2e46-4d1b-983c-332fe85259b6"
      },
      "source": [
        "a = ['naranja', 'pera', 'mango', 'piña']\n",
        "a.insert(3,'manzana')         #inserta elemento en el índice 3\n",
        "print(a)\n",
        "a.append('guayaba')           #adiciona elemento al final\n",
        "print(a)\n",
        "a.remove('pera')              #elimina un elemento especificado por valor\n",
        "print(a)\n",
        "a.sort()                      #ordena\n",
        "print(a)\n",
        "anum = [100, 50, 65, 82, 23]\n",
        "anum.sort(reverse = True)\n",
        "print(anum)\n",
        "print(len(a))"
      ],
      "execution_count": null,
      "outputs": [
        {
          "output_type": "stream",
          "text": [
            "['naranja', 'pera', 'mango', 'manzana', 'piña']\n",
            "['naranja', 'pera', 'mango', 'manzana', 'piña', 'guayaba']\n",
            "['naranja', 'mango', 'manzana', 'piña', 'guayaba']\n",
            "['guayaba', 'mango', 'manzana', 'naranja', 'piña']\n",
            "[100, 82, 65, 50, 23]\n",
            "5\n"
          ],
          "name": "stdout"
        }
      ]
    },
    {
      "cell_type": "markdown",
      "metadata": {
        "id": "GM8xu-b_9J99"
      },
      "source": [
        "El conjunto de métodos integrados en Python para Listas puede revisarse en: https://www.w3schools.com/python/python_lists_methods.asp"
      ]
    },
    {
      "cell_type": "markdown",
      "metadata": {
        "id": "ul9OkHBD-Acx"
      },
      "source": [
        "### 2.4. Diccionarios\n",
        "Los diccionarios (dict) son usados para almacernar colecciones de pares de llave:dato (key:value) y tienen las siguientes características:\n",
        "- a partir de la versión de Python 3.7 son ordenados\n",
        "- elementos que pueden modificarse\n",
        "- admiten cualquier tipo de datos\n",
        "- no permiten duplicados, los duplicados sobre-escriben los valores existentes.\n",
        "\n",
        "A continuación se presenta como se crea, se accede, se cambian y eliminan campos del diccionario:"
      ]
    },
    {
      "cell_type": "code",
      "metadata": {
        "colab": {
          "base_uri": "https://localhost:8080/"
        },
        "id": "JTEX5Yhf_vh5",
        "outputId": "617a5559-d1a9-4ce3-b3dd-d3dd13abce39"
      },
      "source": [
        "diccionario = {\n",
        "  'Nombre': 'Juan',\n",
        "  'Profesión': 'Ingeniero',\n",
        "  'Edad': 19\n",
        "}\n",
        "print(diccionario)\n",
        "print(diccionario['Profesión'])\n",
        "print(diccionario['Edad'])\n",
        "diccionario['Edad'] = 20\n",
        "print(diccionario)\n",
        "diccionario.pop('Profesión')\n",
        "print(diccionario)"
      ],
      "execution_count": null,
      "outputs": [
        {
          "output_type": "stream",
          "text": [
            "{'Nombre': 'Juan', 'Profesión': 'Ingeniero', 'Edad': 19}\n",
            "Ingeniero\n",
            "19\n",
            "{'Nombre': 'Juan', 'Profesión': 'Ingeniero', 'Edad': 20}\n",
            "{'Nombre': 'Juan', 'Edad': 20}\n"
          ],
          "name": "stdout"
        }
      ]
    },
    {
      "cell_type": "markdown",
      "metadata": {
        "id": "-X0WbNnHFaXr"
      },
      "source": [
        "A continuación se presentan algunos ejemplos de operaciones con diccionarios:"
      ]
    },
    {
      "cell_type": "code",
      "metadata": {
        "colab": {
          "base_uri": "https://localhost:8080/"
        },
        "id": "Xdb17hXgFhV3",
        "outputId": "7a097f0b-cb08-4c47-e766-30e5aadc1149"
      },
      "source": [
        "d = {\n",
        "  'María': 'Nombre propio',\n",
        "  'Correr': 'Verbo',\n",
        "  'Casa': 'Sustantivo',\n",
        "  'Jose': 'Nombre propio',\n",
        "  'Jugar': 'Verbo',\n",
        "}\n",
        "print(d.get('Correr'))    #Obtiene un parámetro del diccionario \n",
        "print(d.keys())\n",
        "print(d.values())"
      ],
      "execution_count": null,
      "outputs": [
        {
          "output_type": "stream",
          "text": [
            "Verbo\n",
            "dict_keys(['María', 'Correr', 'Casa', 'Jose', 'Jugar'])\n",
            "dict_values(['Nombre propio', 'Verbo', 'Sustantivo', 'Nombre propio', 'Verbo'])\n"
          ],
          "name": "stdout"
        }
      ]
    },
    {
      "cell_type": "markdown",
      "metadata": {
        "id": "atlC_x05Mp9y"
      },
      "source": [
        "El conjunto de métodos integrados en Python para los diccionarios puede revisarse en: https://www.w3schools.com/python/python_dictionaries_methods.asp"
      ]
    },
    {
      "cell_type": "markdown",
      "metadata": {
        "id": "3d-WFvriC0Cc"
      },
      "source": [
        "### 2.5. Otros tipos de datos y como especificar el tipo de datos\n",
        "\n",
        "Los tipos booleano pueden tener solo dos valores: True, False.\n",
        "\n",
        "Las tuplas (Tuple) son una secuencia ordrdenada de elementos como en una lista. La diferencia es que una vez creada la tupla, esta no puede modificarse, solo añadir elementos.\n",
        "\n",
        "Los tipos range se crean con: range(). Por ejemplo, con el comando range(3) se crean los valores 0, 1, 2.\n",
        "\n",
        "Puede especificarse el tipo de datos al crear una variable o asignarle un valor con los comandos:\n",
        "- float()\n",
        "- int()\n",
        "- str()\n",
        "- bool()\n",
        "- complex()\n",
        "- list()\n"
      ]
    },
    {
      "cell_type": "code",
      "metadata": {
        "id": "hO-SSJglOd7p",
        "colab": {
          "base_uri": "https://localhost:8080/",
          "height": 68
        },
        "outputId": "8e18391b-5059-4f6a-e7fd-22f679d774e0"
      },
      "source": [
        "print(int(2.34))\n",
        "print(float(2))\n",
        "print(complex(2))"
      ],
      "execution_count": null,
      "outputs": [
        {
          "output_type": "stream",
          "text": [
            "2\n",
            "2.0\n",
            "(2+0j)\n"
          ],
          "name": "stdout"
        }
      ]
    },
    {
      "cell_type": "markdown",
      "metadata": {
        "id": "NsNoqbL1BP3M"
      },
      "source": [
        "## 3.Operadores\n",
        "\n",
        "El contenido de esta sección se basa en el contenido que aparece en:\n",
        "https://www.w3schools.com/python/python_operators.asp\n",
        "\n",
        "Python clasifica los operadores en los siguientes grupos:\n",
        "- Aritméticos\n",
        "- Asignamiento\n",
        "- Comparación\n",
        "- Lógicos\n",
        "- De identidad\n",
        "- De mebresía\n",
        "- Entre bits"
      ]
    },
    {
      "cell_type": "markdown",
      "metadata": {
        "id": "qFNb2jMPTIgH"
      },
      "source": [
        "### 3.1. Operadores aritméticos\n",
        "\n",
        "Empleados entre variables numéricas:\n",
        "\n",
        "- Adición +\t\n",
        "- Subtracción -\t\n",
        "- Multiplicación *\t\n",
        "- División\t/\t\n",
        "- Módulo de la división %\t\n",
        "- Exponenciación **\t\n",
        "- Resultado de la división redondeando al menor entero //"
      ]
    },
    {
      "cell_type": "code",
      "metadata": {
        "id": "VKp5ZiBlSSCy",
        "colab": {
          "base_uri": "https://localhost:8080/",
          "height": 51
        },
        "outputId": "d3e7843c-2b05-4396-d9b5-a76d30de72b0"
      },
      "source": [
        "x = 7\n",
        "y = 3\n",
        "print(x+y, x-y, x*y, x/y)\n",
        "print(x%y, x**y, x//y)"
      ],
      "execution_count": null,
      "outputs": [
        {
          "output_type": "stream",
          "text": [
            "10 4 21 2.3333333333333335\n",
            "1 343 2\n"
          ],
          "name": "stdout"
        }
      ]
    },
    {
      "cell_type": "markdown",
      "metadata": {
        "id": "Gqp9DhgvSSdS"
      },
      "source": [
        "### 3.2. Operadores de asignamiento\n",
        "\n",
        "Para asignar un valor a una variable se emplea el operador =.\n",
        "\n",
        "Los operadores de asignamiento permiten simplificar la escritura al emplear operadores aritméticos:\n",
        "\n",
        "por ejemplo, al escribir:\n",
        "\n",
        "x 'operador' = 'valor'\n",
        "\n",
        "equivale a:\n",
        "\n",
        "x = x 'operador' 'valor'\n",
        "\n",
        "En estos ejemplos, la variable x debió asignarse previamente.\n",
        "\n",
        "Ejemplos:\n"
      ]
    },
    {
      "cell_type": "code",
      "metadata": {
        "id": "NDWrXJtMVHM8",
        "colab": {
          "base_uri": "https://localhost:8080/"
        },
        "outputId": "e5258a26-c18c-47e8-ec93-69d9606c9aa7"
      },
      "source": [
        "x = 7\n",
        "x +=3\n",
        "print(x)\n",
        "x *=3 \n",
        "print(x)"
      ],
      "execution_count": null,
      "outputs": [
        {
          "output_type": "stream",
          "text": [
            "10\n",
            "30\n"
          ],
          "name": "stdout"
        }
      ]
    },
    {
      "cell_type": "markdown",
      "metadata": {
        "id": "qH4s9eXpVyG5"
      },
      "source": [
        "### 3.3. Operadores de comparación\n",
        "\n",
        "Empleados para comparar dos valores, devuelve un valor lógico:\n",
        "- Igual ==\t\n",
        "- No igual !=\t\n",
        "- Mayor que >\t\n",
        "- Menor que <\t\n",
        "- Mayor o igual que >=\t\n",
        "- Menor o igual que <=\t"
      ]
    },
    {
      "cell_type": "code",
      "metadata": {
        "id": "qZ6INMUXWeTt",
        "colab": {
          "base_uri": "https://localhost:8080/",
          "height": 68
        },
        "outputId": "affcaa56-c0e8-4e06-e086-007af4eea01b"
      },
      "source": [
        "x = 7\n",
        "y = 3\n",
        "print(x == y)\n",
        "print(x != y)\n",
        "print(x > y)"
      ],
      "execution_count": null,
      "outputs": [
        {
          "output_type": "stream",
          "text": [
            "False\n",
            "True\n",
            "True\n"
          ],
          "name": "stdout"
        }
      ]
    },
    {
      "cell_type": "markdown",
      "metadata": {
        "id": "iOTX3gR0Wel8"
      },
      "source": [
        "### 3.4. Operadores lógicos\n",
        "\n",
        "Empleados para combinar operaciones de comparación:\n",
        "\n",
        "- and\n",
        "- or\n",
        "- not"
      ]
    },
    {
      "cell_type": "code",
      "metadata": {
        "id": "Go7w0b08Xb4u",
        "colab": {
          "base_uri": "https://localhost:8080/",
          "height": 68
        },
        "outputId": "077928f2-5c6d-4288-df84-ee30da606a5c"
      },
      "source": [
        "x = 7\n",
        "y = 3\n",
        "print(x==y and x>y)\n",
        "print(x!=y and x>y)\n",
        "print(not(x==y and x>y))"
      ],
      "execution_count": null,
      "outputs": [
        {
          "output_type": "stream",
          "text": [
            "False\n",
            "True\n",
            "True\n"
          ],
          "name": "stdout"
        }
      ]
    },
    {
      "cell_type": "markdown",
      "metadata": {
        "id": "PGbOsefOXcOy"
      },
      "source": [
        "### 3.5. Operadores de identidad\n",
        "\n",
        "Empleados para identificar si dos variables comparten la misma ubicación en memoria:\n",
        "- is\n",
        "- is not"
      ]
    },
    {
      "cell_type": "code",
      "metadata": {
        "id": "JKmRF24VYhDq",
        "colab": {
          "base_uri": "https://localhost:8080/",
          "height": 51
        },
        "outputId": "ee620c67-f50c-46bf-fb3f-0c8c6911fa62"
      },
      "source": [
        "x = 7\n",
        "y = 3\n",
        "z = x\n",
        "print(x is y)\n",
        "print(x is z)"
      ],
      "execution_count": null,
      "outputs": [
        {
          "output_type": "stream",
          "text": [
            "False\n",
            "True\n"
          ],
          "name": "stdout"
        }
      ]
    },
    {
      "cell_type": "markdown",
      "metadata": {
        "id": "uIz3_jEeY-O4"
      },
      "source": [
        "Es importante tener en cuenta que al asignar una variable a otra, la nueva variable comparte la misma posición de memoria, como ocurre con las variables x y z en el ejemplo anterior."
      ]
    },
    {
      "cell_type": "markdown",
      "metadata": {
        "id": "zzf9qqoNYhUm"
      },
      "source": [
        "### 3.6. Operadores de membresía\n",
        "\n",
        "Empleados para saber si una secuencia está presente o no en un objeto, devuelve un valor lógico:\n",
        "\n",
        "- in\n",
        "- not in\n"
      ]
    },
    {
      "cell_type": "code",
      "metadata": {
        "id": "cjXxpjXraRAV",
        "colab": {
          "base_uri": "https://localhost:8080/"
        },
        "outputId": "eabbf3a8-2b9a-4987-cbce-2ebe8aa389da"
      },
      "source": [
        "s = 'Curso de Python MinTIC 2022'\n",
        "print('En String: ','de' in s)\n",
        "print('En String: ','para' in s)\n",
        "\n",
        "l = ['manzana', 'mango']\n",
        "print('En lista: ', 'mango' in l)\n",
        "print('En lista: ', ' pera' in l)\n",
        "\n",
        "d = {\n",
        "  'María': 'Nombre propio',\n",
        "  'Correr': 'Verbo',\n",
        "  'Casa': 'Sustantivo',\n",
        "  'Jose': 'Nombre propio',\n",
        "  'Jugar': 'Verbo'\n",
        "}\n",
        "print('En diccionario: ', 'Correr' in d)\n",
        "print('En diccionario: ', 'Saltar' in d)"
      ],
      "execution_count": null,
      "outputs": [
        {
          "output_type": "stream",
          "text": [
            "En String:  True\n",
            "En String:  False\n",
            "En lista:  True\n",
            "En lista:  False\n",
            "En diccionario:  True\n",
            "En diccionario:  False\n"
          ],
          "name": "stdout"
        }
      ]
    },
    {
      "cell_type": "markdown",
      "metadata": {
        "id": "fLrXAeRRaRPL"
      },
      "source": [
        "### 3.7. Operaciones entre bits\n",
        "\n",
        "Realizan la operación indicada bit a bit:\n",
        "\n",
        "- & \tAND\n",
        "- |\tOR\n",
        "- ^\tXOR\n",
        "- ~ NOT\n",
        "- <<\tdesplazamiento a izquierda insertando ceros\n",
        "- \\>>\tdesplazamiento a derecha conservando el signo"
      ]
    },
    {
      "cell_type": "code",
      "metadata": {
        "id": "OSWvIhEzbeV0",
        "colab": {
          "base_uri": "https://localhost:8080/",
          "height": 119
        },
        "outputId": "3cd2a3c0-4bff-4cb2-a74f-7d130cfe9ae5"
      },
      "source": [
        "x = 7     #En binario en 4 bits es '0111'\n",
        "y = 3     #En binario en 4 bits es '0011'\n",
        "print(x & y)\n",
        "print(x | y)\n",
        "print(x ^ y)\n",
        "print(~x)\n",
        "print(x << y)\n",
        "print(x >> y)\n"
      ],
      "execution_count": null,
      "outputs": [
        {
          "output_type": "stream",
          "text": [
            "3\n",
            "7\n",
            "4\n",
            "-8\n",
            "56\n",
            "0\n"
          ],
          "name": "stdout"
        }
      ]
    },
    {
      "cell_type": "markdown",
      "metadata": {
        "id": "bXSpwFNjESeO"
      },
      "source": [
        "## 4.Estructuras de control\n",
        "\n",
        "Las estructuras de control permiten modificar el flujo de ejecución de las instrucciones:\n",
        "- if elif else\n",
        "- for\n",
        "- while\n",
        "\n",
        "En Python no se define la estructura switch.\n",
        "\n",
        "En estas estructuras debe emplearse identación (sangría)."
      ]
    },
    {
      "cell_type": "markdown",
      "metadata": {
        "id": "yW_MiAAKdNns"
      },
      "source": [
        "### 4.1 if elif else\n",
        "\n",
        "El if debe tener instrucciones, si por alguna razón no se requieren, puede colocarse pass para evitar el error."
      ]
    },
    {
      "cell_type": "code",
      "metadata": {
        "id": "HaFqyeqyeg4t",
        "colab": {
          "base_uri": "https://localhost:8080/",
          "height": 34
        },
        "outputId": "f9ca0706-4281-404d-d058-59e757ee7f1e"
      },
      "source": [
        "x = 7\n",
        "y = 3\n",
        "\n",
        "if x>y:\n",
        " print('If: mayor')\n",
        "elif x<y:\n",
        " print('Elif: menor')\n",
        "else:\n",
        " print('Else: igual')"
      ],
      "execution_count": null,
      "outputs": [
        {
          "output_type": "stream",
          "text": [
            "If: mayor\n"
          ],
          "name": "stdout"
        }
      ]
    },
    {
      "cell_type": "markdown",
      "metadata": {
        "id": "PoMKIL8behMR"
      },
      "source": [
        "### 4.2 for\n",
        "\n",
        "La forma común de usar el for es como se presenta en el ejemplo:"
      ]
    },
    {
      "cell_type": "code",
      "metadata": {
        "id": "npwaVFCphb32",
        "colab": {
          "base_uri": "https://localhost:8080/",
          "height": 68
        },
        "outputId": "bd4beea4-9961-41b5-d341-afa080ced434"
      },
      "source": [
        "for x in range(3):\n",
        " print(x)"
      ],
      "execution_count": null,
      "outputs": [
        {
          "output_type": "stream",
          "text": [
            "0\n",
            "1\n",
            "2\n"
          ],
          "name": "stdout"
        }
      ]
    },
    {
      "cell_type": "markdown",
      "metadata": {
        "id": "e8cqh-Cwhlhb"
      },
      "source": [
        "### 4.3 while\n",
        "\n",
        "La forma común de emplear el while es como se presenta en el ejemplo:"
      ]
    },
    {
      "cell_type": "code",
      "metadata": {
        "id": "AMYcOj5oiCZJ",
        "colab": {
          "base_uri": "https://localhost:8080/",
          "height": 85
        },
        "outputId": "bd3b8191-e95c-4853-90b7-f63bb048cbcd"
      },
      "source": [
        "x = 0\n",
        "while(x < 4):\n",
        " print(x)\n",
        " x += 1"
      ],
      "execution_count": null,
      "outputs": [
        {
          "output_type": "stream",
          "text": [
            "0\n",
            "1\n",
            "2\n",
            "3\n"
          ],
          "name": "stdout"
        }
      ]
    },
    {
      "cell_type": "markdown",
      "metadata": {
        "id": "dntCyWsVRS49"
      },
      "source": [
        "### 4.4 Comprensión de listas\n",
        "La comprensión de listas ofrece en una linea la posibilidad de crear listas a partir de valores de una lista existente como se observa en los siguientes ejemplos:"
      ]
    },
    {
      "cell_type": "code",
      "metadata": {
        "colab": {
          "base_uri": "https://localhost:8080/"
        },
        "id": "dGoL7xCOR5kc",
        "outputId": "74fdf96b-14c5-4d53-85ec-098bd1f9dff2"
      },
      "source": [
        "frutas = ['banano', 'pera', 'piña', 'mango']\n",
        "fruta_ñ = [x for x in frutas if 'ñ' in x]\n",
        "print('Frutas con ñ: ', fruta_ñ)\n",
        "\n",
        "otras_pera = [x for x in frutas if x != 'pera']\n",
        "print('Frutas diferentes a pera: ', otras_pera)\n",
        "\n",
        "frutas_may = [x.upper() for x in frutas]\n",
        "print('Frutas en mayúsculas: ', frutas_may)\n",
        "\n",
        "cambio = [x if x != 'pera' else 'manzana' for x in frutas]\n",
        "print('Cambio pera por manzana: ', cambio)"
      ],
      "execution_count": null,
      "outputs": [
        {
          "output_type": "stream",
          "text": [
            "Frutas con ñ:  ['piña']\n",
            "Frutas diferentes a pera:  ['banano', 'piña', 'mango']\n",
            "Frutas en mayúsculas:  ['BANANO', 'PERA', 'PIÑA', 'MANGO']\n",
            "Cambio pera por manzana:  ['banano', 'manzana', 'piña', 'mango']\n"
          ],
          "name": "stdout"
        }
      ]
    },
    {
      "cell_type": "markdown",
      "metadata": {
        "id": "ZpdegUW6XrDa"
      },
      "source": [
        "##5.Referencias\n",
        "- https://www.w3schools.com/."
      ]
    }
  ]
}