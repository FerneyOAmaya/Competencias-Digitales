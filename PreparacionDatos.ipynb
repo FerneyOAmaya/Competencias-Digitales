{
  "nbformat": 4,
  "nbformat_minor": 0,
  "metadata": {
    "colab": {
      "provenance": [],
      "toc_visible": true
    },
    "kernelspec": {
      "name": "python3",
      "display_name": "Python 3"
    },
    "language_info": {
      "name": "python"
    }
  },
  "cells": [
    {
      "cell_type": "markdown",
      "source": [
        "#Preparación de Datos\n",
        "\n",
        "La preparación de datos consiste en un conjunto de acciones orientadas a garantizar que los datos estén en condiciones óptimas para su análisis, modelado o interpretación. Las acciones en esta etapa son:\n",
        "- Carga de datos\n",
        "- Perfilado de datos\n",
        "- Preprocesamiento o limpieza de datos\n",
        "- Transformación de datos\n",
        "- Visualización exploratoria\n",
        "\n",
        "En este cuaderno se presentan ejemplos en cada una de las acciones.\n",
        "\n",
        "Por:\n",
        "\n",
        "Ferney Orlando Amaya Fernández\n",
        "\n"
      ],
      "metadata": {
        "id": "iBzs8AhOGV-N"
      }
    },
    {
      "cell_type": "markdown",
      "source": [
        "#1.Ejemplo de Preparación de Datos\n",
        "\n",
        "Inicialmente se importan las librerías a emplear."
      ],
      "metadata": {
        "id": "k5Ppb4-XIFmv"
      }
    },
    {
      "cell_type": "code",
      "source": [
        "import pandas as pd\n",
        "import numpy as np\n",
        "import matplotlib.pyplot as plt\n",
        "pd.set_option('future.no_silent_downcasting', True)"
      ],
      "metadata": {
        "id": "DHTwfP8tIrfu"
      },
      "execution_count": null,
      "outputs": []
    },
    {
      "cell_type": "markdown",
      "source": [
        "##1.1. Carga de Datos\n",
        "\n",
        "En la práctica, los datos suelen cargarse desde archivos o bases de datos.\n",
        "\n",
        "Se presenta un ejemplo:"
      ],
      "metadata": {
        "id": "C9Q3oJYANvl_"
      }
    },
    {
      "cell_type": "code",
      "source": [
        "#Ruta del archivo\n",
        "ruta_archivo = 'https://github.com/FerneyOAmaya/Competencias-Digitales/blob/master/DB_AnalisisDatos.xlsx?raw=true'\n",
        "\n",
        "#Cargar el archivo en formato Excel\n",
        "df = pd.read_excel(ruta_archivo)\n",
        "df"
      ],
      "metadata": {
        "id": "_eRKFiGKyKr-"
      },
      "execution_count": null,
      "outputs": []
    },
    {
      "cell_type": "markdown",
      "source": [
        "Se empleará el siguiente DataFrame:"
      ],
      "metadata": {
        "id": "GoIRIDNIyJ8u"
      }
    },
    {
      "cell_type": "code",
      "source": [
        "data = {\n",
        "    'Nombre': ['Ana', 'Luis', 'Luis', 'Marta', 'Juan', np.nan, np.nan],\n",
        "    'Apellido': ['Gómez', 'Pérez', 'Pérez', 'López', 'Martínez', 'Ruiz', 'Ruiz'],\n",
        "    'Edad': [25, 30, 30, 22, np.nan, 40, 40],\n",
        "    'Ciudad': ['Bogotá', 'Medellín', 'Medellín', 'Cali', 'Bogotá', 'Bogotá', 'Bogotá'],\n",
        "    'Ingreso': ['1000', '2000', '2000', '1500', 'NaN', '2500', '2500'],\n",
        "    'Género': ['F', 'M', 'M', 'Femenino', 'Masculino', 'M', 'M']\n",
        "}\n",
        "df = pd.DataFrame(data)\n",
        "df.head(3)"
      ],
      "metadata": {
        "id": "yjsUDEqEIvos"
      },
      "execution_count": null,
      "outputs": []
    },
    {
      "cell_type": "markdown",
      "source": [
        "##1.2. Perfilado de datos\n",
        "\n",
        "Se realiza un análisis exploratorio inicial para comprender la estructura, el contenido y la calidad del conjunto de datos:"
      ],
      "metadata": {
        "id": "JnYQ8o8nIrol"
      }
    },
    {
      "cell_type": "code",
      "source": [
        "# Estructura general\n",
        "df.info()"
      ],
      "metadata": {
        "id": "mXjoPdDrJFu-"
      },
      "execution_count": null,
      "outputs": []
    },
    {
      "cell_type": "code",
      "source": [
        "df.describe(include='all')"
      ],
      "metadata": {
        "id": "WhvfCNMlKX4O"
      },
      "execution_count": null,
      "outputs": []
    },
    {
      "cell_type": "code",
      "source": [
        "# Conteo de valores nulos\n",
        "print('CONTEO DE VALORES NULOS')\n",
        "print('-------------------------')\n",
        "print(df.isnull().sum())\n",
        "\n",
        "# Identificación de duplicados\n",
        "print('\\nIDENTIFICACIÓN DE DUPLICADOS')\n",
        "print('-------------------------')\n",
        "print(\"Duplicados:\", df.duplicated().sum())\n",
        "\n",
        "# Valores únicos en la columna 'Género'\n",
        "print('\\nVALORES ÚNICOS COLUMNA GÉNERO')\n",
        "print('-------------------------')\n",
        "print(df['Género'].value_counts())"
      ],
      "metadata": {
        "id": "x0aELsZbKhHt"
      },
      "execution_count": null,
      "outputs": []
    },
    {
      "cell_type": "markdown",
      "source": [
        "Es importante observar que la variable ingreso está representada como cadena de caracteres, por lo que será necesario convertirla en una variable numérica."
      ],
      "metadata": {
        "id": "fOsW5icoPxqO"
      }
    },
    {
      "cell_type": "markdown",
      "source": [
        "##1.3.Preprocesamiento o limpieza de datos"
      ],
      "metadata": {
        "id": "Wn07ELarJF5t"
      }
    },
    {
      "cell_type": "markdown",
      "source": [
        "###1.3.1. Eliminar duplicados\n",
        "\n",
        "Se eliminarán los duplicados de la siguiente forma:\n"
      ],
      "metadata": {
        "id": "0N_iCLxBLmYX"
      }
    },
    {
      "cell_type": "code",
      "source": [
        "df = df.drop_duplicates()\n",
        "df"
      ],
      "metadata": {
        "id": "ILwTK796LvcV"
      },
      "execution_count": null,
      "outputs": []
    },
    {
      "cell_type": "markdown",
      "source": [
        "###1.3.2. Tratamiento de valores nulos\n",
        "\n",
        "Se realizarán varias acciones:\n",
        "- Se eliminarán los registros que tengan valores nulos en el nombre.\n",
        "- Para la edad, se reemplazarán los valores nulos con el promedio de la columna.\n",
        "- La variable ingresos se pasará a numérica.\n",
        "- Para los ingresos, se reemplazarán los valores nulos con el promedio de la columna.\n",
        "\n",
        "Inicialmente se eliminan los registros que tengan valores nulos en el nombre."
      ],
      "metadata": {
        "id": "RspEx65XLvml"
      }
    },
    {
      "cell_type": "code",
      "source": [
        "df = df.dropna(subset=['Nombre'])\n",
        "df\n"
      ],
      "metadata": {
        "id": "YHT3VPvWMn1G"
      },
      "execution_count": null,
      "outputs": []
    },
    {
      "cell_type": "markdown",
      "source": [
        "Se reemplazarán los valores nulos con el promedio de la columna para la edad:"
      ],
      "metadata": {
        "id": "_jEYFk0ONDLd"
      }
    },
    {
      "cell_type": "code",
      "source": [
        "promedio_edad = df['Edad'].mean()\n",
        "df.loc[:, 'Edad'] = df['Edad'].fillna(promedio_edad)\n",
        "df"
      ],
      "metadata": {
        "id": "VLqkHkprM-pt"
      },
      "execution_count": null,
      "outputs": []
    },
    {
      "cell_type": "markdown",
      "source": [
        "Se pasan los ingresos a numéricos:"
      ],
      "metadata": {
        "id": "LC1PRZeaQfhe"
      }
    },
    {
      "cell_type": "code",
      "source": [
        "df.loc[:, 'Ingreso'] = pd.to_numeric(df['Ingreso'], errors='coerce')"
      ],
      "metadata": {
        "id": "QrduieJSQf1N"
      },
      "execution_count": null,
      "outputs": []
    },
    {
      "cell_type": "markdown",
      "source": [
        "Se reemplazarán los valores nulos con el promedio de la columna para los Ingresos:"
      ],
      "metadata": {
        "id": "pZp9gkrSSXu1"
      }
    },
    {
      "cell_type": "code",
      "source": [
        "promedio_ingreso = df['Ingreso'].mean()\n",
        "df.loc[:, 'Ingreso'] = df['Ingreso'].fillna(promedio_ingreso)\n",
        "df"
      ],
      "metadata": {
        "id": "nP5TTqv2RKi-"
      },
      "execution_count": null,
      "outputs": []
    },
    {
      "cell_type": "markdown",
      "source": [
        "##1.4. Transformación de datos\n",
        "\n",
        "Para este conjunto de datos en particular realizaremos 4 acciones:\n",
        "- Estandarizar valores de la columna “Género”\n",
        "- Crear una nueva columna “Ingreso_mensual”\n",
        "- Codificar variable categórica “Ciudad”\n",
        "\n"
      ],
      "metadata": {
        "id": "nk91yyQrMoDl"
      }
    },
    {
      "cell_type": "markdown",
      "source": [
        "###1.4.1 Estandarizar valores de la columna “Género”\n",
        "\n",
        "Se convierten los caracteres a mayúsculas para estandarizar:"
      ],
      "metadata": {
        "id": "HvEBcAr6S2QO"
      }
    },
    {
      "cell_type": "code",
      "source": [
        "df.loc[:,'Género'] = df['Género'].str.upper()\n",
        "df"
      ],
      "metadata": {
        "id": "IP3tBN4zTCtl"
      },
      "execution_count": null,
      "outputs": []
    },
    {
      "cell_type": "markdown",
      "source": [
        "Se realiza un mapeo de equivalencias:"
      ],
      "metadata": {
        "id": "nRNCmCuyTSde"
      }
    },
    {
      "cell_type": "code",
      "source": [
        "df.loc[:, 'Género'] = df['Género'].replace({\n",
        "    'FEMENINO': 'F',\n",
        "    'MASCULINO': 'M',\n",
        "    'F': 'F',\n",
        "    'M': 'M'\n",
        "})\n",
        "df"
      ],
      "metadata": {
        "id": "OzEg7KOaTZAs"
      },
      "execution_count": null,
      "outputs": []
    },
    {
      "cell_type": "markdown",
      "source": [
        "###1.4.2 Crear una nueva columna “Ingreso_mensual”"
      ],
      "metadata": {
        "id": "5E7IpTayTC0X"
      }
    },
    {
      "cell_type": "code",
      "source": [
        "df.loc[:, 'Ingreso_mensual'] = df['Ingreso'] / 12"
      ],
      "metadata": {
        "id": "H1S6BfOcUP9m"
      },
      "execution_count": null,
      "outputs": []
    },
    {
      "cell_type": "markdown",
      "source": [
        "###1.4.3 Codificar variable categórica “Ciudad”"
      ],
      "metadata": {
        "id": "GmnQKRcZUQEd"
      }
    },
    {
      "cell_type": "code",
      "source": [
        "df['Ciudad_cod'] = df['Ciudad'].astype('category').cat.codes\n",
        "df"
      ],
      "metadata": {
        "id": "nbBD7ao1VbPW"
      },
      "execution_count": null,
      "outputs": []
    },
    {
      "cell_type": "markdown",
      "source": [
        "##1.5. Visualización exploratoria\n",
        "\n",
        "- Histograma de edades"
      ],
      "metadata": {
        "id": "1OJFh_GqVbcG"
      }
    },
    {
      "cell_type": "code",
      "source": [
        "df['Edad'].hist(bins=8, color='skyblue', edgecolor='black')\n",
        "plt.title(\"Distribución de Edad\")\n",
        "plt.xlabel(\"Edad\")\n",
        "plt.ylabel(\"Frecuencia\")\n",
        "plt.show()"
      ],
      "metadata": {
        "id": "csr6KHcNWg7e"
      },
      "execution_count": null,
      "outputs": []
    },
    {
      "cell_type": "markdown",
      "source": [
        "- Boxplot de ingresos por género"
      ],
      "metadata": {
        "id": "6mq4RuUBWhKF"
      }
    },
    {
      "cell_type": "code",
      "source": [
        "df[['Género', 'Ingreso']].plot(kind='box')\n",
        "plt.title(\"Ingreso por Género\")\n",
        "plt.show()"
      ],
      "metadata": {
        "id": "KyvzDPWEWhR8"
      },
      "execution_count": null,
      "outputs": []
    },
    {
      "cell_type": "markdown",
      "source": [
        "- Relación Edad Ingreso\n",
        "\n",
        "\n",
        "\n",
        "\n"
      ],
      "metadata": {
        "id": "nZ6P9o-6Wi6W"
      }
    },
    {
      "cell_type": "code",
      "source": [
        "df.plot(kind='scatter', x='Edad', y='Ingreso', c='Ciudad_cod', colormap='viridis')\n",
        "plt.title(\"Relación Edad - Ingreso\")\n",
        "plt.grid(True)\n",
        "plt.show()"
      ],
      "metadata": {
        "id": "P3r6W2heXkjH"
      },
      "execution_count": null,
      "outputs": []
    },
    {
      "cell_type": "markdown",
      "source": [
        "#2.Manejo de valores atípicos\n",
        "\n",
        "Se presenta un ejemplo para observar el manejo de valores atípicos.\n",
        "\n",
        "Inicialmente se cargan las librerías a emplear:"
      ],
      "metadata": {
        "id": "WjDTNdY4ZFMw"
      }
    },
    {
      "cell_type": "code",
      "source": [
        "import pandas as pd\n",
        "import numpy as np\n",
        "import matplotlib.pyplot as plt\n",
        "pd.set_option('future.no_silent_downcasting', True)"
      ],
      "metadata": {
        "id": "8_LQD8E2ZTWG"
      },
      "execution_count": null,
      "outputs": []
    },
    {
      "cell_type": "markdown",
      "source": [
        "Partimos del siguiente DataFrame creado manualmente para observar mejor el proceso. Se asume que los valores atípicos se presentan en los Ingresos y son 10000 y 12000."
      ],
      "metadata": {
        "id": "_-EBSbaUZTgM"
      }
    },
    {
      "cell_type": "code",
      "source": [
        "data = {\n",
        "    'ID': range(1, 11),\n",
        "    'Nombre': ['Ana', 'Luis', 'Marta', 'Juan', 'Sofía', 'Pedro', 'Laura', 'Carlos', 'Elena', 'Tomás'],\n",
        "    'Edad': [25, 30, 28, 32, 45, 29, 31, 27, 26, 33],\n",
        "    'Ingreso': [1000, 1100, 1200, 1150, 1080, 6000, 1050, 1020, 7000, 980]  # Outliers: 10000 y 12000\n",
        "}\n",
        "df = pd.DataFrame(data)\n",
        "df.head(3)"
      ],
      "metadata": {
        "id": "h3DddLPFZpP8"
      },
      "execution_count": null,
      "outputs": []
    },
    {
      "cell_type": "markdown",
      "source": [
        "##2.1. Identificar valores atípicos"
      ],
      "metadata": {
        "id": "Cnx8KD-OZpXp"
      }
    },
    {
      "cell_type": "markdown",
      "source": [
        "###2.1.1. Visualmente con un boxplot"
      ],
      "metadata": {
        "id": "sSQnF4x7aS6U"
      }
    },
    {
      "cell_type": "code",
      "source": [
        "df['Ingreso'].plot(kind='box')\n",
        "plt.title('Boxplot de Ingreso')\n",
        "plt.ylabel('Ingreso')\n",
        "plt.grid(True)\n",
        "plt.show()"
      ],
      "metadata": {
        "id": "XkKcttOUaSUW"
      },
      "execution_count": null,
      "outputs": []
    },
    {
      "cell_type": "markdown",
      "source": [
        "###2.1.2 Estadísticamente con IQR"
      ],
      "metadata": {
        "id": "AAr3k-QjaTcs"
      }
    },
    {
      "cell_type": "code",
      "source": [
        "# Calcular IQR\n",
        "Q1 = df['Ingreso'].quantile(0.25)\n",
        "Q3 = df['Ingreso'].quantile(0.75)\n",
        "IQR = Q3 - Q1\n",
        "\n",
        "# Límites para outliers\n",
        "limite_inferior = Q1 - 1.5 * IQR\n",
        "limite_superior = Q3 + 1.5 * IQR\n",
        "\n",
        "# Detectar outliers\n",
        "outliers = df[(df['Ingreso'] < limite_inferior) | (df['Ingreso'] > limite_superior)]\n",
        "print(\"Valores atípicos detectados:\")\n",
        "print(outliers)"
      ],
      "metadata": {
        "id": "L0s7jKUibCGl"
      },
      "execution_count": null,
      "outputs": []
    },
    {
      "cell_type": "markdown",
      "source": [
        "##2.2 Alternativa: Eliminar valores atípicos\n",
        "\n",
        "Una alternativa es eliminar los valores atípicos."
      ],
      "metadata": {
        "id": "CkSSww9EbCNA"
      }
    },
    {
      "cell_type": "code",
      "source": [
        "df_sin_outliers = df[(df['Ingreso'] >= limite_inferior) & (df['Ingreso'] <= limite_superior)]\n",
        "df_sin_outliers"
      ],
      "metadata": {
        "id": "EMZGEbo1bY91"
      },
      "execution_count": null,
      "outputs": []
    },
    {
      "cell_type": "markdown",
      "source": [
        "##2.3. Alternativa: Transformar valores atípicos\n",
        "\n",
        "Otra alternativa es transformar los valores atípicos. En este caso, los limitaremos a los percentiles:"
      ],
      "metadata": {
        "id": "sTVw2vZEbZE2"
      }
    },
    {
      "cell_type": "code",
      "source": [
        "p10 = df['Ingreso'].quantile(0.1)\n",
        "p90 = df['Ingreso'].quantile(0.90)\n",
        "df.loc[:, 'Transformado'] = df['Ingreso'].clip(lower=p10, upper=p90)\n",
        "df"
      ],
      "metadata": {
        "id": "NWtpA7ceb15F"
      },
      "execution_count": null,
      "outputs": []
    },
    {
      "cell_type": "markdown",
      "source": [
        "##2.4 Escalado logarítmico\n",
        "\n",
        "Otra alternativa es el escalado logarítmico, que reduce la escala de los valores atípicos. Se suma 1 para evitar log(0):"
      ],
      "metadata": {
        "id": "E0mhG47Lb2AD"
      }
    },
    {
      "cell_type": "code",
      "source": [
        "df.loc[:, 'Escalado'] = np.log(df['Ingreso'] + 1)\n",
        "df"
      ],
      "metadata": {
        "id": "9nqwDoF-cy2x"
      },
      "execution_count": null,
      "outputs": []
    },
    {
      "cell_type": "markdown",
      "source": [
        "##2.5. Visualización comparativa de los diferentes métodos"
      ],
      "metadata": {
        "id": "oMd8CvFedOIm"
      }
    },
    {
      "cell_type": "code",
      "source": [
        "plt.figure(figsize=(10, 6))\n",
        "plt.boxplot([df['Ingreso'], df_sin_outliers['Ingreso'], df['Transformado'], df['Escalado']],\n",
        "            tick_labels=['Original', 'Sin Outliers', 'Transformado', 'Escalado'])\n",
        "plt.title('Comparación de Métodos para el Manejo de Valores Atípicos')\n",
        "plt.ylabel('Ingreso')\n",
        "plt.show()\n"
      ],
      "metadata": {
        "id": "aXWyiq-4eGJk"
      },
      "execution_count": null,
      "outputs": []
    },
    {
      "cell_type": "markdown",
      "source": [
        "#3.Ejercicios de Preparación de Datos"
      ],
      "metadata": {
        "id": "-wwEeLlJXooO"
      }
    },
    {
      "cell_type": "markdown",
      "source": [
        "##3.1. Ejercicio 1"
      ],
      "metadata": {
        "id": "WS6pwEKTZdIr"
      }
    },
    {
      "cell_type": "code",
      "source": [
        "datos = {\n",
        "    'ciudad': ['Bogotá', 'Medellín', 'Cali', 'Barranquilla', 'Bogotá',\n",
        "               'Cali', 'Bucaramanga', 'Cartagena', 'Manizales', 'Bogotá'],\n",
        "    'nombre': ['Ana', 'Luis', np.nan, 'Marta', 'Lucía', 'Carlos',\n",
        "               'Pedro', 'Elena', 'David', 'Ana'],\n",
        "    'edad': [25, 30, 22, np.nan, 28, 22, 35, 27, np.nan, 25],\n",
        "    'género': ['Femenino', 'M', 'Masculino', 'F', 'Femenino',\n",
        "               'Masculino', 'Masculino', 'Femenino', 'Masculino', 'Femenino'],\n",
        "    'ingreso': [2200, 3500, 1800, 2100, 2600, 1800, 4000, 2900, 3100, 2200]\n",
        "}\n",
        "df = pd.DataFrame(datos)"
      ],
      "metadata": {
        "id": "R5oavva0YwSJ"
      },
      "execution_count": null,
      "outputs": []
    },
    {
      "cell_type": "markdown",
      "source": [
        "##3.2. Ejercicio 2"
      ],
      "metadata": {
        "id": "jD9OxHE3ZmFL"
      }
    },
    {
      "cell_type": "code",
      "source": [
        "datos = {\n",
        "    'departamento': ['Ventas', 'Finanzas', 'TI', 'Recursos Humanos', 'TI',\n",
        "                     'Ventas', 'Marketing', 'Finanzas', 'Marketing', 'TI'],\n",
        "    'nombre': ['Carlos', 'Ana', 'Luis', 'Marta', 'Luis',\n",
        "               'Carlos', 'Lucía', 'Ana', 'Lucía', 'Pedro'],\n",
        "    'género': ['Masculino', 'Femenino', 'Masculino', 'Femenino', 'Masculino',\n",
        "               'Masculino', 'Femenino', 'Femenino', 'Femenino', 'Masculino'],\n",
        "    'edad': [35, 29, 41, 38, 41, 35, 27, np.nan, 27, np.nan],\n",
        "    'antigüedad': [5, 2, 10, 4, 10, 5, 3, 1, 3, 7],\n",
        "    'salario': [35000, 28000, 50000, 30000, 50000,\n",
        "                35000, 26000, 28000, np.nan, 45000]\n",
        "}\n",
        "df = pd.DataFrame(datos)"
      ],
      "metadata": {
        "id": "XN0C5dphZY8q"
      },
      "execution_count": null,
      "outputs": []
    },
    {
      "cell_type": "markdown",
      "source": [
        "##3.3. Ejercicio 3"
      ],
      "metadata": {
        "id": "qJg0T3iQGXV_"
      }
    },
    {
      "cell_type": "code",
      "source": [
        "ruta_archivo = 'https://github.com/FerneyOAmaya/Competencias-Digitales/blob/master/DB_AnalisisDatos.xlsx?raw=true'\n",
        "\n",
        "#Cargar el archivo en formato Excel\n",
        "df = pd.read_excel(ruta_archivo)\n",
        "df"
      ],
      "metadata": {
        "id": "rNnBKnprGctu"
      },
      "execution_count": null,
      "outputs": []
    }
  ]
}