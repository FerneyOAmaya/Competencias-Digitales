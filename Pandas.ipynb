{
  "nbformat": 4,
  "nbformat_minor": 0,
  "metadata": {
    "colab": {
      "provenance": [],
      "toc_visible": true
    },
    "kernelspec": {
      "name": "python3",
      "display_name": "Python 3"
    },
    "language_info": {
      "name": "python"
    }
  },
  "cells": [
    {
      "cell_type": "markdown",
      "source": [
        "#Pandas\n",
        "\n",
        "Pandas es una de las librerías más utilizadas en Python para el análisis y manipulación de datos. Proporciona estructuras de datos flexibles y eficientes, como DataFrames y Series, que permiten trabajar con datos estructurados de manera similar a hojas de cálculo o bases de datos.\n",
        "\n",
        "En este cuaderno se aborda como crear y manipular Dataframes, el tipo de datos más flexible de Pandas.\n",
        "\n",
        "Por:\n",
        "\n",
        "Ferney Orlando Amaya Fernández"
      ],
      "metadata": {
        "id": "s-IfYR61jQTO"
      }
    },
    {
      "cell_type": "markdown",
      "source": [
        "###Se importan las librerías\n",
        "Para realizar operaciones con Pandas debe importarse la librería pandas. En este cuaderno también se emplean las librerías numpy y matplotlib."
      ],
      "metadata": {
        "id": "xsErJNpye2ZN"
      }
    },
    {
      "cell_type": "code",
      "source": [
        "import pandas as pd\n",
        "import numpy as np\n",
        "import matplotlib.pyplot as plt"
      ],
      "metadata": {
        "id": "iPnF5FsbqNuD"
      },
      "execution_count": null,
      "outputs": []
    },
    {
      "cell_type": "markdown",
      "source": [
        "#1.Crear Dataframes\n",
        "\n",
        "Se presentan diferentes formas de crear Dataframes."
      ],
      "metadata": {
        "id": "3VxfodBdj42l"
      }
    },
    {
      "cell_type": "markdown",
      "source": [
        "##1.1. A partir de diccionarios y listas\n",
        "\n",
        "La siguiente Tabla se presenta como ejemplo para generar un Dataframe de diferentes formas:\n",
        "\n",
        "|index|\tA |\tB |\n",
        "|-----|---|---|\n",
        "|0|1|x|\n",
        "|1|2|y|"
      ],
      "metadata": {
        "id": "e43gFybSfvx7"
      }
    },
    {
      "cell_type": "markdown",
      "source": [
        "- En forma de diccionario, cada columna es una lista:"
      ],
      "metadata": {
        "id": "WK1EeHXne7yK"
      }
    },
    {
      "cell_type": "code",
      "source": [
        "pd.DataFrame({\"A\": [1, 2], \"B\": [\"x\", \"y\"]})"
      ],
      "metadata": {
        "id": "y9uaaBJcqFqb"
      },
      "execution_count": null,
      "outputs": []
    },
    {
      "cell_type": "markdown",
      "source": [
        "- En forma de lista, cada fila es un diccionario"
      ],
      "metadata": {
        "id": "mXLLuWLrfDFA"
      }
    },
    {
      "cell_type": "code",
      "source": [
        "pd.DataFrame([{\"A\": 1, \"B\": \"x\"}, {\"A\": 2, \"B\": \"y\"}])"
      ],
      "metadata": {
        "id": "Ih7RNp4mr_Le"
      },
      "execution_count": null,
      "outputs": []
    },
    {
      "cell_type": "markdown",
      "source": [
        "- En forma de lista, cada fila es una lista, se definen los nombres de las columnas"
      ],
      "metadata": {
        "id": "Z2Usoe81fODa"
      }
    },
    {
      "cell_type": "code",
      "source": [
        "pd.DataFrame([[1, \"x\"], [2, \"y\"]], columns=[\"A\", \"B\"])"
      ],
      "metadata": {
        "id": "-lL2lMHktYkb"
      },
      "execution_count": null,
      "outputs": []
    },
    {
      "cell_type": "markdown",
      "source": [
        "##1.2. Crear un Dataframe a partir de un arreglo en Numpy"
      ],
      "metadata": {
        "id": "VavIwOJLuUyZ"
      }
    },
    {
      "cell_type": "code",
      "source": [
        "pd.DataFrame(np.array([[1, 2], [3, 4]]), columns=[\"A\", \"B\"])"
      ],
      "metadata": {
        "id": "KBXAMKchtdcW"
      },
      "execution_count": null,
      "outputs": []
    },
    {
      "cell_type": "markdown",
      "source": [
        "## 1.3. A partir de archivos\n",
        "\n",
        "Pueden también crearse Dataframes a partir de archivos en formato csv, JSON o Excel.\n",
        "A continuación se creará un Dataframe a partir de un archivo en formato csv suministrando en enlace al archivo:"
      ],
      "metadata": {
        "id": "ee7WXHFZ0KEp"
      }
    },
    {
      "cell_type": "code",
      "source": [
        "enlace_csv = 'https://github.com/FerneyOAmaya/Competencias-Digitales/blob/master/H2020Medellin.csv?raw=true'\n",
        "df = pd.read_csv(enlace_csv)"
      ],
      "metadata": {
        "id": "po8Mr0YR2XYv"
      },
      "execution_count": null,
      "outputs": []
    },
    {
      "cell_type": "markdown",
      "source": [
        "A continuación se creará un Dataframe a partir de un archivo en formato Excel suministrando el enlace al archivo:"
      ],
      "metadata": {
        "id": "KF-VlfP_2l8p"
      }
    },
    {
      "cell_type": "code",
      "source": [
        "enlace_xlsx = 'https://github.com/FerneyOAmaya/Competencias-Digitales/blob/master/DB_AnalisisDatos.xlsx?raw=true'\n",
        "df = pd.read_excel(enlace_xlsx, sheet_name=0) #Abre la prinera hoja"
      ],
      "metadata": {
        "id": "4KaAvdoqsPbT"
      },
      "execution_count": null,
      "outputs": []
    },
    {
      "cell_type": "markdown",
      "source": [
        "Cuando se abre un archivo como un .csv o .xlsx desde un URL de GitHub, se está viendo una página HTML de vista previa, no el archivo real. Al añadir *raw=true?* a la URL se le dice a GitHub que no muestre la vista previa del archivo, si no que entregue el archivo real (bruto=raw)."
      ],
      "metadata": {
        "id": "mIVVGOxs3pz4"
      }
    },
    {
      "cell_type": "markdown",
      "source": [
        "#2.Exploración inicial de un Dataframe\n",
        "\n",
        "A continuación se presentan las formas de exploración inicial que pueden realizarse sobre un Dataframe.\n",
        "\n",
        "Se creará inicialmente el Dataframe  *df* a partir de un archivo en Excel."
      ],
      "metadata": {
        "id": "8e2P_y694v9Q"
      }
    },
    {
      "cell_type": "code",
      "source": [
        "enlace_xlsx = 'https://github.com/FerneyOAmaya/Competencias-Digitales/blob/master/DB_AnalisisDatos.xlsx?raw=true'\n",
        "df = pd.read_excel(enlace_xlsx, sheet_name=0) #Abre la prinera hoja"
      ],
      "metadata": {
        "id": "u5_jrXKE5asr"
      },
      "execution_count": null,
      "outputs": []
    },
    {
      "cell_type": "markdown",
      "source": [
        "Las operaciones son las siguientes:\n",
        "- Ver la dimensión de la tabla:"
      ],
      "metadata": {
        "id": "WRIL0USn5a7t"
      }
    },
    {
      "cell_type": "code",
      "source": [
        "df.shape"
      ],
      "metadata": {
        "id": "IsYpkM0GccjM"
      },
      "execution_count": null,
      "outputs": []
    },
    {
      "cell_type": "markdown",
      "source": [
        "- Tipo de datos de cada columna:"
      ],
      "metadata": {
        "id": "2rXf_C8dcc1n"
      }
    },
    {
      "cell_type": "code",
      "source": [
        "df.dtypes"
      ],
      "metadata": {
        "id": "yo6z5qhAcdHZ"
      },
      "execution_count": null,
      "outputs": []
    },
    {
      "cell_type": "markdown",
      "source": [
        "- Ver primeras filas:"
      ],
      "metadata": {
        "id": "tC_1VYq7cdWq"
      }
    },
    {
      "cell_type": "code",
      "source": [
        "df.head(3) #Muestra las primeras 3 filas"
      ],
      "metadata": {
        "id": "h_wg0uHN5wCr"
      },
      "execution_count": null,
      "outputs": []
    },
    {
      "cell_type": "markdown",
      "source": [
        "- Ver últimas filas:"
      ],
      "metadata": {
        "id": "LQk9y8f_5wr9"
      }
    },
    {
      "cell_type": "code",
      "source": [
        "df.tail(2) #Muestra las últimas 2 filas."
      ],
      "metadata": {
        "id": "ab84LZzJ59hJ"
      },
      "execution_count": null,
      "outputs": []
    },
    {
      "cell_type": "markdown",
      "source": [
        "- Información del DataFrame:"
      ],
      "metadata": {
        "id": "Z9nICBJp59v8"
      }
    },
    {
      "cell_type": "code",
      "source": [
        "df.info() #Muestra tipos de datos y valores no nulos para cada columna del Dataframe"
      ],
      "metadata": {
        "id": "J2VOValq6Or4"
      },
      "execution_count": null,
      "outputs": []
    },
    {
      "cell_type": "markdown",
      "source": [
        "- Presenta un resumen estadístico de las columnas numéricas del Dataframe:"
      ],
      "metadata": {
        "id": "MI1QFHht6O6g"
      }
    },
    {
      "cell_type": "code",
      "source": [
        "df.describe()"
      ],
      "metadata": {
        "id": "e5DCUI326q2p"
      },
      "execution_count": null,
      "outputs": []
    },
    {
      "cell_type": "markdown",
      "source": [
        "#3.Acceder a elementos de un Dataframe\n",
        "\n",
        "Los ejemplos para acceder a un Dataframe se realizarán a partir de la siguiente tabla:\n",
        "\n",
        "|Index|'Nombre'|'Edad'|'Ciudad'|\n",
        "|-|-|-|-|\n",
        "|'a'|'Ana'|23|'Lima'|\n",
        "|'b'|'Luis'|25|'Bogotá'|\n",
        "|'c'|'Carlos'|30|'Quito'|\n",
        "\n",
        "El código para crear el Dataframe es el siguiente:"
      ],
      "metadata": {
        "id": "ras1lWeH6rF_"
      }
    },
    {
      "cell_type": "code",
      "source": [
        "df = pd.DataFrame({\n",
        "    'Nombre': ['Ana', 'Luis', 'Carlos'],\n",
        "    'Edad': [23, 25, 30],\n",
        "    'Ciudad': ['Lima', 'Bogotá', 'Quito']\n",
        "}, index=['a', 'b', 'c'])"
      ],
      "metadata": {
        "id": "og9oi40yFZ5s"
      },
      "execution_count": null,
      "outputs": []
    },
    {
      "cell_type": "markdown",
      "source": [
        "##3.1. Acceso a nombres de columnas\n",
        "\n",
        "Los nombres de las columnas se pueden obtener de la siguiente forma:"
      ],
      "metadata": {
        "id": "CGn_ASdqDV1P"
      }
    },
    {
      "cell_type": "code",
      "source": [
        "df.columns"
      ],
      "metadata": {
        "id": "GGp8XkgdDlh5"
      },
      "execution_count": null,
      "outputs": []
    },
    {
      "cell_type": "markdown",
      "source": [
        "##3.2. Acceso a Columnas\n",
        "\n",
        "Se puede acceder a las columnas de un DataFrame de varias formas. Aquí se presentan dos:\n",
        "\n",
        "- Por nombre, solo si el nombre no tiene espacios ni caracteres especiales:\n",
        "```\n",
        "df.nombre_columna\n",
        "```\n",
        "Por ejemplo, para acceder a los nombres se emplea:"
      ],
      "metadata": {
        "id": "yvg_vvPWDmHI"
      }
    },
    {
      "cell_type": "code",
      "source": [
        "df.Nombre"
      ],
      "metadata": {
        "id": "kHkWrhnDECk_"
      },
      "execution_count": null,
      "outputs": []
    },
    {
      "cell_type": "markdown",
      "source": [
        "- Usando corchetes con el nombre de la columna:\n",
        "```\n",
        "df['nombre_columna']\n",
        "```\n",
        "Por ejemplo, para acceder a las ciudades se emplea:"
      ],
      "metadata": {
        "id": "pVBLetWhEC14"
      }
    },
    {
      "cell_type": "code",
      "source": [
        "df['Ciudad']"
      ],
      "metadata": {
        "id": "Hnt2N_taEqOz"
      },
      "execution_count": null,
      "outputs": []
    },
    {
      "cell_type": "markdown",
      "source": [
        "- Si se quiere acceder a varias columnas:"
      ],
      "metadata": {
        "id": "WF-Z6b3xEqm0"
      }
    },
    {
      "cell_type": "code",
      "source": [
        "df[['Nombre', 'Edad']]"
      ],
      "metadata": {
        "id": "jpRsHX3fEww7"
      },
      "execution_count": null,
      "outputs": []
    },
    {
      "cell_type": "markdown",
      "source": [
        "##3.3. Uso de `loc[]`\n",
        "loc permite acceder a datos del Dataframe empleando etiquetas, es decir, los nombres de filas (etiquetas de los índices) y columnas.\n",
        "\n",
        "Para acceder a un valor específico se emplea:\n",
        "```\n",
        "df.loc[etiqueta_fila, nombre_columna]\n",
        "```\n",
        "Se presentan varios ejemplos:\n",
        "- Acceder a una fila:"
      ],
      "metadata": {
        "id": "T00SolPRExAH"
      }
    },
    {
      "cell_type": "code",
      "source": [
        "df.loc['b']        \t# Fila con etiqueta 'b'"
      ],
      "metadata": {
        "id": "0WEqrDvtFKsR"
      },
      "execution_count": null,
      "outputs": []
    },
    {
      "cell_type": "markdown",
      "source": [
        "- Acceder a una columna:"
      ],
      "metadata": {
        "id": "EiHA7DG2FLC0"
      }
    },
    {
      "cell_type": "code",
      "source": [
        "df.loc[:, 'Edad']  \t# Columna 'Edad'"
      ],
      "metadata": {
        "id": "SxynPec6FTcd"
      },
      "execution_count": null,
      "outputs": []
    },
    {
      "cell_type": "markdown",
      "source": [
        "- Acceder a un valor:\n"
      ],
      "metadata": {
        "id": "qm_6eCGaFTr0"
      }
    },
    {
      "cell_type": "code",
      "source": [
        "df.loc['c', 'Ciudad'] \t# Valor específico"
      ],
      "metadata": {
        "id": "yWFOthDUFbks"
      },
      "execution_count": null,
      "outputs": []
    },
    {
      "cell_type": "markdown",
      "source": [
        "##3.4. Uso de `iloc[]`\n",
        "iloc permite acceder a datos del Dataframe empleando las posiciones numéricas (índices enteros) como si fueran listas.\n",
        "\n",
        "Para acceder a un valor específico se emplea:\n",
        "```\n",
        "df.iloc[posicion_fila, posicion_columna]\n",
        "```\n",
        "Se presentan varios ejemplos:\n",
        "- Acceder a una fila:"
      ],
      "metadata": {
        "id": "sSLhQmPmFbys"
      }
    },
    {
      "cell_type": "code",
      "source": [
        "df.iloc[1]       \t# Segunda fila, fila 1"
      ],
      "metadata": {
        "id": "1oimj_3QFxbH"
      },
      "execution_count": null,
      "outputs": []
    },
    {
      "cell_type": "markdown",
      "source": [
        "- Acceder a una columna:"
      ],
      "metadata": {
        "id": "BCqiVE5GFxsH"
      }
    },
    {
      "cell_type": "code",
      "source": [
        "df.iloc[:, 2]      \t# Tercera columna, columna 2"
      ],
      "metadata": {
        "id": "NCvFpxfPF9tc"
      },
      "execution_count": null,
      "outputs": []
    },
    {
      "cell_type": "markdown",
      "source": [
        "- Acceder a un valor:"
      ],
      "metadata": {
        "id": "CchHn4fOF-E7"
      }
    },
    {
      "cell_type": "code",
      "source": [
        "df.iloc[1, 2] \t\t# Valor específico, fila 1, columna 2"
      ],
      "metadata": {
        "id": "_l3A2HgTGDgT"
      },
      "execution_count": null,
      "outputs": []
    },
    {
      "cell_type": "markdown",
      "source": [
        "##3.5. Acceso a índices\n",
        "Los índices de un DataFrame se pueden acceder mediante:\n"
      ],
      "metadata": {
        "id": "JSwwhsWQGD0b"
      }
    },
    {
      "cell_type": "code",
      "source": [
        "df.index"
      ],
      "metadata": {
        "id": "x4a5Y4Z6GW6e"
      },
      "execution_count": null,
      "outputs": []
    },
    {
      "cell_type": "markdown",
      "source": [
        "##3.6. Acceso a los valores\n",
        "Para obtener todos los valores como un arreglo se emplea:"
      ],
      "metadata": {
        "id": "dnESNwx0GXOu"
      }
    },
    {
      "cell_type": "code",
      "source": [
        "df.values"
      ],
      "metadata": {
        "id": "yvky-BNOGeXv"
      },
      "execution_count": null,
      "outputs": []
    },
    {
      "cell_type": "markdown",
      "source": [
        "##3.7. Acceso a valores por condición\n",
        "Se presentan algunos ejemplos:\n",
        "- Acceder a todas las filas donde la columna 'Edad' es mayor a 25:\n"
      ],
      "metadata": {
        "id": "zDf3n_xAGen1"
      }
    },
    {
      "cell_type": "code",
      "source": [
        "df[df['Edad'] > 25]"
      ],
      "metadata": {
        "id": "ST-YEtvkGpIk"
      },
      "execution_count": null,
      "outputs": []
    },
    {
      "cell_type": "markdown",
      "source": [
        "- Acceder a todas las filas donde la ciudad es 'Lima':"
      ],
      "metadata": {
        "id": "wc2rAV3eGpYc"
      }
    },
    {
      "cell_type": "code",
      "source": [
        "df[df['Ciudad'] == 'Lima']"
      ],
      "metadata": {
        "id": "w5kxHh1ZGwG6"
      },
      "execution_count": null,
      "outputs": []
    },
    {
      "cell_type": "markdown",
      "source": [
        "- Acceder a filas por condición. Se usa & (AND), | (OR), ~ (NOT). Se encierra cada condición en paréntesis. En este ejemplo se accede a las filas donde la edad está entre 24 y 30:\n"
      ],
      "metadata": {
        "id": "NyX59JM3GwVu"
      }
    },
    {
      "cell_type": "code",
      "source": [
        "df[(df['Edad'] >= 24) & (df['Edad'] <= 30)]"
      ],
      "metadata": {
        "id": "ousnkEHQG3kc"
      },
      "execution_count": null,
      "outputs": []
    },
    {
      "cell_type": "markdown",
      "source": [
        "- Para acceder a columnas específicas, normalmente se realiza después de aplicar una condición a las filas. Para acceder solo la columna 'Nombre' de las filas que cumplen la condición:"
      ],
      "metadata": {
        "id": "AWHdWSxTG307"
      }
    },
    {
      "cell_type": "code",
      "source": [
        "df[df['Edad'] > 25]['Nombre']"
      ],
      "metadata": {
        "id": "DB7AEHgzHBSo"
      },
      "execution_count": null,
      "outputs": []
    },
    {
      "cell_type": "markdown",
      "source": [
        "\n",
        "- También puede obtenerse el resultado anterior de la siguiente forma:\n"
      ],
      "metadata": {
        "id": "PCxeXBMgHBif"
      }
    },
    {
      "cell_type": "code",
      "source": [
        "df.loc[df['Edad'] > 25, 'Nombre']"
      ],
      "metadata": {
        "id": "dfJO2hFDHEnm"
      },
      "execution_count": null,
      "outputs": []
    },
    {
      "cell_type": "markdown",
      "source": [
        "##3.8. Acceso a valores únicos de una columna\n",
        "\n",
        "Para acceder a los valores únicos de la columna 'Ciudad':"
      ],
      "metadata": {
        "id": "wjK8QssJ-6dD"
      }
    },
    {
      "cell_type": "code",
      "source": [
        "df['Ciudad'].unique()"
      ],
      "metadata": {
        "id": "MqOa7zxp_SUl"
      },
      "execution_count": null,
      "outputs": []
    },
    {
      "cell_type": "markdown",
      "source": [
        "#4.Adicionar y eliminar filas y columnas\n",
        "\n",
        "El siguiente Dataframe será empleado como ejemplo:"
      ],
      "metadata": {
        "id": "R-ra99V7J8GU"
      }
    },
    {
      "cell_type": "code",
      "source": [
        "df = pd.DataFrame({\n",
        "    'Nombre': ['Ana', 'Luis', 'Carlos'],\n",
        "    'Edad': [23, 25, 30],\n",
        "    'Ciudad': ['Lima', 'Bogotá', 'Quito']\n",
        "}, index=['a', 'b', 'c'])"
      ],
      "metadata": {
        "id": "MIeozoahKhEU"
      },
      "execution_count": null,
      "outputs": []
    },
    {
      "cell_type": "markdown",
      "source": [
        "##4.1. Adicionar columna\n",
        "\n",
        "Para crear una nueva columna:\n",
        "```\n",
        "df['NuevaColumna'] = [valor1, valor2, valor3, ...]\n",
        "```\n",
        "Por ejemplo, si queremos en el Dataframe anterior agregar una columna con el nombre \"Edad+5\" que tome el valor de la columna \"Edad\" y le sume 5 años:"
      ],
      "metadata": {
        "id": "AoKRskp5KhUT"
      }
    },
    {
      "cell_type": "code",
      "source": [
        "df['Edad+5'] = df['Edad'] + 5\n",
        "df"
      ],
      "metadata": {
        "id": "qeFEmw0EKx9A"
      },
      "execution_count": null,
      "outputs": []
    },
    {
      "cell_type": "markdown",
      "source": [
        "##4.2. Adicionar fila\n",
        "\n",
        "Para adicionar filas puede usarse loc con un nuevo índice:\n",
        "```\n",
        "df.loc[nuevo_indice] = ['valor1', 'valor2', ...]\n",
        "```\n",
        "Por ejemplo:"
      ],
      "metadata": {
        "id": "-AjoScfmLIga"
      }
    },
    {
      "cell_type": "code",
      "source": [
        "df.loc['d'] = ['Diego', 28, 'Arequipa', 28+5]\n",
        "df"
      ],
      "metadata": {
        "id": "8syXsRhtLbS-"
      },
      "execution_count": null,
      "outputs": []
    },
    {
      "cell_type": "markdown",
      "source": [
        "##4.3. Eliminar filas y columnas\n",
        "\n",
        "Para eliminar filas y columnas se puede emplear drop():\n",
        "```\n",
        "df.drop('Índice', axis=0, inplace=True)\n",
        "df.drop('Columna', axis=1, inplace=True)\n",
        "```\n",
        "- `axis=0` indica fila (por defecto).\n",
        "- `axis=1` indica columna.\n",
        "- `inplace=True` modifica el DataFrame original.\n",
        "\n",
        "Por ejemplo, si queremos eliminar la columna 'Edad+5'creada en el numeral anterior:\n"
      ],
      "metadata": {
        "id": "vh9Q8JBAKyO3"
      }
    },
    {
      "cell_type": "code",
      "source": [
        "df.drop('Edad+5', axis=1, inplace=True)\n",
        "df"
      ],
      "metadata": {
        "id": "Pomwmo_1LIPw"
      },
      "execution_count": null,
      "outputs": []
    },
    {
      "cell_type": "markdown",
      "source": [
        "Para eliminar la fila 'd':\n"
      ],
      "metadata": {
        "id": "xB-TzTyRLbiD"
      }
    },
    {
      "cell_type": "code",
      "source": [
        "df.drop('d', axis=0, inplace=True)  # Elimina la fila con índice 2\n",
        "df"
      ],
      "metadata": {
        "id": "A01Z77d6LlmV"
      },
      "execution_count": null,
      "outputs": []
    },
    {
      "cell_type": "markdown",
      "source": [
        "#5.Operaciones avanzadas con Dataframes\n",
        "\n",
        "Los ejemplos de operaciones avanzadas se realizarán con el siguiente Dataframe:"
      ],
      "metadata": {
        "id": "qftNT1DhZxkj"
      }
    },
    {
      "cell_type": "code",
      "source": [
        "data = {\n",
        "    'Departamento': ['Ventas', 'Ventas', 'Marketing', 'Marketing', 'RRHH', 'RRHH', 'Ventas'],\n",
        "    'Empleado': ['Ana', 'Luis', 'Carlos', 'Marta', 'Pedro', 'Julia', 'Andrés'],\n",
        "    'Edad': [28, 35, 30, np.nan, 45, 40, 29],\n",
        "    'Salario': [3000, 4000, 3500, 3700, np.nan, 3900, 3200]\n",
        "}\n",
        "\n",
        "df = pd.DataFrame(data)\n",
        "df"
      ],
      "metadata": {
        "id": "FsriJ1bf6wPU"
      },
      "execution_count": null,
      "outputs": []
    },
    {
      "cell_type": "markdown",
      "source": [
        "##5.1. Agregación\n",
        "\n",
        "groupby agrupa filas que comparten un mismo valor en una o más columnas, y luego permite aplicar funciones de agregación.\n",
        "\n",
        "La sintaxis básica es la siguiente:\n",
        "\n",
        "```\n",
        "df.groupby('Col1')['Col2'].función_agrupación()\n",
        "```\n",
        "\n",
        "Algunas funciones de agrupación comunes son:\n",
        "\n",
        "- `.mean()`\tPromedio\n",
        "- `.sum()`\tSuma total\n",
        "- `.count()`\tNúmero de elementos (no nulos)\n",
        "- `.min()`\tMínimo\n",
        "- `.max()`\tMáximo\n",
        "\n",
        "A continuación se presentan varios ejemplos a partir del Dataframe anterior.\n",
        "\n",
        "- Agrupar por departamento y calcular el salario promedio:"
      ],
      "metadata": {
        "id": "m98qgzTl6wk0"
      }
    },
    {
      "cell_type": "code",
      "source": [
        "df.groupby('Departamento')['Salario'].mean()"
      ],
      "metadata": {
        "id": "sMsnvG809qP6"
      },
      "execution_count": null,
      "outputs": []
    },
    {
      "cell_type": "markdown",
      "source": [
        "- Agrupar por múltiples columnas. En este ejemplo, se agrupa por combinaciones de Departamento + Empleado y suma los salarios:"
      ],
      "metadata": {
        "id": "AEto0z0y9qfh"
      }
    },
    {
      "cell_type": "code",
      "source": [
        "df.groupby(['Departamento', 'Empleado'])['Salario'].sum()"
      ],
      "metadata": {
        "id": "Fx0Hrgfb98QB"
      },
      "execution_count": null,
      "outputs": []
    },
    {
      "cell_type": "markdown",
      "source": [
        "- Ejemplo con varias funciones `agg()`"
      ],
      "metadata": {
        "id": "GqUznec_98hg"
      }
    },
    {
      "cell_type": "code",
      "source": [
        "df.groupby('Departamento').agg({'Salario': ['mean', 'sum', 'count']})"
      ],
      "metadata": {
        "id": "63cxjZfW-U7-"
      },
      "execution_count": null,
      "outputs": []
    },
    {
      "cell_type": "markdown",
      "source": [
        "##5.2. Rellenar o eliminar valores nulos\n",
        "\n",
        "Los valores nulos Pandas los interpreta como NaN.\n",
        "\n",
        "Pueden cambiarse los valores nulos por un valor definido:\n",
        "```\n",
        "df.fillna(valor_definido)\n",
        "```\n",
        "\n",
        "En el Dataframe de ejemplo hay varios valores nulos.\n",
        "\n",
        "Para rellenar los valores nulos con 0:"
      ],
      "metadata": {
        "id": "jRKN3OmX-VNh"
      }
    },
    {
      "cell_type": "code",
      "source": [
        "df_fill = df.fillna(0)\n",
        "df_fill"
      ],
      "metadata": {
        "id": "yVeA4hfeATiV"
      },
      "execution_count": null,
      "outputs": []
    },
    {
      "cell_type": "markdown",
      "source": [
        "Para eliminar registros con valores nulos solo en la columna 'Edad':"
      ],
      "metadata": {
        "id": "FKzuQLjgJN5i"
      }
    },
    {
      "cell_type": "code",
      "source": [
        "df = df.dropna(subset=['Edad'])\n",
        "df"
      ],
      "metadata": {
        "id": "3WiEmdL4JM-g"
      },
      "execution_count": null,
      "outputs": []
    },
    {
      "cell_type": "markdown",
      "source": [
        "Para eliminar filas con cualquier valor nulo"
      ],
      "metadata": {
        "id": "UeVMnDwsATxo"
      }
    },
    {
      "cell_type": "code",
      "source": [
        "df_drop = df.dropna()\n",
        "df_drop"
      ],
      "metadata": {
        "id": "Tiiks0_nAy5O"
      },
      "execution_count": null,
      "outputs": []
    },
    {
      "cell_type": "markdown",
      "source": [
        "##5.3. Renombrar columnas\n",
        "\n",
        "Para renombrar o cambiar los nombres a las columnas se emplea:\n",
        "```\n",
        "df.rename(columns={\"A\": \"Nuevo_A\"}, inplace=True)\n",
        "```\n",
        "\n",
        "Por ejemplo, si se quiere cambiar el nombre de la columna *Departamento* por *Área* y *Empleado* por *Nombre*"
      ],
      "metadata": {
        "id": "8Wx1kbu_AzNh"
      }
    },
    {
      "cell_type": "code",
      "source": [
        "df_renombrado = df.rename(columns={'Departamento': 'Área', 'Empleado': 'Nombre'})\n",
        "df_renombrado"
      ],
      "metadata": {
        "id": "tK4Tz3FwBVlI"
      },
      "execution_count": null,
      "outputs": []
    },
    {
      "cell_type": "markdown",
      "source": [
        "##5.4. Reiniciar el índice\n",
        "\n",
        "Para resetear o reiniciar el índice se emplea:\n",
        "```\n",
        "df.reset_index(drop=True)\n",
        "```\n",
        "\n",
        "Por ejemplo, si inicialmente se eliminan las filas con valores nulos empleando `dropna()` y luego quiere resetearse el índice:"
      ],
      "metadata": {
        "id": "4bx8fIlEBV2w"
      }
    },
    {
      "cell_type": "code",
      "source": [
        "#Eliminar las filas con NaN\n",
        "df.dropna(inplace=True)\n",
        "df"
      ],
      "metadata": {
        "id": "u44kgpHqCdbm"
      },
      "execution_count": null,
      "outputs": []
    },
    {
      "cell_type": "code",
      "source": [
        "#Resetear el índice\n",
        "df.reset_index(drop=True, inplace=True)\n",
        "df"
      ],
      "metadata": {
        "id": "0wVA-5BtCea8"
      },
      "execution_count": null,
      "outputs": []
    },
    {
      "cell_type": "markdown",
      "source": [
        "##5.5. Ordenar valores\n",
        "\n",
        "Para ordenar un Dataframe se emplea:\n",
        "```\n",
        "df.sort_values(\"Columna\", ascending=False)\n",
        "```\n",
        "\n",
        "Por ejemplo, si se quiere ordenar por *Edad* en forma descendente:"
      ],
      "metadata": {
        "id": "APCq9TZBCeqP"
      }
    },
    {
      "cell_type": "code",
      "source": [
        "df_descendente = df.sort_values(by='Edad', ascending=False)\n",
        "df_descendente"
      ],
      "metadata": {
        "id": "h5T6skmQDeTb"
      },
      "execution_count": null,
      "outputs": []
    },
    {
      "cell_type": "markdown",
      "source": [
        "Por ejemplo, si se quiere ordenar por Empleado en forma ascendente:"
      ],
      "metadata": {
        "id": "PS8gmHSUD6HW"
      }
    },
    {
      "cell_type": "code",
      "source": [
        "df_ascendente = df.sort_values(by='Edad', ascending=True)\n",
        "df_ascendente"
      ],
      "metadata": {
        "id": "GdeYbzTPD6V9"
      },
      "execution_count": null,
      "outputs": []
    },
    {
      "cell_type": "markdown",
      "source": [
        "#6.Visualización de valores del Dataframe\n",
        "\n",
        "Los ejemplos de visualización se realizarán con el siguiente Dataframe:"
      ],
      "metadata": {
        "id": "ipq3jgj0Fuvg"
      }
    },
    {
      "cell_type": "code",
      "source": [
        "np.random.seed(1)\n",
        "df = pd.DataFrame({\n",
        "    'Mes': ['Enero', 'Febrero', 'Marzo', 'Abril', 'Mayo', 'Junio'],\n",
        "    'Ventas': [250, 300, 260, 310, 400, 390],\n",
        "    'Costos': [180, 200, 190, 220, 250, 270],\n",
        "    'Satisfaccion': [4.1, 4.3, 3.8, 4.0, 4.5, 4.2],\n",
        "    'Clientes': np.random.randint(80, 150, size=6)\n",
        "})\n",
        "df"
      ],
      "metadata": {
        "id": "dnyrC25VF7iW"
      },
      "execution_count": null,
      "outputs": []
    },
    {
      "cell_type": "markdown",
      "source": [
        "##6.1. Gráfico de Barras\n",
        "\n",
        "Para generar un gráfico de barras de las ventas:"
      ],
      "metadata": {
        "id": "jTMW6ugWF71C"
      }
    },
    {
      "cell_type": "code",
      "source": [
        "df['Ventas'].plot(kind='bar', color='skyblue', title='Ventas Mensuales')"
      ],
      "metadata": {
        "id": "OVFEhR_BHeG-"
      },
      "execution_count": null,
      "outputs": []
    },
    {
      "cell_type": "markdown",
      "source": [
        "Si se desea colocar el nombre del mes, debe colocarse como índice. El gráfico con elementos adicionales es el siguiente:"
      ],
      "metadata": {
        "id": "XLANBSwmHu-k"
      }
    },
    {
      "cell_type": "code",
      "source": [
        "df.set_index('Mes')['Ventas'].plot(kind='bar', color='skyblue', title='Ventas Mensuales')\n",
        "plt.ylabel('Ventas ($)')\n",
        "plt.xticks(rotation=45)\n",
        "plt.show()"
      ],
      "metadata": {
        "id": "EsbNnb5rH3G3"
      },
      "execution_count": null,
      "outputs": []
    },
    {
      "cell_type": "markdown",
      "source": [
        "Si el gráfico de barras se desa horizontal, se asigna `kind='barh'`:"
      ],
      "metadata": {
        "id": "sVCzMkZMIS02"
      }
    },
    {
      "cell_type": "code",
      "source": [
        "df.set_index('Mes')['Ventas'].plot(kind='barh', color='skyblue', title='Ventas Mensuales')\n",
        "plt.ylabel('Ventas ($)')\n",
        "plt.xticks(rotation=45)\n",
        "plt.show()"
      ],
      "metadata": {
        "id": "ZIuqsETyITNL"
      },
      "execution_count": null,
      "outputs": []
    },
    {
      "cell_type": "markdown",
      "source": [
        "##6.2. Histograma\n",
        "\n",
        "Para generar un histograma de clientes:"
      ],
      "metadata": {
        "id": "3EZ3xZYeHeVh"
      }
    },
    {
      "cell_type": "code",
      "source": [
        "df['Clientes'].plot(kind='hist', bins=5, color='orange', title='Histograma de Clientes')"
      ],
      "metadata": {
        "id": "LsBK2nZfI-p3"
      },
      "execution_count": null,
      "outputs": []
    },
    {
      "cell_type": "markdown",
      "source": [
        "El histograma con más elementos:"
      ],
      "metadata": {
        "id": "Fo9Du33lI-6E"
      }
    },
    {
      "cell_type": "code",
      "source": [
        "df['Clientes'].plot(kind='hist', bins=5, color='orange', edgecolor='black', title='Histograma de Clientes')\n",
        "plt.xlabel('Clientes')\n",
        "plt.show()"
      ],
      "metadata": {
        "id": "O-YaPfIFI4d7"
      },
      "execution_count": null,
      "outputs": []
    },
    {
      "cell_type": "markdown",
      "source": [
        "##6.3. Gráfico de Líneas\n",
        "\n",
        "Para generar un gráfico de líneas de ventas en función de los costos:"
      ],
      "metadata": {
        "id": "2trd-EttI4uy"
      }
    },
    {
      "cell_type": "code",
      "source": [
        "df[['Ventas', 'Costos']].plot(kind='line', marker='o', title='Ventas vs Costos')"
      ],
      "metadata": {
        "id": "KDsWgh8OJcgC"
      },
      "execution_count": null,
      "outputs": []
    },
    {
      "cell_type": "markdown",
      "source": [
        "Un gráfico indicando el mes en el índice y con más elementos:"
      ],
      "metadata": {
        "id": "e8T-0p1qJc2A"
      }
    },
    {
      "cell_type": "code",
      "source": [
        "df.set_index('Mes')[['Ventas', 'Costos']].plot(kind='line', marker='o', title='Ventas vs Costos')\n",
        "plt.ylabel('Monto ($)')\n",
        "plt.xticks(rotation=45)\n",
        "plt.grid(True)\n",
        "plt.show()"
      ],
      "metadata": {
        "id": "Xmu-NUWCJdGS"
      },
      "execution_count": null,
      "outputs": []
    },
    {
      "cell_type": "markdown",
      "source": [
        "##6.4. Scatter Plot\n",
        "\n",
        "Para generar un gráfico tipo Scatter de Clientes vs Ventas con varios elementos:"
      ],
      "metadata": {
        "id": "lBZJhjpkJdUV"
      }
    },
    {
      "cell_type": "code",
      "source": [
        "df.plot(kind='scatter', x='Clientes', y='Ventas', color='green', title='Clientes vs Ventas')\n",
        "plt.grid(True)\n",
        "plt.show()"
      ],
      "metadata": {
        "id": "5KpO0G3_J8i9"
      },
      "execution_count": null,
      "outputs": []
    },
    {
      "cell_type": "markdown",
      "source": [
        "##6.5. Boxplot\n",
        "\n",
        "Para generar un gráfico tipo Boxplot de Ventas y Costos con varios elementos:"
      ],
      "metadata": {
        "id": "nqkJQwu3J8zG"
      }
    },
    {
      "cell_type": "code",
      "source": [
        "df[['Ventas', 'Costos']].plot(kind='box', title='Boxplot de Ventas y Costos')\n",
        "plt.show()"
      ],
      "metadata": {
        "id": "MOMdN_R1KQCb"
      },
      "execution_count": null,
      "outputs": []
    },
    {
      "cell_type": "markdown",
      "source": [
        "##6.6. Gráfico de Área\n",
        "\n",
        "Para generar un gráfico de Área de Ventas y Costos con varios elementos:"
      ],
      "metadata": {
        "id": "G6CslXNSKQWr"
      }
    },
    {
      "cell_type": "code",
      "source": [
        "df.set_index('Mes')[['Ventas', 'Costos']].plot(kind='area', stacked=True, colormap='Pastel1', title='Gráfico de Área')\n",
        "plt.ylabel('Monto ($)')\n",
        "plt.xticks(rotation=45)\n",
        "plt.show()"
      ],
      "metadata": {
        "id": "jmSRl2F9KsWJ"
      },
      "execution_count": null,
      "outputs": []
    },
    {
      "cell_type": "markdown",
      "source": [
        "#7.Exporta el Dataframe a un archivo\n",
        "\n",
        "Para guardar el DataFrame en un archivo  CSV:\n",
        "```\n",
        "df.to_csv(\"datos.csv\", sep=';', index=False)\n",
        "```\n",
        "con:\n",
        "- `index=False`: evita guardar índice\n",
        "- `sep=';'`: especifica el separador, en este caso punto y coma\n",
        "\n",
        "Para guardar el DataFrame en archivo  de excel:\n",
        "```\n",
        "df.to_excel('archivo.xlsx', sheet_name='HojaDatos',index=False)\n",
        "```\n",
        "con:\n",
        "- `index=False`: evita guardar índice\n",
        "- `sheet_name='HojaDatos'`: especifica el nombre de la hoja"
      ],
      "metadata": {
        "id": "THmrQ7oyMjF1"
      }
    }
  ]
}