{
  "nbformat": 4,
  "nbformat_minor": 0,
  "metadata": {
    "colab": {
      "name": "0_Python.ipynb",
      "provenance": [],
      "collapsed_sections": [],
      "toc_visible": true
    },
    "kernelspec": {
      "name": "python3",
      "display_name": "Python 3"
    }
  },
  "cells": [
    {
      "cell_type": "markdown",
      "metadata": {
        "id": "5Uimjphy8WNz"
      },
      "source": [
        "[![Open In Colab](https://colab.research.google.com/assets/colab-badge.svg)](https://colab.research.google.com/github/FerneyOAmaya/DataLiteracy/blob/master/0_Python.ipynb)\n",
        "\n",
        "#Introducción a Python\n",
        "\n",
        "Se presenta un breve resumen de los principales elementos para programar empleando Python.\n",
        "\n",
        "Por:\n",
        "\n",
        "Ferney Amaya Fernández <br>\n",
        "https://ferneyoamaya.github.io/ <br><br>\n",
        "\n",
        "Contenido:\n",
        "1. Generalidades.\n",
        "2. Tipos de datos y operaciones con datos.\n",
        "3. Estructuras de control.\n",
        "4. Referencias."
      ]
    },
    {
      "cell_type": "markdown",
      "metadata": {
        "id": "XZ6FiRW5-o-o"
      },
      "source": [
        "## 1.Generalidades\n",
        "\n",
        "Algunos aspectos de Python:\n",
        "- Emplea una nueva linea para completar el comando, no requiere punto y coma al final.\n",
        "- Emplea identación (sangría) en lazos, funciones, clases. Debe usarse al menos 1 espacio en blanco."
      ]
    },
    {
      "cell_type": "markdown",
      "metadata": {
        "id": "aJ08w-wwRVvv"
      },
      "source": [
        "### 1.1. Variables\n",
        "\n",
        "Las variables son creada al asignarles un valor por primera vez.\n",
        "\n",
        "Para nombrar variables:\n",
        "- Son sensibles a las mayúsculas y minúsculas (case-sensitive), las variables _Carro_ y _carro_ son diferentes.\n",
        "- Su nombre debe iniciar con letra o guión bajo (_), no con un número.\n",
        "- Pueden contener solo caracteres alfanuméricas y guión bajo  (A-z, 0-9, _ ).\n",
        "- No emplear palabras reservadas.\n",
        "\n",
        "Es importante tener en cuenta que al asignar una variable a otra, la nueva variable comparte la misma posición de memoria. Revisar la sección \"Operadores de identidad\".\n",
        "\n",
        "La función print() es empleada para visualizar el contenido de una variable.\n",
        "\n",
        "Asignar a la variable x el valor 5 y luego visualizar el valor:"
      ]
    },
    {
      "cell_type": "code",
      "metadata": {
        "id": "1Qvli5c1ReD5",
        "colab": {
          "base_uri": "https://localhost:8080/"
        },
        "outputId": "91c0e46b-51b2-40b1-b6b6-ffc8b1d90ac6"
      },
      "source": [
        "x = 5\n",
        "print(x)"
      ],
      "execution_count": null,
      "outputs": [
        {
          "output_type": "stream",
          "text": [
            "5\n"
          ],
          "name": "stdout"
        }
      ]
    },
    {
      "cell_type": "markdown",
      "metadata": {
        "id": "23q_KmkpR3E6"
      },
      "source": [
        "Pueden asignarse valores a múltiples variables en una línea:\n"
      ]
    },
    {
      "cell_type": "code",
      "metadata": {
        "id": "BcgZp01FSCJ1",
        "colab": {
          "base_uri": "https://localhost:8080/"
        },
        "outputId": "ccd2d78e-4336-4da5-9e37-2561ecffa196"
      },
      "source": [
        "x, y, z = \"Manzana\", \"Azul\", \"Edificio\"\n",
        "print(x,y,z)"
      ],
      "execution_count": null,
      "outputs": [
        {
          "output_type": "stream",
          "text": [
            "Manzana Azul Edificio\n"
          ],
          "name": "stdout"
        }
      ]
    },
    {
      "cell_type": "markdown",
      "metadata": {
        "id": "YVG2ccudRenX"
      },
      "source": [
        "### 1.2. Comentarios\n",
        "\n",
        "Pueden ser de una (empleando el caracter #) o varias líneas (empleando 3 comillas simples ' o 3 comillas dobles \"):\n",
        "\n",
        "\\# Comentario de una sola línea\n",
        "<br> <br>\n",
        "''' <br>\n",
        "Comentario <br>\n",
        "de varias <br>\n",
        "líneas <br>\n",
        "'''\n"
      ]
    },
    {
      "cell_type": "markdown",
      "metadata": {
        "id": "D5fbjoQ58npU"
      },
      "source": [
        "### 1.3. Tipos de datos\n",
        " \n",
        "Los tipos de datos nativos de Python son:\n",
        "- Numeric Types:\tint, float, complex\n",
        "- Boolean Type:\tbool\n",
        "- Text Type:\tstr\n",
        "- Sequence Types:\tlist, tuple, range\n",
        "- Mapping Type:\tdict\n",
        "- Set Types:\tset, frozenset\n",
        "- Binary Types:\tbytes, bytearray, memoryview\n",
        "\n",
        "Tomado de: \n",
        "https://www.w3schools.com/python/python_datatypes.asp.\n",
        "\n",
        "La función type() entrega el tipo de datos de una variable. "
      ]
    },
    {
      "cell_type": "markdown",
      "metadata": {
        "id": "NsNoqbL1BP3M"
      },
      "source": [
        "### 1.4. Operadores\n",
        "\n",
        "Python clasifica los operadores en los siguientes grupos:\n",
        "- Aritméticos\n",
        "- Asignamiento\n",
        "- Comparación\n",
        "- Lógicos\n",
        "- De identidad\n",
        "- De mebresía\n",
        "- Entre bits\n",
        "\n",
        "Más información en:\n",
        "https://www.w3schools.com/python/python_operators.asp"
      ]
    },
    {
      "cell_type": "markdown",
      "metadata": {
        "id": "Gqp9DhgvSSdS"
      },
      "source": [
        "### 1.5. Operador de asignamiento\n",
        "\n",
        "Para asignar un valor a una variable se emplea el operador =. \n",
        "Puede simplificarse la escritura, para un valor de x, al escribir:\n",
        "\n",
        "x 'operador' = 'valor'\n",
        "\n",
        "equivale a:\n",
        "\n",
        "x = x 'operador' 'valor'\n",
        "\n",
        "Ejemplos:\n"
      ]
    },
    {
      "cell_type": "code",
      "metadata": {
        "id": "NDWrXJtMVHM8",
        "colab": {
          "base_uri": "https://localhost:8080/"
        },
        "outputId": "3f34f63b-af72-44de-bc02-f9d8bfda8156"
      },
      "source": [
        "x = 7\n",
        "x +=3\n",
        "print(x)\n",
        "x *=3 \n",
        "print(x)"
      ],
      "execution_count": null,
      "outputs": [
        {
          "output_type": "stream",
          "text": [
            "10\n",
            "30\n"
          ],
          "name": "stdout"
        }
      ]
    },
    {
      "cell_type": "markdown",
      "metadata": {
        "id": "SONkdj1ceB9g"
      },
      "source": [
        "## 2.Tipos de datos numéricos y operadores aritméticos\n",
        "\n",
        "En general, los números pueden ser: enteros, reales o complejos. Los enteros:\n",
        "\n",
        "$$-\\infty, ...,-2,-1,0,1,2,, ...,\\infty$$\n",
        "\n",
        "Los valores reales son los que tienen cifras decimales. Los valores complejos tienen además parte imaginaria. \n",
        "\n",
        "En Python los tipos numéricos son: los enteros (int), los reales se representan en punto flotante (float) y también se tienen los números complejos (complex). Los valores decimales son separados por punto en Python.\n",
        "\n",
        "Lafunción type() entrega el tipo de variable.\n"
      ]
    },
    {
      "cell_type": "code",
      "metadata": {
        "id": "msjWWjudeWbX",
        "colab": {
          "base_uri": "https://localhost:8080/"
        },
        "outputId": "3ee50571-f678-462f-d1a7-0462569a6f05"
      },
      "source": [
        "a = 5       #Entero\n",
        "b = 5.0     #Flotante\n",
        "c = 1+2j    #Complejo\n",
        "print(type(a),type(b),type(c))"
      ],
      "execution_count": null,
      "outputs": [
        {
          "output_type": "stream",
          "text": [
            "<class 'int'> <class 'float'> <class 'complex'>\n"
          ],
          "name": "stdout"
        }
      ]
    },
    {
      "cell_type": "markdown",
      "metadata": {
        "id": "qFNb2jMPTIgH"
      },
      "source": [
        "### 2.1. Operadores aritméticos\n",
        "\n",
        "Empleados entre variables numéricas:\n",
        "\n",
        "- Adición +\t\n",
        "- Subtracción -\t\n",
        "- Multiplicación *\t\n",
        "- División\t/\t\n",
        "- Exponenciación **\t\n",
        "- Módulo de la división %\t\n",
        "- Resultado de la división redondeando al menor entero //\n",
        "\n",
        "Algunos ejemplos son:"
      ]
    },
    {
      "cell_type": "code",
      "metadata": {
        "id": "VKp5ZiBlSSCy",
        "colab": {
          "base_uri": "https://localhost:8080/"
        },
        "outputId": "956b316a-a020-4912-b0f3-339dd69dbf22"
      },
      "source": [
        "x = 7\n",
        "y = 3\n",
        "print(x+y, x-y, x*y, x/y, x**y)\n",
        "print(x%y, x//y)"
      ],
      "execution_count": null,
      "outputs": [
        {
          "output_type": "stream",
          "text": [
            "10 4 21 2.3333333333333335 343\n",
            "1 2\n"
          ],
          "name": "stdout"
        }
      ]
    },
    {
      "cell_type": "markdown",
      "metadata": {
        "id": "7f_UApsh-BOZ"
      },
      "source": [
        "### 2.2. Especificar el tipo de dato numérico\n",
        "\n",
        "Puede especificarse el tipo de dato (casting) al crear una variable o asignarle un valor con las funciones:\n",
        "- float()\n",
        "- int()\n",
        "- complex()\n",
        "\n",
        "A continuación se presentan algunos ejemplos:\n"
      ]
    },
    {
      "cell_type": "code",
      "metadata": {
        "colab": {
          "base_uri": "https://localhost:8080/"
        },
        "id": "MReHLBIN-cwi",
        "outputId": "d3e73ea4-bae6-4db4-e477-d1e89a15f40f"
      },
      "source": [
        "vint = int(2.34)\n",
        "print(vint, type(vint))\n",
        "vflo = float(2)\n",
        "print(vflo, type(vflo))\n",
        "vcom = complex(2)\n",
        "print(vcom, type(vcom))"
      ],
      "execution_count": null,
      "outputs": [
        {
          "output_type": "stream",
          "text": [
            "2 <class 'int'>\n",
            "2.0 <class 'float'>\n",
            "(2+0j) <class 'complex'>\n"
          ],
          "name": "stdout"
        }
      ]
    },
    {
      "cell_type": "markdown",
      "metadata": {
        "id": "f6Y45mDUEUjC"
      },
      "source": [
        "## 3.Tipo de dato booleano y operaciones\n",
        "\n",
        "El tipo de dato booleano (bool) en Python solo admite los valores True y False. \n",
        "\n",
        "Al realizar operaciones de comparación y operaciones lógicas se obtiene como resultado un tipo de dato booleano."
      ]
    },
    {
      "cell_type": "markdown",
      "metadata": {
        "id": "qH4s9eXpVyG5"
      },
      "source": [
        "### 3.1. Operadores de comparación\n",
        "\n",
        "Empleados para comparar dos valores, devuelve un valor lógico:\n",
        "- Igual ==\t\n",
        "- No igual !=\t\n",
        "- Mayor que >\t\n",
        "- Menor que <\t\n",
        "- Mayor o igual que >=\t\n",
        "- Menor o igual que <=\t\n",
        "\n",
        "Algunos ejemplos:"
      ]
    },
    {
      "cell_type": "code",
      "metadata": {
        "id": "qZ6INMUXWeTt",
        "colab": {
          "base_uri": "https://localhost:8080/"
        },
        "outputId": "a0664691-d24f-4996-bceb-aed451a5d340"
      },
      "source": [
        "x = 7\n",
        "y = 3\n",
        "print(x == y)\n",
        "print(x != y)\n",
        "print(x > y)"
      ],
      "execution_count": null,
      "outputs": [
        {
          "output_type": "stream",
          "text": [
            "False\n",
            "True\n",
            "True\n"
          ],
          "name": "stdout"
        }
      ]
    },
    {
      "cell_type": "markdown",
      "metadata": {
        "id": "iOTX3gR0Wel8"
      },
      "source": [
        "### 3.2. Operadores lógicos\n",
        "\n",
        "Empleados para combinar operaciones de comparación:\n",
        "\n",
        "- and\n",
        "- or\n",
        "- not\n",
        "\n",
        "Algunos ejemplos:"
      ]
    },
    {
      "cell_type": "code",
      "metadata": {
        "id": "Go7w0b08Xb4u",
        "colab": {
          "base_uri": "https://localhost:8080/"
        },
        "outputId": "e3ae78e4-e19a-4955-8865-7386b0995d70"
      },
      "source": [
        "x = 7\n",
        "y = 3\n",
        "print(x==y and x>y)\n",
        "print(x!=y and x>y)\n",
        "print(not(x==y and x>y))"
      ],
      "execution_count": null,
      "outputs": [
        {
          "output_type": "stream",
          "text": [
            "False\n",
            "True\n",
            "True\n"
          ],
          "name": "stdout"
        }
      ]
    },
    {
      "cell_type": "markdown",
      "metadata": {
        "id": "d444oYZzeSd_"
      },
      "source": [
        "## 4.Cadenas de caracteres y operaciones entre cadenas\n",
        "\n",
        "Las cadenas de caracteres (strings) son arreglos de caracteres con las siguientes características:\n",
        "- Contiene elementos ordenados\n",
        "- Sus elementos que NO pueden modificarse\n",
        "- Admite duplicados\n",
        "- El tipo de dato es str para la cadena completa y para cada elemento.\n",
        "\n",
        "Las cadenas de caracteres pueden definirse empleando comillas simples o dobles. Es decir 'Hola' es lo mismo que \"Hola\":\n"
      ]
    },
    {
      "cell_type": "code",
      "metadata": {
        "id": "IdtrewHK-ZRG",
        "colab": {
          "base_uri": "https://localhost:8080/"
        },
        "outputId": "325a0302-887e-47a3-c546-c9703aede9e6"
      },
      "source": [
        "str1 = \"Hol@ mundo\"\n",
        "str2 = 'Hol@ mundo'\n",
        "print(str1)\n",
        "print(str2)"
      ],
      "execution_count": null,
      "outputs": [
        {
          "output_type": "stream",
          "text": [
            "Hol@ mundo\n",
            "Hol@ mundo\n"
          ],
          "name": "stdout"
        }
      ]
    },
    {
      "cell_type": "markdown",
      "metadata": {
        "id": "9Lzumj58SFG8"
      },
      "source": [
        "### 4.1.Indexación en cadenas de caracteres"
      ]
    },
    {
      "cell_type": "markdown",
      "metadata": {
        "id": "bhsmbTBP-Zp0"
      },
      "source": [
        "Cada elemento de la cadena de caracteres puede indexarse de dos formas:\n",
        "- índice positivo: el índice del primer elemento es 0.\n",
        "- índice negativo: el índice del último elemento es -1.\n",
        "\n",
        "Ejemplo:"
      ]
    },
    {
      "cell_type": "code",
      "metadata": {
        "colab": {
          "base_uri": "https://localhost:8080/"
        },
        "id": "yf8rNdBhS8AJ",
        "outputId": "edb12af3-52f7-435c-c2c7-d6dc12bccfef"
      },
      "source": [
        "a = 'Hol@ mundo'\n",
        "print(a[3])\n",
        "print(a[-7])"
      ],
      "execution_count": null,
      "outputs": [
        {
          "output_type": "stream",
          "text": [
            "@\n",
            "@\n"
          ],
          "name": "stdout"
        }
      ]
    },
    {
      "cell_type": "markdown",
      "metadata": {
        "id": "PKtSAhxpTKFU"
      },
      "source": [
        "Se puede acceder a varios elementos a a una rebanada (slice) de una cadena:"
      ]
    },
    {
      "cell_type": "code",
      "metadata": {
        "id": "6ukUZO32_bAw",
        "colab": {
          "base_uri": "https://localhost:8080/"
        },
        "outputId": "5469f869-bd97-4519-90d6-e4bbbdc3747c"
      },
      "source": [
        "a = 'Hol@ mundo'\n",
        "print(a[0:3])    #desde posición 0 a 2: 0='H', 1='o', 2='l'\n",
        "print(a[:4])     #desde posición 0 a 3: 0='H', 1='o', 2='l', 3='@' \n",
        "print(a[5:])     #desde posición 5 a final\n",
        "print(a[0:9:2])  #desde posición 0 a 8\n",
        "print(a[0:9:2])  #desde posición 0 a 8, agrupa de a 2 y accede al primero del grupo\n",
        "print(a[0:9:3])  #desde posición 0 a 8, agrupa de a 3 y accede al primero del grupo"
      ],
      "execution_count": null,
      "outputs": [
        {
          "output_type": "stream",
          "text": [
            "Hol\n",
            "Hol@\n",
            "mundo\n",
            "Hl ud\n",
            "Hl ud\n",
            "H@u\n"
          ],
          "name": "stdout"
        }
      ]
    },
    {
      "cell_type": "markdown",
      "metadata": {
        "id": "KFDtvHts_bTC"
      },
      "source": [
        "### 4.2.Caracteres de escape\n",
        "\n",
        "En la cadena pueden insertarse caracteres de escape, algunos son:\n",
        "- \\\\'\t:Single Quote\t\n",
        "- \\\\\\\t:Backslash\t\n",
        "- \\n\t:New Line\t\n",
        "- \\r\t:Carriage Return\t\n",
        "- \\t\t:Tab\t\n",
        "- \\b\t:Backspace\t\n",
        "- \\f\t:Form Feed\t"
      ]
    },
    {
      "cell_type": "code",
      "metadata": {
        "id": "FC9GMZEKA4R6",
        "colab": {
          "base_uri": "https://localhost:8080/"
        },
        "outputId": "8832d3eb-b99a-4f58-97e4-94376b9ca09f"
      },
      "source": [
        "a = 'Hola\\nmundo'\n",
        "print(a)"
      ],
      "execution_count": null,
      "outputs": [
        {
          "output_type": "stream",
          "text": [
            "Hola\n",
            "mundo\n"
          ],
          "name": "stdout"
        }
      ]
    },
    {
      "cell_type": "markdown",
      "metadata": {
        "id": "UnEabVYiTkZ1"
      },
      "source": [
        "Más información en: https://www.w3schools.com/python/gloss_python_escape_characters.asp"
      ]
    },
    {
      "cell_type": "markdown",
      "metadata": {
        "id": "DALI31nFNOxr"
      },
      "source": [
        "### 4.3. Operaciones entre cadenas de caracteres\n",
        "\n",
        "El número de elementos de cadena de caracteres se obtiene con la función len():"
      ]
    },
    {
      "cell_type": "code",
      "metadata": {
        "colab": {
          "base_uri": "https://localhost:8080/"
        },
        "id": "vN5AnC2Lwhgn",
        "outputId": "bfe257ae-8ea5-4aa9-9b8f-cfd2e07b4b77"
      },
      "source": [
        "cadena = ' CURSO de python '\n",
        "print(len(cadena))"
      ],
      "execution_count": null,
      "outputs": [
        {
          "output_type": "stream",
          "text": [
            "17\n"
          ],
          "name": "stdout"
        }
      ]
    },
    {
      "cell_type": "markdown",
      "metadata": {
        "id": "J-y-A_lnwbA5"
      },
      "source": [
        "Las operaciones simples con strings son la concatenación empleando el operador + y la repetición con el operador *:\n",
        "\n"
      ]
    },
    {
      "cell_type": "code",
      "metadata": {
        "id": "n9m50E6fOujw",
        "colab": {
          "base_uri": "https://localhost:8080/"
        },
        "outputId": "1d3ba104-3d3a-4c6c-b82a-a65de1845f3f"
      },
      "source": [
        "str1 = 'Hola '\n",
        "str2 = str1 + ' ' + 'mundo'\n",
        "str3 = 5*str1\n",
        "print(str2)\n",
        "print(str3)"
      ],
      "execution_count": null,
      "outputs": [
        {
          "output_type": "stream",
          "text": [
            "Hola  mundo\n",
            "Hola Hola Hola Hola Hola \n"
          ],
          "name": "stdout"
        }
      ]
    },
    {
      "cell_type": "markdown",
      "metadata": {
        "id": "7EqHabJ9OtyK"
      },
      "source": [
        "A continuación se presentan algunos ejemplos de operaciones con strings:"
      ]
    },
    {
      "cell_type": "code",
      "metadata": {
        "id": "zUhTmg0vIZYS",
        "colab": {
          "base_uri": "https://localhost:8080/"
        },
        "outputId": "249197aa-cffe-41f0-affc-c6f566c85ea8"
      },
      "source": [
        "cadena = ' CURSO de python '\n",
        "print(cadena.upper())             #en mayúsculas\n",
        "print(cadena.lower())             #en minúsculas\n",
        "print(cadena.strip())             #elimina espacios al inicio y al final\n",
        "print(cadena.replace('de', '*'))  #reemplaza caracteres\n",
        "print(cadena.split('de'))         #separa de acuerdo a un conjunto de caracteres"
      ],
      "execution_count": null,
      "outputs": [
        {
          "output_type": "stream",
          "text": [
            " CURSO DE PYTHON \n",
            " curso de python \n",
            "CURSO de python\n",
            " CURSO * python \n",
            "[' CURSO ', ' python ']\n"
          ],
          "name": "stdout"
        }
      ]
    },
    {
      "cell_type": "markdown",
      "metadata": {
        "id": "xH8KJDUqxW82"
      },
      "source": [
        "El mezclar cadenas de caracteres con números generará un error. Intente ejecutar las siguientes líneas en Python:\n",
        "\n",
        "edad = 18 <br>\n",
        "cadena = 'Hola mundo, tengo ' + edad + 'años' <br>\n",
        "print(cadena) <br>\n",
        "\n",
        "El conjunto de métodos integrados en Python para cadenas de caracteres (strings) puede revisarse en:\n",
        "https://www.w3schools.com/python/python_ref_string.asp"
      ]
    },
    {
      "cell_type": "markdown",
      "metadata": {
        "id": "Kr1RyH1FsBad"
      },
      "source": [
        "### 4.4. Especificar el tipo de datos cadena de caracteres\n",
        "\n",
        "Para especificar el tipo de datos cadena de caracteres (str) se emplea la función str() como se presenta en los siguientes ejemplos:"
      ]
    },
    {
      "cell_type": "code",
      "metadata": {
        "colab": {
          "base_uri": "https://localhost:8080/"
        },
        "id": "eJDP3vObsMVU",
        "outputId": "24a574aa-8229-469f-dbb0-a370df8e181b"
      },
      "source": [
        "a = str(2)\n",
        "print(type(a))\n",
        "a = str(2.5)\n",
        "print(type(a))"
      ],
      "execution_count": null,
      "outputs": [
        {
          "output_type": "stream",
          "text": [
            "<class 'str'>\n",
            "<class 'str'>\n"
          ],
          "name": "stdout"
        }
      ]
    },
    {
      "cell_type": "markdown",
      "metadata": {
        "id": "J72FgTov18iW"
      },
      "source": [
        "## 5.Listas\n",
        "\n",
        "Las listas (list) son colecciones o arreglos de elementos con las siguientes características:\n",
        "- Son elementos ordenados\n",
        "- Sus elementos que pueden modificarse\n",
        "- Admite duplicados\n",
        "- Los elementos no necesariamente deben ser del mismo tipo de datos.\n",
        "\n",
        "Eu ejemplo de lista es el siguiente:"
      ]
    },
    {
      "cell_type": "code",
      "metadata": {
        "id": "w_OGHn02E0Tr",
        "colab": {
          "base_uri": "https://localhost:8080/"
        },
        "outputId": "da21c8d0-24fb-4ba4-9b2f-693386df9e2b"
      },
      "source": [
        "a = [1, 2, 2.2, 3.5, 'python']\n",
        "print(a)\n",
        "print(type(a)) \n"
      ],
      "execution_count": null,
      "outputs": [
        {
          "output_type": "stream",
          "text": [
            "[1, 2, 2.2, 3.5, 'python']\n",
            "<class 'list'>\n"
          ],
          "name": "stdout"
        }
      ]
    },
    {
      "cell_type": "markdown",
      "metadata": {
        "id": "t3NTMfn1ucVs"
      },
      "source": [
        "### 5.1 Indexación en una lista\n",
        "\n",
        "En una lista se indexan y se asignan valores de forma similar a las cadenas de caracteres (str)."
      ]
    },
    {
      "cell_type": "code",
      "metadata": {
        "colab": {
          "base_uri": "https://localhost:8080/"
        },
        "id": "hDWANo3Dul7q",
        "outputId": "877e55b7-0408-45ff-a4fb-107ba414e1fc"
      },
      "source": [
        "a = [1, 2, 2.2, 3.5, 'python']\n",
        "print(a[3:5])\n",
        "a[1:4] = ['verde']\n",
        "print(a)"
      ],
      "execution_count": null,
      "outputs": [
        {
          "output_type": "stream",
          "text": [
            "[3.5, 'python']\n",
            "[1, 'verde', 'python']\n"
          ],
          "name": "stdout"
        }
      ]
    },
    {
      "cell_type": "markdown",
      "metadata": {
        "id": "uz7vldhRQJDJ"
      },
      "source": [
        "### 5.2. Operaciones con listas\n",
        "Algunas operaciones básicas con listas:"
      ]
    },
    {
      "cell_type": "code",
      "metadata": {
        "colab": {
          "base_uri": "https://localhost:8080/"
        },
        "id": "rQWP9kh4Nvp2",
        "outputId": "1feea470-6975-433b-e76f-0995b6c8adda"
      },
      "source": [
        "a1 = ['naranja', 'pera']\n",
        "a2 = ['mango', 'piña']\n",
        "a = a1 + a2\n",
        "print(a)\n",
        "a = 3*a1\n",
        "print(a) "
      ],
      "execution_count": null,
      "outputs": [
        {
          "output_type": "stream",
          "text": [
            "['naranja', 'pera', 'mango', 'piña']\n",
            "['naranja', 'pera', 'naranja', 'pera', 'naranja', 'pera']\n"
          ],
          "name": "stdout"
        }
      ]
    },
    {
      "cell_type": "markdown",
      "metadata": {
        "id": "Mrfa0ioDNvI3"
      },
      "source": [
        "Otras operaciones con listas:"
      ]
    },
    {
      "cell_type": "code",
      "metadata": {
        "id": "uR7CJZbiGWsD",
        "colab": {
          "base_uri": "https://localhost:8080/"
        },
        "outputId": "dc759773-0838-4490-d33e-8a7f48df8917"
      },
      "source": [
        "a = ['naranja', 'pera', 'mango', 'piña']\n",
        "print(a.index('piña'))        #Indica la posición en que se enuentra el elemento\n",
        "a.insert(3,'manzana')         #inserta elemento en el índice 3\n",
        "print(a)\n",
        "a.append('guayaba')           #adiciona elemento al final\n",
        "print(a)\n",
        "a.remove('pera')              #elimina un elemento especificado por valor\n",
        "print(a)\n",
        "a.sort()                      #ordena\n",
        "print(a)\n",
        "anum = [100, 50, 65, 82, 23]\n",
        "anum.sort(reverse = True)\n",
        "print(anum)\n",
        "print(len(a))"
      ],
      "execution_count": null,
      "outputs": [
        {
          "output_type": "stream",
          "text": [
            "3\n",
            "['naranja', 'pera', 'mango', 'manzana', 'piña']\n",
            "['naranja', 'pera', 'mango', 'manzana', 'piña', 'guayaba']\n",
            "['naranja', 'mango', 'manzana', 'piña', 'guayaba']\n",
            "['guayaba', 'mango', 'manzana', 'naranja', 'piña']\n",
            "[100, 82, 65, 50, 23]\n",
            "5\n"
          ],
          "name": "stdout"
        }
      ]
    },
    {
      "cell_type": "markdown",
      "metadata": {
        "id": "GM8xu-b_9J99"
      },
      "source": [
        "El conjunto de métodos integrados en Python para Listas puede revisarse en: https://www.w3schools.com/python/python_lists_methods.asp"
      ]
    },
    {
      "cell_type": "markdown",
      "metadata": {
        "id": "eDgTu0JAHC8J"
      },
      "source": [
        "### 5.3. Especificar el tipo de dato lista\n",
        "\n",
        "Puede especificarse el tipo de dato lista con la función list():"
      ]
    },
    {
      "cell_type": "code",
      "metadata": {
        "colab": {
          "base_uri": "https://localhost:8080/"
        },
        "id": "4IFsaLVDHN6X",
        "outputId": "b07c51a5-99e1-4332-91ea-e5d78d884eba"
      },
      "source": [
        "msg = \"Hola mundo\"\n",
        "print(list(msg))"
      ],
      "execution_count": null,
      "outputs": [
        {
          "output_type": "stream",
          "text": [
            "['H', 'o', 'l', 'a', ' ', 'm', 'u', 'n', 'd', 'o']\n"
          ],
          "name": "stdout"
        }
      ]
    },
    {
      "cell_type": "markdown",
      "metadata": {
        "id": "DRPZ12P8JH3w"
      },
      "source": [
        "## 6.Tuplas\n",
        "\n",
        "Las tuplas (tuple) pueden definirse como listas unmutables, sus características son:\n",
        "- Son ordenados\n",
        "- Sus elementos NO pueden modificarse\n",
        "- Admiten cualquier tipo de datos\n",
        "- Permiten duplicados.\n",
        "\n",
        "La indexación en una Tupla es igual que en una lista. Para crear, indexar, obtener la longitud y visualizar el tipo de una variable Tupla:"
      ]
    },
    {
      "cell_type": "code",
      "metadata": {
        "colab": {
          "base_uri": "https://localhost:8080/"
        },
        "id": "_x0N0lPfKGcw",
        "outputId": "6f8817dd-e823-4272-e3e4-5c579c2be6f4"
      },
      "source": [
        "tup = (\"a\", 2.5, 3, \"Python\")\n",
        "print(tup[0])\n",
        "print(tup[-1])\n",
        "print(tup[0:2])\n",
        "print(len(tup))\n",
        "print(type(tup))"
      ],
      "execution_count": null,
      "outputs": [
        {
          "output_type": "stream",
          "text": [
            "a\n",
            "Python\n",
            "('a', 2.5)\n",
            "4\n",
            "<class 'tuple'>\n"
          ],
          "name": "stdout"
        }
      ]
    },
    {
      "cell_type": "markdown",
      "metadata": {
        "id": "neF-BDmzLEC3"
      },
      "source": [
        "Empaquetar (conformar o crear) y desempaquetar (extraer los valores) tuplas:"
      ]
    },
    {
      "cell_type": "code",
      "metadata": {
        "colab": {
          "base_uri": "https://localhost:8080/"
        },
        "id": "WSb8T7AqLORH",
        "outputId": "7cce1d59-3892-49ae-add1-8545d42719ea"
      },
      "source": [
        "v1 = \"a\"\n",
        "v2 = 2.5\n",
        "v3 = \"Python\"\n",
        "tup = v1, v2, v3\n",
        "print(tup, type(tup))\n",
        "x1, x2, x3 = tup\n",
        "print(x1,x2,x3)"
      ],
      "execution_count": null,
      "outputs": [
        {
          "output_type": "stream",
          "text": [
            "('a', 2.5, 'Python') <class 'tuple'>\n",
            "a 2.5 Python\n"
          ],
          "name": "stdout"
        }
      ]
    },
    {
      "cell_type": "markdown",
      "metadata": {
        "id": "gNmkamnNOdaW"
      },
      "source": [
        "Algunas operaciones básicas con tuplas son:"
      ]
    },
    {
      "cell_type": "code",
      "metadata": {
        "colab": {
          "base_uri": "https://localhost:8080/"
        },
        "id": "lmjfdFWKOgvt",
        "outputId": "770e684b-547a-4bd3-b13a-a00bdef39356"
      },
      "source": [
        "t1 = (\"piña\", \"mango\")\n",
        "t2 = (1.6, 2.3)\n",
        "tup = t1 + t2\n",
        "print(tup)\n",
        "tup = 3*t1\n",
        "print(tup)"
      ],
      "execution_count": null,
      "outputs": [
        {
          "output_type": "stream",
          "text": [
            "('piña', 'mango', 1.6, 2.3)\n",
            "('piña', 'mango', 'piña', 'mango', 'piña', 'mango')\n"
          ],
          "name": "stdout"
        }
      ]
    },
    {
      "cell_type": "markdown",
      "metadata": {
        "id": "dzuYEXfVNFTa"
      },
      "source": [
        "Python solo tiene dos métodos con tuplas: count() e index():"
      ]
    },
    {
      "cell_type": "code",
      "metadata": {
        "colab": {
          "base_uri": "https://localhost:8080/"
        },
        "id": "GLghHHosNIfh",
        "outputId": "fe463ba9-ebf6-4eb2-a3a7-e25446aaba93"
      },
      "source": [
        "tup = (\"a\", 2.5, 3, \"Python\",\"a\")\n",
        "print(tup.index(2.5))     #Indica la posición en que se enuentra el elemento\n",
        "print(tup.count(\"a\"))     #Cuenta las veces que aparece \"a\"\n"
      ],
      "execution_count": null,
      "outputs": [
        {
          "output_type": "stream",
          "text": [
            "1\n",
            "2\n"
          ],
          "name": "stdout"
        }
      ]
    },
    {
      "cell_type": "markdown",
      "metadata": {
        "id": "xmi42a-tPa1n"
      },
      "source": [
        "## 7.Convertir entre listas, tuplas y cadenas de caracteres\n",
        "\n",
        "Puede convertirse entre listas y tuplas con las funciones list() y tuple():"
      ]
    },
    {
      "cell_type": "code",
      "metadata": {
        "colab": {
          "base_uri": "https://localhost:8080/"
        },
        "id": "uDv4vFivPman",
        "outputId": "4a545574-b3a4-44dd-bcb6-fb24ca8b54a2"
      },
      "source": [
        "tup = (\"a\", 2.5, 3, \"Python\",\"a\")\n",
        "lis = list(tup)\n",
        "print(lis, type(lis))\n",
        "lis[2] = \"CAMBIO\"\n",
        "tup = tuple(lis)\n",
        "print(tup, type(tup))"
      ],
      "execution_count": null,
      "outputs": [
        {
          "output_type": "stream",
          "text": [
            "['a', 2.5, 3, 'Python', 'a'] <class 'list'>\n",
            "('a', 2.5, 'CAMBIO', 'Python', 'a') <class 'tuple'>\n"
          ],
          "name": "stdout"
        }
      ]
    },
    {
      "cell_type": "markdown",
      "metadata": {
        "id": "0MX2OEp9WY1p"
      },
      "source": [
        "Puede convertirse entre listas y cadenas de caracteres con las funciones split() y join():"
      ]
    },
    {
      "cell_type": "code",
      "metadata": {
        "colab": {
          "base_uri": "https://localhost:8080/"
        },
        "id": "CLNvBWLzWftW",
        "outputId": "60b0ef25-c600-4e4d-e460-e92929faaf93"
      },
      "source": [
        "msg = \"Hola mundo\"\n",
        "print(msg, type(msg))\n",
        "lis = msg.split(\" \")\n",
        "print(lis, type(lis))\n",
        "nuevo_msg = \",\".join(lis)\n",
        "print(nuevo_msg, type(nuevo_msg))"
      ],
      "execution_count": null,
      "outputs": [
        {
          "output_type": "stream",
          "text": [
            "Hola mundo <class 'str'>\n",
            "['Hola', 'mundo'] <class 'list'>\n",
            "Hola,mundo <class 'str'>\n"
          ],
          "name": "stdout"
        }
      ]
    },
    {
      "cell_type": "markdown",
      "metadata": {
        "id": "uXMk2Q5lQWX6"
      },
      "source": [
        "## 8.Tipo range\n",
        "\n",
        "la función range(start, stop, step) devuelve una variable tipo range que es una secuencia de números que inician en start, con incrementos dados por step y se detiene antes de stop.\n",
        "\n",
        "También puede usarse como range(stop), donde start = 0 y step = 1.\n",
        "\n",
        "Puede convertirse en una lista para observar sus valores.\n",
        "\n",
        "\n"
      ]
    },
    {
      "cell_type": "code",
      "metadata": {
        "colab": {
          "base_uri": "https://localhost:8080/"
        },
        "id": "C3CNSJaDRAYw",
        "outputId": "988688a2-4b7f-48f8-d73e-2eb55fcedfa8"
      },
      "source": [
        "ran = range(0,7,2)\n",
        "print(ran, type(ran), list(ran))\n",
        "ran = range(5)\n",
        "print(ran, type(ran), list(ran))"
      ],
      "execution_count": null,
      "outputs": [
        {
          "output_type": "stream",
          "text": [
            "range(0, 7, 2) <class 'range'> [0, 2, 4, 6]\n",
            "range(0, 5) <class 'range'> [0, 1, 2, 3, 4]\n"
          ],
          "name": "stdout"
        }
      ]
    },
    {
      "cell_type": "markdown",
      "metadata": {
        "id": "ul9OkHBD-Acx"
      },
      "source": [
        "## 9.Diccionarios\n",
        "Los diccionarios (dict) son usados para almacernar colecciones de pares de llave:dato (key:value) y tienen las siguientes características:\n",
        "- A partir de la versión de Python 3.7 son ordenados\n",
        "- Sus elementos pueden modificarse\n",
        "- Admiten cualquier tipo de datos\n",
        "- No permiten duplicados, los duplicados sobre-escriben los valores existentes.\n",
        "\n",
        "Para crear,visualizar y observar el tipo de una variable diccionario:"
      ]
    },
    {
      "cell_type": "code",
      "metadata": {
        "colab": {
          "base_uri": "https://localhost:8080/"
        },
        "id": "JTEX5Yhf_vh5",
        "outputId": "a8c2bce9-abe8-4c64-f6aa-1cbcfbce5a25"
      },
      "source": [
        "diccionario = {\n",
        "  'Nombre': 'Juan',\n",
        "  'Profesión': 'Ingeniero',\n",
        "  'Edad': 19\n",
        "}\n",
        "print(diccionario)\n",
        "print(type(diccionario))"
      ],
      "execution_count": null,
      "outputs": [
        {
          "output_type": "stream",
          "text": [
            "{'Nombre': 'Juan', 'Profesión': 'Ingeniero', 'Edad': 19}\n",
            "<class 'dict'>\n"
          ],
          "name": "stdout"
        }
      ]
    },
    {
      "cell_type": "markdown",
      "metadata": {
        "id": "NP3gjYr4Qypx"
      },
      "source": [
        "Para acceder a un valor, modificar y eliminar valores en un diccionario:"
      ]
    },
    {
      "cell_type": "code",
      "metadata": {
        "colab": {
          "base_uri": "https://localhost:8080/"
        },
        "id": "MdI2NxQBIZD-",
        "outputId": "ee2f7e40-9d70-4d64-bbff-760a5fe69314"
      },
      "source": [
        "diccionario = {\n",
        "  'Nombre': 'Juan',\n",
        "  'Profesión': 'Ingeniero',\n",
        "  'Edad': 19\n",
        "}\n",
        "print(diccionario['Profesión'])\n",
        "print(diccionario['Edad'])\n",
        "diccionario['Edad'] = 20\n",
        "print(diccionario)\n",
        "diccionario.pop('Profesión')\n",
        "print(diccionario)"
      ],
      "execution_count": null,
      "outputs": [
        {
          "output_type": "stream",
          "text": [
            "Ingeniero\n",
            "19\n",
            "{'Nombre': 'Juan', 'Profesión': 'Ingeniero', 'Edad': 20}\n",
            "{'Nombre': 'Juan', 'Edad': 20}\n"
          ],
          "name": "stdout"
        }
      ]
    },
    {
      "cell_type": "markdown",
      "metadata": {
        "id": "IMBG7p1GIKbH"
      },
      "source": [
        "Otras operaciones con diccionarios son:"
      ]
    },
    {
      "cell_type": "code",
      "metadata": {
        "colab": {
          "base_uri": "https://localhost:8080/"
        },
        "id": "Xdb17hXgFhV3",
        "outputId": "1ce61e14-d064-482c-e30c-0de606123124"
      },
      "source": [
        "d = {\n",
        "  'María': 'Nombre propio',\n",
        "  'Correr': 'Verbo',\n",
        "  'Casa': 'Sustantivo',\n",
        "  'Jose': 'Nombre propio',\n",
        "  'Jugar': 'Verbo',\n",
        "}\n",
        "print(d.get('Correr'))    #Obtiene un parámetro del diccionario \n",
        "print(d.keys())\n",
        "print(d.values())"
      ],
      "execution_count": null,
      "outputs": [
        {
          "output_type": "stream",
          "text": [
            "Verbo\n",
            "dict_keys(['María', 'Correr', 'Casa', 'Jose', 'Jugar'])\n",
            "dict_values(['Nombre propio', 'Verbo', 'Sustantivo', 'Nombre propio', 'Verbo'])\n"
          ],
          "name": "stdout"
        }
      ]
    },
    {
      "cell_type": "markdown",
      "metadata": {
        "id": "atlC_x05Mp9y"
      },
      "source": [
        "El conjunto de métodos integrados en Python para los diccionarios puede revisarse en: https://www.w3schools.com/python/python_dictionaries_methods.asp"
      ]
    },
    {
      "cell_type": "markdown",
      "metadata": {
        "id": "3d-WFvriC0Cc"
      },
      "source": [
        "## 10.Otros operadores\n",
        "\n",
        "Otros operadores son:\n",
        "- Operadores de identidad\n",
        "- Operadores de membresía\n",
        "- Operadores entre bits\n"
      ]
    },
    {
      "cell_type": "markdown",
      "metadata": {
        "id": "PGbOsefOXcOy"
      },
      "source": [
        "### 10.1. Operadores de identidad\n",
        "\n",
        "Empleados para comparar objetos:\n",
        "- is: entrega True si dos objetos comparten la misma posición de memoria.\n",
        "- is not: Comparte True si dos objetos NO comparten la misma posición de memoria.\n",
        "\n",
        "Es importante tener en cuenta que al asignar una variable a otra, la nueva variable comparte la misma posición de memoria."
      ]
    },
    {
      "cell_type": "code",
      "metadata": {
        "id": "JKmRF24VYhDq",
        "colab": {
          "base_uri": "https://localhost:8080/"
        },
        "outputId": "cf3e5acc-016f-43d5-cdd1-3d0d3c21f50d"
      },
      "source": [
        "a = 7\n",
        "b = 7\n",
        "c = a\n",
        "x = 3\n",
        "print(a is b)\n",
        "print(a is c)\n",
        "print(a is x)"
      ],
      "execution_count": null,
      "outputs": [
        {
          "output_type": "stream",
          "text": [
            "True\n",
            "True\n",
            "False\n"
          ],
          "name": "stdout"
        }
      ]
    },
    {
      "cell_type": "markdown",
      "metadata": {
        "id": "uIz3_jEeY-O4"
      },
      "source": [
        "Para copiar una variable sin compartir la misma posición de memoria se emplea la función copy(). con la función deepcopy() se copian todos los elementos, lo cual es útil por ejemplo para una lista."
      ]
    },
    {
      "cell_type": "code",
      "metadata": {
        "colab": {
          "base_uri": "https://localhost:8080/"
        },
        "id": "-NHO7CuBXpz-",
        "outputId": "8884c740-8f71-4def-cda8-04a9417dbda6"
      },
      "source": [
        "import copy\n",
        "a = list(range(3))\n",
        "b = copy.copy(a)\n",
        "a is b"
      ],
      "execution_count": null,
      "outputs": [
        {
          "output_type": "execute_result",
          "data": {
            "text/plain": [
              "False"
            ]
          },
          "metadata": {
            "tags": []
          },
          "execution_count": 3
        }
      ]
    },
    {
      "cell_type": "markdown",
      "metadata": {
        "id": "zzf9qqoNYhUm"
      },
      "source": [
        "### 10.2. Operadores de membresía\n",
        "\n",
        "Empleados para saber si un elemento o secuencia está presente o no en un objeto que puede ser un string, lista, tupla o diccionario, devuelve un valor lógico. Los peradores son:\n",
        "\n",
        "- in\n",
        "- not in\n"
      ]
    },
    {
      "cell_type": "code",
      "metadata": {
        "id": "cjXxpjXraRAV",
        "colab": {
          "base_uri": "https://localhost:8080/"
        },
        "outputId": "6c371e8d-90ec-421a-cd7d-30596d18a297"
      },
      "source": [
        "s = 'Curso de Python MinTIC 2022'\n",
        "print('En String: ','de' in s)\n",
        "\n",
        "l = ['manzana', 'mango']\n",
        "print('En lista: ', 'mango' in l)\n",
        "\n",
        "d = {\n",
        "  'María': 'Nombre propio',\n",
        "  'Correr': 'Verbo',\n",
        "  'Casa': 'Sustantivo',\n",
        "  'Jose': 'Nombre propio',\n",
        "  'Jugar': 'Verbo'\n",
        "}\n",
        "print('En diccionario: ', 'Correr' in d)"
      ],
      "execution_count": null,
      "outputs": [
        {
          "output_type": "stream",
          "text": [
            "En String:  True\n",
            "En lista:  True\n",
            "En diccionario:  True\n"
          ],
          "name": "stdout"
        }
      ]
    },
    {
      "cell_type": "markdown",
      "metadata": {
        "id": "fLrXAeRRaRPL"
      },
      "source": [
        "### 10.3. Operaciones entre bits\n",
        "\n",
        "Realizan la operación indicada bit a bit:\n",
        "\n",
        "- & \tAND\n",
        "- |\tOR\n",
        "- ^\tXOR\n",
        "- ~ NOT\n",
        "- <<\tdesplazamiento a izquierda insertando ceros\n",
        "- \\>>\tdesplazamiento a derecha conservando el signo"
      ]
    },
    {
      "cell_type": "code",
      "metadata": {
        "id": "OSWvIhEzbeV0",
        "colab": {
          "base_uri": "https://localhost:8080/"
        },
        "outputId": "76289482-cf7c-4f22-ba63-618d5b22ce1b"
      },
      "source": [
        "x = 7     #En binario en 4 bits es '0111'\n",
        "y = 3     #En binario en 4 bits es '0011'\n",
        "print(x & y)\n",
        "print(x | y)\n",
        "print(x ^ y)\n",
        "print(~x)\n",
        "print(x << y)\n",
        "print(x >> y)\n"
      ],
      "execution_count": null,
      "outputs": [
        {
          "output_type": "stream",
          "text": [
            "3\n",
            "7\n",
            "4\n",
            "-8\n",
            "56\n",
            "0\n"
          ],
          "name": "stdout"
        }
      ]
    },
    {
      "cell_type": "markdown",
      "metadata": {
        "id": "bXSpwFNjESeO"
      },
      "source": [
        "## 11.Estructuras de control\n",
        "\n",
        "Las estructuras de control permiten modificar el flujo de ejecución de las instrucciones:\n",
        "- if - elif - else\n",
        "- for\n",
        "- while\n",
        "\n",
        "En estas estructuras debe emplearse indentación (sangría)."
      ]
    },
    {
      "cell_type": "markdown",
      "metadata": {
        "id": "yW_MiAAKdNns"
      },
      "source": [
        "### 11.1 if elif else\n",
        "\n",
        "El if debe tener instrucciones, si por alguna razón no se requieren, puede colocarse pass para evitar el error."
      ]
    },
    {
      "cell_type": "code",
      "metadata": {
        "id": "HaFqyeqyeg4t",
        "colab": {
          "base_uri": "https://localhost:8080/"
        },
        "outputId": "01265e63-557c-4d75-a033-0d97e012afae"
      },
      "source": [
        "x = 7\n",
        "y = 3\n",
        "\n",
        "if x>y:\n",
        " print('If: mayor')\n",
        "elif x<y:\n",
        " print('Elif: menor')\n",
        "else:\n",
        " print('Else: igual')"
      ],
      "execution_count": null,
      "outputs": [
        {
          "output_type": "stream",
          "text": [
            "If: mayor\n"
          ],
          "name": "stdout"
        }
      ]
    },
    {
      "cell_type": "markdown",
      "metadata": {
        "id": "PoMKIL8behMR"
      },
      "source": [
        "### 11.2 for\n",
        "\n",
        "La forma común de usar el for es como se presenta en el ejemplo:"
      ]
    },
    {
      "cell_type": "code",
      "metadata": {
        "id": "npwaVFCphb32",
        "colab": {
          "base_uri": "https://localhost:8080/"
        },
        "outputId": "cb9e1ba9-b6a7-431f-aacd-d6404e4be212"
      },
      "source": [
        "for x in range(3):\n",
        " print(x)"
      ],
      "execution_count": null,
      "outputs": [
        {
          "output_type": "stream",
          "text": [
            "0\n",
            "1\n",
            "2\n"
          ],
          "name": "stdout"
        }
      ]
    },
    {
      "cell_type": "markdown",
      "metadata": {
        "id": "e8cqh-Cwhlhb"
      },
      "source": [
        "### 11.3 while\n",
        "\n",
        "La forma común de emplear el while es como se presenta en el ejemplo:"
      ]
    },
    {
      "cell_type": "code",
      "metadata": {
        "id": "AMYcOj5oiCZJ",
        "colab": {
          "base_uri": "https://localhost:8080/"
        },
        "outputId": "9aff653f-59c8-43c3-83a0-4886647f0ea5"
      },
      "source": [
        "x = 0\n",
        "while(x < 4):\n",
        " print(x)\n",
        " x += 1"
      ],
      "execution_count": null,
      "outputs": [
        {
          "output_type": "stream",
          "text": [
            "0\n",
            "1\n",
            "2\n",
            "3\n"
          ],
          "name": "stdout"
        }
      ]
    },
    {
      "cell_type": "markdown",
      "metadata": {
        "id": "dntCyWsVRS49"
      },
      "source": [
        "### 11.4 Comprensión de listas\n",
        "La comprensión de listas ofrece en una linea la posibilidad de crear listas a partir de valores de una lista existente como se observa en los siguientes ejemplos:"
      ]
    },
    {
      "cell_type": "code",
      "metadata": {
        "colab": {
          "base_uri": "https://localhost:8080/"
        },
        "id": "dGoL7xCOR5kc",
        "outputId": "28a004b8-5d1d-4dfb-e648-f573fb94832f"
      },
      "source": [
        "frutas = ['banano', 'pera', 'piña', 'mango']\n",
        "fruta_ñ = [x for x in frutas if 'ñ' in x]\n",
        "print('Frutas con ñ: ', fruta_ñ)\n",
        "\n",
        "otras_pera = [x for x in frutas if x != 'pera']\n",
        "print('Frutas diferentes a pera: ', otras_pera)\n",
        "\n",
        "frutas_may = [x.upper() for x in frutas]\n",
        "print('Frutas en mayúsculas: ', frutas_may)\n",
        "\n",
        "cambio = [x if x != 'pera' else 'manzana' for x in frutas]\n",
        "print('Cambio pera por manzana: ', cambio)"
      ],
      "execution_count": null,
      "outputs": [
        {
          "output_type": "stream",
          "text": [
            "Frutas con ñ:  ['piña']\n",
            "Frutas diferentes a pera:  ['banano', 'piña', 'mango']\n",
            "Frutas en mayúsculas:  ['BANANO', 'PERA', 'PIÑA', 'MANGO']\n",
            "Cambio pera por manzana:  ['banano', 'manzana', 'piña', 'mango']\n"
          ],
          "name": "stdout"
        }
      ]
    },
    {
      "cell_type": "markdown",
      "metadata": {
        "id": "ZpdegUW6XrDa"
      },
      "source": [
        "##12.Referencias\n",
        "\n",
        "- Sitio w3schools: https://www.w3schools.com/.\n",
        "- Enlace con las funciones incluidas con Python: https://www.w3schools.com/python/python_ref_functions.asp. "
      ]
    }
  ]
}