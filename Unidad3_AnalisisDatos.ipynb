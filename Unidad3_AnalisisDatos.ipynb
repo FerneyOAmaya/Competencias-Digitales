{
  "nbformat": 4,
  "nbformat_minor": 0,
  "metadata": {
    "colab": {
      "provenance": [],
      "toc_visible": true
    },
    "kernelspec": {
      "name": "python3",
      "display_name": "Python 3"
    },
    "language_info": {
      "name": "python"
    }
  },
  "cells": [
    {
      "cell_type": "markdown",
      "source": [
        "#Análisis de datos\n",
        "\n",
        "El análisis de datos es cada vez más empleado en las empresas. En esta guía abordaremos las siguientes acciones dentro del análisis de datos:\n",
        "- Cargar los datos\n",
        "- Preparar los datos\n",
        "- Análisis descriptivo\n",
        "- Análisis predictivo\n",
        "\n",
        "Por:\n",
        "\n",
        "Ferney Orlando Amaya Fernández\n"
      ],
      "metadata": {
        "id": "iBzs8AhOGV-N"
      }
    },
    {
      "cell_type": "markdown",
      "source": [
        "Inicialmente se cargan las librerías a emplear:"
      ],
      "metadata": {
        "id": "-AiGCYwCOe_S"
      }
    },
    {
      "cell_type": "code",
      "source": [
        "import pandas as pd\n",
        "import numpy as np\n",
        "import matplotlib.pyplot as plt\n",
        "from scipy.interpolate import interp1d"
      ],
      "metadata": {
        "id": "DHTwfP8tIrfu"
      },
      "execution_count": null,
      "outputs": []
    },
    {
      "cell_type": "markdown",
      "source": [
        "#1.Carga de los datos\n",
        "\n",
        "Se cargará un archivo en formato Excel desde un repositorio en Github:"
      ],
      "metadata": {
        "id": "k5Ppb4-XIFmv"
      }
    },
    {
      "cell_type": "code",
      "source": [
        "# Ruta del archivo en la Google Drive\n",
        "ruta_archivo = 'https://github.com/FerneyOAmaya/Competencias-Digitales/blob/master/DB_AnalisisDatosRegresion.xlsx?raw=true'\n",
        "\n",
        "#Cargar el archivo en formato Excel\n",
        "df = pd.read_excel(ruta_archivo)"
      ],
      "metadata": {
        "id": "6a3EDL9jmBvY"
      },
      "execution_count": null,
      "outputs": []
    },
    {
      "cell_type": "markdown",
      "source": [
        "#2.Preparación de los datos\n",
        "\n",
        "La preparación de los datos consiste en realizar acciones que garanticen que los datos estén en condiciones óptimas para su análisis.\n",
        "\n",
        "Se realizarán las siguientes acciones:\n",
        "- Perfilado de datos\n",
        "- Preprocesamiento o limpieza de datos"
      ],
      "metadata": {
        "id": "JnYQ8o8nIrol"
      }
    },
    {
      "cell_type": "markdown",
      "source": [
        "##2.1. Perfilado de los datos\n",
        "\n",
        "Se ejecutan algunas instrucciones para comprender la estructura, el contenido y la calidad del conjunto de datos:"
      ],
      "metadata": {
        "id": "donhBxLGQtpT"
      }
    },
    {
      "cell_type": "code",
      "source": [
        "print(df.info())"
      ],
      "metadata": {
        "colab": {
          "base_uri": "https://localhost:8080/"
        },
        "id": "jk-o5NQ2DGD7",
        "outputId": "6ecacc10-af7d-4622-fe80-a58a1700677f"
      },
      "execution_count": null,
      "outputs": [
        {
          "output_type": "stream",
          "name": "stdout",
          "text": [
            "<class 'pandas.core.frame.DataFrame'>\n",
            "RangeIndex: 671 entries, 0 to 670\n",
            "Data columns (total 9 columns):\n",
            " #   Column               Non-Null Count  Dtype  \n",
            "---  ------               --------------  -----  \n",
            " 0   ID                   671 non-null    int64  \n",
            " 1   Edad                 661 non-null    float64\n",
            " 2   Género               671 non-null    object \n",
            " 3   Departamento         671 non-null    object \n",
            " 4   Ciudad               671 non-null    object \n",
            " 5   Producto             661 non-null    object \n",
            " 6   Ventas               671 non-null    float64\n",
            " 7   Evaluación Servicio  661 non-null    float64\n",
            " 8   año                  671 non-null    int64  \n",
            "dtypes: float64(3), int64(2), object(4)\n",
            "memory usage: 47.3+ KB\n",
            "None\n"
          ]
        }
      ]
    },
    {
      "cell_type": "code",
      "source": [
        "# Conteo de valores nulos\n",
        "print('-------------------------')\n",
        "print('CONTEO DE VALORES NULOS')\n",
        "print(df.isnull().sum())\n",
        "print('-------------------------')\n",
        "# Valores únicos en la columna 'Género'\n",
        "print('VALORES ÚNICOS COLUMNA Género')\n",
        "print(df['Género'].value_counts())"
      ],
      "metadata": {
        "id": "x0aELsZbKhHt",
        "colab": {
          "base_uri": "https://localhost:8080/"
        },
        "outputId": "1dbc0081-5574-44c7-a95b-0fb9e0227663"
      },
      "execution_count": null,
      "outputs": [
        {
          "output_type": "stream",
          "name": "stdout",
          "text": [
            "-------------------------\n",
            "CONTEO DE VALORES NULOS\n",
            "ID                      0\n",
            "Edad                   10\n",
            "Género                  0\n",
            "Departamento            0\n",
            "Ciudad                  0\n",
            "Producto               10\n",
            "Ventas                  0\n",
            "Evaluación Servicio    10\n",
            "año                     0\n",
            "dtype: int64\n",
            "-------------------------\n",
            "VALORES ÚNICOS COLUMNA Género\n",
            "Género\n",
            "Hombre    379\n",
            "Mujer     272\n",
            "HOMBRE     12\n",
            "MUJER       8\n",
            "Name: count, dtype: int64\n"
          ]
        }
      ]
    },
    {
      "cell_type": "markdown",
      "source": [
        "##2.2.Preprocesamiento o limpieza de datos\n",
        "\n",
        "Incluye las siguientes acciones:\n",
        "- Tratamiento de valores nulos\n",
        "- Estandarización de los valores de la columna Género\n",
        "- Manejo de valores atípicos"
      ],
      "metadata": {
        "id": "Wn07ELarJF5t"
      }
    },
    {
      "cell_type": "markdown",
      "source": [
        "1. Se eliminan los registros que tengan valores nulos en el campo Evaluación Servicio:\n"
      ],
      "metadata": {
        "id": "RspEx65XLvml"
      }
    },
    {
      "cell_type": "code",
      "source": [
        "df = df.dropna(subset=['Evaluación Servicio'])"
      ],
      "metadata": {
        "id": "YHT3VPvWMn1G"
      },
      "execution_count": null,
      "outputs": []
    },
    {
      "cell_type": "markdown",
      "source": [
        "2. En la columna Edad se reemplazarán los valores nulos con el promedio de la columna:"
      ],
      "metadata": {
        "id": "_jEYFk0ONDLd"
      }
    },
    {
      "cell_type": "code",
      "source": [
        "promedio_edad = df['Edad'].mean()\n",
        "df['Edad'] = df['Edad'].fillna(promedio_edad)"
      ],
      "metadata": {
        "id": "M-yeO3IuETwr"
      },
      "execution_count": null,
      "outputs": []
    },
    {
      "cell_type": "markdown",
      "source": [
        "3. Se estandarizan los valores de la columna Género, se convierte el texto en mayúsculas:"
      ],
      "metadata": {
        "id": "HvEBcAr6S2QO"
      }
    },
    {
      "cell_type": "code",
      "source": [
        "df['Género'] = df['Género'].str.upper()"
      ],
      "metadata": {
        "id": "IP3tBN4zTCtl"
      },
      "execution_count": null,
      "outputs": []
    },
    {
      "cell_type": "markdown",
      "source": [
        "Se identifican visualmente los valores atípicos de la Edad con un gráfico boxplot"
      ],
      "metadata": {
        "id": "sSQnF4x7aS6U"
      }
    },
    {
      "cell_type": "code",
      "source": [
        "df['Edad'].plot(kind='box')\n",
        "plt.title('Boxplot de Ingreso')\n",
        "plt.ylabel('Ingreso')\n",
        "plt.show()"
      ],
      "metadata": {
        "id": "XkKcttOUaSUW",
        "colab": {
          "base_uri": "https://localhost:8080/",
          "height": 452
        },
        "outputId": "d73def21-de80-4286-951a-4662551fcbbe"
      },
      "execution_count": null,
      "outputs": [
        {
          "output_type": "display_data",
          "data": {
            "text/plain": [
              "<Figure size 640x480 with 1 Axes>"
            ],
            "image/png": "[encoded data removed]"
          },
          "metadata": {}
        }
      ]
    },
    {
      "cell_type": "markdown",
      "source": [
        "4. Para este ejemplo eliminaremos los valores atípicos para la Edad. Para hacerlo, eliminaremos los valores de edad superiores a 24 (ver Figura anterior):"
      ],
      "metadata": {
        "id": "CkSSww9EbCNA"
      }
    },
    {
      "cell_type": "code",
      "source": [
        "# Límites para outliers\n",
        "limite_superior = 24\n",
        "df = df[(df['Edad'] <= limite_superior)]"
      ],
      "metadata": {
        "id": "EMZGEbo1bY91"
      },
      "execution_count": null,
      "outputs": []
    },
    {
      "cell_type": "markdown",
      "source": [
        "#3.Análisis descriptivo\n",
        "\n",
        "El análisis descriptivo permite responder preguntas de lo que sucedió.\n",
        "\n",
        "Se responderán las siguientes preguntas:\n",
        "\n",
        "- ¿Quiénes compraron más, las mujeres o los hombres?\n",
        "- ¿Cuáles fueron las ventas por año por Género?\n",
        "\n",
        "1. Conteo por Género: Se presenta un diagrama circular del conteo por Género"
      ],
      "metadata": {
        "id": "1OJFh_GqVbcG"
      }
    },
    {
      "cell_type": "code",
      "source": [
        "conteo_genero = df['Género'].value_counts()\n",
        "conteo_genero.plot(kind='pie')  #Puede reemplazarse kind por bar\n",
        "plt.title('Conteo por Género')\n",
        "plt.show()"
      ],
      "metadata": {
        "colab": {
          "base_uri": "https://localhost:8080/",
          "height": 429
        },
        "id": "aw6_8TtU9YT_",
        "outputId": "a1337e35-39d1-41ed-f0fd-bc4f26f6161d"
      },
      "execution_count": null,
      "outputs": [
        {
          "output_type": "display_data",
          "data": {
            "text/plain": [
              "<Figure size 640x480 with 1 Axes>"
            ],
            "image/png": "[encoded data removed]"
          },
          "metadata": {}
        }
      ]
    },
    {
      "cell_type": "code",
      "source": [
        "conteo_genero"
      ],
      "metadata": {
        "colab": {
          "base_uri": "https://localhost:8080/",
          "height": 178
        },
        "id": "4fKrFRE99zWo",
        "outputId": "64b532ef-ebf4-4af2-ec63-bc82eb49ec6b"
      },
      "execution_count": null,
      "outputs": [
        {
          "output_type": "execute_result",
          "data": {
            "text/plain": [
              "Género\n",
              "HOMBRE    380\n",
              "MUJER     267\n",
              "Name: count, dtype: int64"
            ],
            "text/html": [
              "<div>\n",
              "<style scoped>\n",
              "    .dataframe tbody tr th:only-of-type {\n",
              "        vertical-align: middle;\n",
              "    }\n",
              "\n",
              "    .dataframe tbody tr th {\n",
              "        vertical-align: top;\n",
              "    }\n",
              "\n",
              "    .dataframe thead th {\n",
              "        text-align: right;\n",
              "    }\n",
              "</style>\n",
              "<table border=\"1\" class=\"dataframe\">\n",
              "  <thead>\n",
              "    <tr style=\"text-align: right;\">\n",
              "      <th></th>\n",
              "      <th>count</th>\n",
              "    </tr>\n",
              "    <tr>\n",
              "      <th>Género</th>\n",
              "      <th></th>\n",
              "    </tr>\n",
              "  </thead>\n",
              "  <tbody>\n",
              "    <tr>\n",
              "      <th>HOMBRE</th>\n",
              "      <td>380</td>\n",
              "    </tr>\n",
              "    <tr>\n",
              "      <th>MUJER</th>\n",
              "      <td>267</td>\n",
              "    </tr>\n",
              "  </tbody>\n",
              "</table>\n",
              "</div><br><label><b>dtype:</b> int64</label>"
            ]
          },
          "metadata": {},
          "execution_count": 14
        }
      ]
    },
    {
      "cell_type": "markdown",
      "source": [
        "2. Ventas por año por género\n",
        "\n",
        "Se presenta una Tabla de ventas (en millones) por año por género:"
      ],
      "metadata": {
        "id": "BiCBdxOu-eU-"
      }
    },
    {
      "cell_type": "code",
      "source": [
        "ventas = df.groupby(['año', 'Género'])['Ventas'].sum().reset_index()\n",
        "ventas"
      ],
      "metadata": {
        "colab": {
          "base_uri": "https://localhost:8080/",
          "height": 363
        },
        "id": "r9dD7Wc-B1-g",
        "outputId": "f213408e-be31-42e2-9062-0d48be1fbea0"
      },
      "execution_count": null,
      "outputs": [
        {
          "output_type": "execute_result",
          "data": {
            "text/plain": [
              "    año  Género        Ventas\n",
              "0  2014  HOMBRE  5.930675e+07\n",
              "1  2014   MUJER  2.911981e+07\n",
              "2  2015  HOMBRE  7.279594e+07\n",
              "3  2015   MUJER  3.350356e+07\n",
              "4  2016  HOMBRE  8.882823e+07\n",
              "5  2016   MUJER  4.006613e+07\n",
              "6  2017  HOMBRE  1.063086e+08\n",
              "7  2017   MUJER  4.665522e+07\n",
              "8  2018  HOMBRE  1.259225e+08\n",
              "9  2018   MUJER  5.144286e+07"
            ],
            "text/html": [
              "\n",
              "  <div id=\"df-df5966df-0ef8-45cb-892b-3e6f578f8d22\" class=\"colab-df-container\">\n",
              "    <div>\n",
              "<style scoped>\n",
              "    .dataframe tbody tr th:only-of-type {\n",
              "        vertical-align: middle;\n",
              "    }\n",
              "\n",
              "    .dataframe tbody tr th {\n",
              "        vertical-align: top;\n",
              "    }\n",
              "\n",
              "    .dataframe thead th {\n",
              "        text-align: right;\n",
              "    }\n",
              "</style>\n",
              "<table border=\"1\" class=\"dataframe\">\n",
              "  <thead>\n",
              "    <tr style=\"text-align: right;\">\n",
              "      <th></th>\n",
              "      <th>año</th>\n",
              "      <th>Género</th>\n",
              "      <th>Ventas</th>\n",
              "    </tr>\n",
              "  </thead>\n",
              "  <tbody>\n",
              "    <tr>\n",
              "      <th>0</th>\n",
              "      <td>2014</td>\n",
              "      <td>HOMBRE</td>\n",
              "      <td>5.930675e+07</td>\n",
              "    </tr>\n",
              "    <tr>\n",
              "      <th>1</th>\n",
              "      <td>2014</td>\n",
              "      <td>MUJER</td>\n",
              "      <td>2.911981e+07</td>\n",
              "    </tr>\n",
              "    <tr>\n",
              "      <th>2</th>\n",
              "      <td>2015</td>\n",
              "      <td>HOMBRE</td>\n",
              "      <td>7.279594e+07</td>\n",
              "    </tr>\n",
              "    <tr>\n",
              "      <th>3</th>\n",
              "      <td>2015</td>\n",
              "      <td>MUJER</td>\n",
              "      <td>3.350356e+07</td>\n",
              "    </tr>\n",
              "    <tr>\n",
              "      <th>4</th>\n",
              "      <td>2016</td>\n",
              "      <td>HOMBRE</td>\n",
              "      <td>8.882823e+07</td>\n",
              "    </tr>\n",
              "    <tr>\n",
              "      <th>5</th>\n",
              "      <td>2016</td>\n",
              "      <td>MUJER</td>\n",
              "      <td>4.006613e+07</td>\n",
              "    </tr>\n",
              "    <tr>\n",
              "      <th>6</th>\n",
              "      <td>2017</td>\n",
              "      <td>HOMBRE</td>\n",
              "      <td>1.063086e+08</td>\n",
              "    </tr>\n",
              "    <tr>\n",
              "      <th>7</th>\n",
              "      <td>2017</td>\n",
              "      <td>MUJER</td>\n",
              "      <td>4.665522e+07</td>\n",
              "    </tr>\n",
              "    <tr>\n",
              "      <th>8</th>\n",
              "      <td>2018</td>\n",
              "      <td>HOMBRE</td>\n",
              "      <td>1.259225e+08</td>\n",
              "    </tr>\n",
              "    <tr>\n",
              "      <th>9</th>\n",
              "      <td>2018</td>\n",
              "      <td>MUJER</td>\n",
              "      <td>5.144286e+07</td>\n",
              "    </tr>\n",
              "  </tbody>\n",
              "</table>\n",
              "</div>\n",
              "    <div class=\"colab-df-buttons\">\n",
              "\n",
              "  <div class=\"colab-df-container\">\n",
              "    <button class=\"colab-df-convert\" onclick=\"convertToInteractive('df-df5966df-0ef8-45cb-892b-3e6f578f8d22')\"\n",
              "            title=\"Convert this dataframe to an interactive table.\"\n",
              "            style=\"display:none;\">\n",
              "\n",
              "  <svg xmlns=\"http://www.w3.org/2000/svg\" height=\"24px\" viewBox=\"0 -960 960 960\">\n",
              "    <path d=\"M120-120v-720h720v720H120Zm60-500h600v-160H180v160Zm220 220h160v-160H400v160Zm0 220h160v-160H400v160ZM180-400h160v-160H180v160Zm440 0h160v-160H620v160ZM180-180h160v-160H180v160Zm440 0h160v-160H620v160Z\"/>\n",
              "  </svg>\n",
              "    </button>\n",
              "\n",
              "  <style>\n",
              "    .colab-df-container {\n",
              "      display:flex;\n",
              "      gap: 12px;\n",
              "    }\n",
              "\n",
              "    .colab-df-convert {\n",
              "      background-color: #E8F0FE;\n",
              "      border: none;\n",
              "      border-radius: 50%;\n",
              "      cursor: pointer;\n",
              "      display: none;\n",
              "      fill: #1967D2;\n",
              "      height: 32px;\n",
              "      padding: 0 0 0 0;\n",
              "      width: 32px;\n",
              "    }\n",
              "\n",
              "    .colab-df-convert:hover {\n",
              "      background-color: #E2EBFA;\n",
              "      box-shadow: 0px 1px 2px rgba(60, 64, 67, 0.3), 0px 1px 3px 1px rgba(60, 64, 67, 0.15);\n",
              "      fill: #174EA6;\n",
              "    }\n",
              "\n",
              "    .colab-df-buttons div {\n",
              "      margin-bottom: 4px;\n",
              "    }\n",
              "\n",
              "    [theme=dark] .colab-df-convert {\n",
              "      background-color: #3B4455;\n",
              "      fill: #D2E3FC;\n",
              "    }\n",
              "\n",
              "    [theme=dark] .colab-df-convert:hover {\n",
              "      background-color: #434B5C;\n",
              "      box-shadow: 0px 1px 3px 1px rgba(0, 0, 0, 0.15);\n",
              "      filter: drop-shadow(0px 1px 2px rgba(0, 0, 0, 0.3));\n",
              "      fill: #FFFFFF;\n",
              "    }\n",
              "  </style>\n",
              "\n",
              "    <script>\n",
              "      const buttonEl =\n",
              "        document.querySelector('#df-df5966df-0ef8-45cb-892b-3e6f578f8d22 button.colab-df-convert');\n",
              "      buttonEl.style.display =\n",
              "        google.colab.kernel.accessAllowed ? 'block' : 'none';\n",
              "\n",
              "      async function convertToInteractive(key) {\n",
              "        const element = document.querySelector('#df-df5966df-0ef8-45cb-892b-3e6f578f8d22');\n",
              "        const dataTable =\n",
              "          await google.colab.kernel.invokeFunction('convertToInteractive',\n",
              "                                                    [key], {});\n",
              "        if (!dataTable) return;\n",
              "\n",
              "        const docLinkHtml = 'Like what you see? Visit the ' +\n",
              "          '<a target=\"_blank\" href=https://colab.research.google.com/notebooks/data_table.ipynb>data table notebook</a>'\n",
              "          + ' to learn more about interactive tables.';\n",
              "        element.innerHTML = '';\n",
              "        dataTable['output_type'] = 'display_data';\n",
              "        await google.colab.output.renderOutput(dataTable, element);\n",
              "        const docLink = document.createElement('div');\n",
              "        docLink.innerHTML = docLinkHtml;\n",
              "        element.appendChild(docLink);\n",
              "      }\n",
              "    </script>\n",
              "  </div>\n",
              "\n",
              "\n",
              "    <div id=\"df-8c2340af-ee35-46f6-bd4d-e97222b69e05\">\n",
              "      <button class=\"colab-df-quickchart\" onclick=\"quickchart('df-8c2340af-ee35-46f6-bd4d-e97222b69e05')\"\n",
              "                title=\"Suggest charts\"\n",
              "                style=\"display:none;\">\n",
              "\n",
              "<svg xmlns=\"http://www.w3.org/2000/svg\" height=\"24px\"viewBox=\"0 0 24 24\"\n",
              "     width=\"24px\">\n",
              "    <g>\n",
              "        <path d=\"M19 3H5c-1.1 0-2 .9-2 2v14c0 1.1.9 2 2 2h14c1.1 0 2-.9 2-2V5c0-1.1-.9-2-2-2zM9 17H7v-7h2v7zm4 0h-2V7h2v10zm4 0h-2v-4h2v4z\"/>\n",
              "    </g>\n",
              "</svg>\n",
              "      </button>\n",
              "\n",
              "<style>\n",
              "  .colab-df-quickchart {\n",
              "      --bg-color: #E8F0FE;\n",
              "      --fill-color: #1967D2;\n",
              "      --hover-bg-color: #E2EBFA;\n",
              "      --hover-fill-color: #174EA6;\n",
              "      --disabled-fill-color: #AAA;\n",
              "      --disabled-bg-color: #DDD;\n",
              "  }\n",
              "\n",
              "  [theme=dark] .colab-df-quickchart {\n",
              "      --bg-color: #3B4455;\n",
              "      --fill-color: #D2E3FC;\n",
              "      --hover-bg-color: #434B5C;\n",
              "      --hover-fill-color: #FFFFFF;\n",
              "      --disabled-bg-color: #3B4455;\n",
              "      --disabled-fill-color: #666;\n",
              "  }\n",
              "\n",
              "  .colab-df-quickchart {\n",
              "    background-color: var(--bg-color);\n",
              "    border: none;\n",
              "    border-radius: 50%;\n",
              "    cursor: pointer;\n",
              "    display: none;\n",
              "    fill: var(--fill-color);\n",
              "    height: 32px;\n",
              "    padding: 0;\n",
              "    width: 32px;\n",
              "  }\n",
              "\n",
              "  .colab-df-quickchart:hover {\n",
              "    background-color: var(--hover-bg-color);\n",
              "    box-shadow: 0 1px 2px rgba(60, 64, 67, 0.3), 0 1px 3px 1px rgba(60, 64, 67, 0.15);\n",
              "    fill: var(--button-hover-fill-color);\n",
              "  }\n",
              "\n",
              "  .colab-df-quickchart-complete:disabled,\n",
              "  .colab-df-quickchart-complete:disabled:hover {\n",
              "    background-color: var(--disabled-bg-color);\n",
              "    fill: var(--disabled-fill-color);\n",
              "    box-shadow: none;\n",
              "  }\n",
              "\n",
              "  .colab-df-spinner {\n",
              "    border: 2px solid var(--fill-color);\n",
              "    border-color: transparent;\n",
              "    border-bottom-color: var(--fill-color);\n",
              "    animation:\n",
              "      spin 1s steps(1) infinite;\n",
              "  }\n",
              "\n",
              "  @keyframes spin {\n",
              "    0% {\n",
              "      border-color: transparent;\n",
              "      border-bottom-color: var(--fill-color);\n",
              "      border-left-color: var(--fill-color);\n",
              "    }\n",
              "    20% {\n",
              "      border-color: transparent;\n",
              "      border-left-color: var(--fill-color);\n",
              "      border-top-color: var(--fill-color);\n",
              "    }\n",
              "    30% {\n",
              "      border-color: transparent;\n",
              "      border-left-color: var(--fill-color);\n",
              "      border-top-color: var(--fill-color);\n",
              "      border-right-color: var(--fill-color);\n",
              "    }\n",
              "    40% {\n",
              "      border-color: transparent;\n",
              "      border-right-color: var(--fill-color);\n",
              "      border-top-color: var(--fill-color);\n",
              "    }\n",
              "    60% {\n",
              "      border-color: transparent;\n",
              "      border-right-color: var(--fill-color);\n",
              "    }\n",
              "    80% {\n",
              "      border-color: transparent;\n",
              "      border-right-color: var(--fill-color);\n",
              "      border-bottom-color: var(--fill-color);\n",
              "    }\n",
              "    90% {\n",
              "      border-color: transparent;\n",
              "      border-bottom-color: var(--fill-color);\n",
              "    }\n",
              "  }\n",
              "</style>\n",
              "\n",
              "      <script>\n",
              "        async function quickchart(key) {\n",
              "          const quickchartButtonEl =\n",
              "            document.querySelector('#' + key + ' button');\n",
              "          quickchartButtonEl.disabled = true;  // To prevent multiple clicks.\n",
              "          quickchartButtonEl.classList.add('colab-df-spinner');\n",
              "          try {\n",
              "            const charts = await google.colab.kernel.invokeFunction(\n",
              "                'suggestCharts', [key], {});\n",
              "          } catch (error) {\n",
              "            console.error('Error during call to suggestCharts:', error);\n",
              "          }\n",
              "          quickchartButtonEl.classList.remove('colab-df-spinner');\n",
              "          quickchartButtonEl.classList.add('colab-df-quickchart-complete');\n",
              "        }\n",
              "        (() => {\n",
              "          let quickchartButtonEl =\n",
              "            document.querySelector('#df-8c2340af-ee35-46f6-bd4d-e97222b69e05 button');\n",
              "          quickchartButtonEl.style.display =\n",
              "            google.colab.kernel.accessAllowed ? 'block' : 'none';\n",
              "        })();\n",
              "      </script>\n",
              "    </div>\n",
              "\n",
              "  <div id=\"id_eb46dc21-1474-4582-9803-47a3658919de\">\n",
              "    <style>\n",
              "      .colab-df-generate {\n",
              "        background-color: #E8F0FE;\n",
              "        border: none;\n",
              "        border-radius: 50%;\n",
              "        cursor: pointer;\n",
              "        display: none;\n",
              "        fill: #1967D2;\n",
              "        height: 32px;\n",
              "        padding: 0 0 0 0;\n",
              "        width: 32px;\n",
              "      }\n",
              "\n",
              "      .colab-df-generate:hover {\n",
              "        background-color: #E2EBFA;\n",
              "        box-shadow: 0px 1px 2px rgba(60, 64, 67, 0.3), 0px 1px 3px 1px rgba(60, 64, 67, 0.15);\n",
              "        fill: #174EA6;\n",
              "      }\n",
              "\n",
              "      [theme=dark] .colab-df-generate {\n",
              "        background-color: #3B4455;\n",
              "        fill: #D2E3FC;\n",
              "      }\n",
              "\n",
              "      [theme=dark] .colab-df-generate:hover {\n",
              "        background-color: #434B5C;\n",
              "        box-shadow: 0px 1px 3px 1px rgba(0, 0, 0, 0.15);\n",
              "        filter: drop-shadow(0px 1px 2px rgba(0, 0, 0, 0.3));\n",
              "        fill: #FFFFFF;\n",
              "      }\n",
              "    </style>\n",
              "    <button class=\"colab-df-generate\" onclick=\"generateWithVariable('ventas')\"\n",
              "            title=\"Generate code using this dataframe.\"\n",
              "            style=\"display:none;\">\n",
              "\n",
              "  <svg xmlns=\"http://www.w3.org/2000/svg\" height=\"24px\"viewBox=\"0 0 24 24\"\n",
              "       width=\"24px\">\n",
              "    <path d=\"M7,19H8.4L18.45,9,17,7.55,7,17.6ZM5,21V16.75L18.45,3.32a2,2,0,0,1,2.83,0l1.4,1.43a1.91,1.91,0,0,1,.58,1.4,1.91,1.91,0,0,1-.58,1.4L9.25,21ZM18.45,9,17,7.55Zm-12,3A5.31,5.31,0,0,0,4.9,8.1,5.31,5.31,0,0,0,1,6.5,5.31,5.31,0,0,0,4.9,4.9,5.31,5.31,0,0,0,6.5,1,5.31,5.31,0,0,0,8.1,4.9,5.31,5.31,0,0,0,12,6.5,5.46,5.46,0,0,0,6.5,12Z\"/>\n",
              "  </svg>\n",
              "    </button>\n",
              "    <script>\n",
              "      (() => {\n",
              "      const buttonEl =\n",
              "        document.querySelector('#id_eb46dc21-1474-4582-9803-47a3658919de button.colab-df-generate');\n",
              "      buttonEl.style.display =\n",
              "        google.colab.kernel.accessAllowed ? 'block' : 'none';\n",
              "\n",
              "      buttonEl.onclick = () => {\n",
              "        google.colab.notebook.generateWithVariable('ventas');\n",
              "      }\n",
              "      })();\n",
              "    </script>\n",
              "  </div>\n",
              "\n",
              "    </div>\n",
              "  </div>\n"
            ],
            "application/vnd.google.colaboratory.intrinsic+json": {
              "type": "dataframe",
              "variable_name": "ventas",
              "summary": "{\n  \"name\": \"ventas\",\n  \"rows\": 10,\n  \"fields\": [\n    {\n      \"column\": \"a\\u00f1o\",\n      \"properties\": {\n        \"dtype\": \"number\",\n        \"std\": 1,\n        \"min\": 2014,\n        \"max\": 2018,\n        \"num_unique_values\": 5,\n        \"samples\": [\n          2015,\n          2018,\n          2016\n        ],\n        \"semantic_type\": \"\",\n        \"description\": \"\"\n      }\n    },\n    {\n      \"column\": \"G\\u00e9nero\",\n      \"properties\": {\n        \"dtype\": \"category\",\n        \"num_unique_values\": 2,\n        \"samples\": [\n          \"MUJER\",\n          \"HOMBRE\"\n        ],\n        \"semantic_type\": \"\",\n        \"description\": \"\"\n      }\n    },\n    {\n      \"column\": \"Ventas\",\n      \"properties\": {\n        \"dtype\": \"number\",\n        \"std\": 32487270.99326502,\n        \"min\": 29119805.789829038,\n        \"max\": 125922533.8440592,\n        \"num_unique_values\": 10,\n        \"samples\": [\n          125922533.8440592,\n          29119805.789829038\n        ],\n        \"semantic_type\": \"\",\n        \"description\": \"\"\n      }\n    }\n  ]\n}"
            }
          },
          "metadata": {},
          "execution_count": 15
        }
      ]
    },
    {
      "cell_type": "markdown",
      "source": [
        "Se presenta un gráfico tipo scatter con las ventas (en millones) por año por género:"
      ],
      "metadata": {
        "id": "NUivCXLQCoSQ"
      }
    },
    {
      "cell_type": "code",
      "source": [
        "ventas_mujer = ventas[ventas['Género'] == \"MUJER\"]\n",
        "ventas_hombre = ventas[ventas['Género'] == \"HOMBRE\"]\n",
        "plt.scatter(ventas_mujer['año'], ventas_mujer['Ventas'], label=\"Mujer\")\n",
        "plt.scatter(ventas_mujer['año'], ventas_hombre['Ventas'], label=\"Hombre\")\n",
        "plt.title('Ventas por Género y Año')\n",
        "plt.xlabel('Año')\n",
        "plt.ylabel('Ventas (en millones)')\n",
        "plt.legend()\n",
        "plt.xticks(ventas_hombre['año']) # Asegura que se muestren todos los años en el eje x\n",
        "plt.grid(True)\n",
        "plt.show()"
      ],
      "metadata": {
        "colab": {
          "base_uri": "https://localhost:8080/",
          "height": 472
        },
        "id": "-ofCWl9eAOP4",
        "outputId": "44ee8ee9-195b-480e-f6d5-5b67a27a0703"
      },
      "execution_count": null,
      "outputs": [
        {
          "output_type": "display_data",
          "data": {
            "text/plain": [
              "<Figure size 640x480 with 1 Axes>"
            ],
            "image/png": "[encoded data removed]"
          },
          "metadata": {}
        }
      ]
    },
    {
      "cell_type": "markdown",
      "source": [
        "#4.Análisis predictivo\n",
        "\n",
        "El análisis predictivo permite responder preguntas de lo que ocurrirá en el futuro.\n",
        "\n",
        "Se responderá la pregunta: Si se conserva la misma tendencia, ¿cuál será el valor de las ventas para los hombres hasta el año 2026?\n",
        "\n",
        "Para predecir los valores futuros se empleará una interpolación:\n"
      ],
      "metadata": {
        "id": "HxLpQpC9VPt-"
      }
    },
    {
      "cell_type": "code",
      "source": [
        "f_interp_hombre = interp1d(ventas_hombre['año'], ventas_hombre['Ventas'], kind='linear', fill_value='extrapolate')"
      ],
      "metadata": {
        "id": "IlFE8a3tFiE4"
      },
      "execution_count": null,
      "outputs": []
    },
    {
      "cell_type": "markdown",
      "source": [
        "Se calcula el valor de las ventas interpoladas hasta el año 2026:"
      ],
      "metadata": {
        "id": "-mJIF9ppF9GC"
      }
    },
    {
      "cell_type": "code",
      "source": [
        "# Años para la interpolación\n",
        "años_interp = np.arange(2014, 2027)\n",
        "\n",
        "# Generar valor de Interpolación\n",
        "interp_hombre = f_interp_hombre(años_interp)"
      ],
      "metadata": {
        "id": "vTSPATKOGDGw"
      },
      "execution_count": null,
      "outputs": []
    },
    {
      "cell_type": "markdown",
      "source": [
        "Se visualizan los valores originales y los interpolados:"
      ],
      "metadata": {
        "id": "np78X8-EGKOp"
      }
    },
    {
      "cell_type": "code",
      "source": [
        "plt.scatter(ventas_hombre['año'], ventas_hombre['Ventas']/1e6, label='Ventas Originales Hombre')\n",
        "plt.scatter(ventas_mujer['año'], ventas_mujer['Ventas']/1e6, label='Ventas Originales Mujer')\n",
        "plt.plot(años_interp, interp_hombre/1e6, color='blue', linestyle='--', label='Ventas Interpoladas Hombre')\n",
        "plt.title('Ventas Totales por Año con Interpolación')\n",
        "plt.xlabel('Año')\n",
        "plt.ylabel('Ventas Totales (Millones)')\n",
        "plt.legend()\n",
        "plt.grid(True)\n",
        "plt.show()"
      ],
      "metadata": {
        "colab": {
          "base_uri": "https://localhost:8080/",
          "height": 472
        },
        "id": "ZtX_kPP6GN1p",
        "outputId": "eaec96f3-b368-457d-a4f7-12fad32299f7"
      },
      "execution_count": null,
      "outputs": [
        {
          "output_type": "display_data",
          "data": {
            "text/plain": [
              "<Figure size 640x480 with 1 Axes>"
            ],
            "image/png": "[encoded data removed]"
          },
          "metadata": {}
        }
      ]
    }
  ]
}