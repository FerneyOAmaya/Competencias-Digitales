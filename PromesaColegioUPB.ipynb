{
  "nbformat": 4,
  "nbformat_minor": 0,
  "metadata": {
    "colab": {
      "provenance": [],
      "toc_visible": true
    },
    "kernelspec": {
      "name": "python3",
      "display_name": "Python 3"
    },
    "language_info": {
      "name": "python"
    }
  },
  "cells": [
    {
      "cell_type": "markdown",
      "source": [
        "# Procesamiento de datos empleando Google Colaboratory\n",
        "\n",
        "Se presenta un breve tutorial empleando la herramienta Google Colaboratory o \"Colab\" para procesar datos relacionados con la calidad del aire.\n",
        "\n",
        "Por:\n",
        "\n",
        "Ferney Amaya Fernández\n",
        "https://ferneyoamaya.github.io/"
      ],
      "metadata": {
        "id": "9o_pO6ho4rjP"
      }
    },
    {
      "cell_type": "markdown",
      "source": [
        "# Tutorial de Colab\n",
        "\n"
      ],
      "metadata": {
        "id": "FEZlmXRbGJXP"
      }
    },
    {
      "cell_type": "markdown",
      "source": [
        "##1.Instala Colab en tu cuenta de Google\n",
        "\n",
        "Colab es una herramienta libre de Google y puedes acceder a la aplicación a través de tu cuenta de Google. Para esto realiza lo siguiente:\n",
        "1. Abre tu cuenta de Google\n",
        "2. Dirígete a la aplicación Drive\n",
        "3. Intenta abrir un nuevo documento (con la opción +Nuevo) y dirígete a la opción \"Conectar más aplicaciones\"\n",
        "4. Busca Colab e instálala en tu cuenta, acepta los permisos de acceso\n",
        "\n",
        "Cuando vuelvas a dar la oćión +Nuevo, abre un nuevo cuaderno de Google Colaboratory como este.\n",
        "\n",
        "Colab tiene dos tipos de celdas: Código y Texto. Las celdas de Texto reciben código en un formato llamado Markdown. En las celdas de Código puedes escribir código en Python."
      ],
      "metadata": {
        "id": "lsmIUiFfDGQ6"
      }
    },
    {
      "cell_type": "markdown",
      "source": [
        "## 2.Tutorial rápido de Colab: Celdas de Texto\n",
        "\n",
        "A continuación se presentan ejemplos de formato de las celdas de texto.\n",
        "\n",
        "**negrita**\n",
        "\n",
        "_cursiva_ o *cursiva*\n",
        "\n",
        "~~tachado~~\n",
        "\n",
        ">Texto tabulado\n",
        "\n",
        "`ejemplo de código print(a)`\n",
        "\n",
        "[Enlace a UPB](https://www.upb.edu.co)\n",
        "\n",
        "Lista no enumerada:\n",
        "- primer item\n",
        "- segundo item\n",
        "- tercer item\n",
        "\n",
        "Tabla:\n",
        "\n",
        "|Columna 1|Columna 2|\n",
        "|---------|---------|\n",
        "|   A     |    B    |\n",
        "|   C     |    D    |\n",
        "\n",
        "Ecuación:\n",
        "\n",
        "$$e^x=\\sum_{i=0}^\\infty \\frac{1}{i!}x^i$$\n",
        "\n",
        "En el siguiente enlace se encuentran más formas para codificar texto y ecuaciones:\n",
        "\n",
        "https://colab.research.google.com/notebooks/markdown_guide.ipynb"
      ],
      "metadata": {
        "id": "O1rgIKoAqgkR"
      }
    },
    {
      "cell_type": "markdown",
      "source": [
        "## 3.Tutorial rápido de Colab: Celdas de código\n",
        "\n",
        "Características básicas:\n",
        "- Se emplea `=` para asignar un valor a una variable.\n",
        "- Se emplea la función `input()` para permitir que el usuario entre datos.\n",
        "- Se emplea la función `print()` para presentar información en pantalla.\n",
        "\n",
        "Ejecutar la siguiente celda:\n"
      ],
      "metadata": {
        "id": "DIiq91g4O4Zi"
      }
    },
    {
      "cell_type": "code",
      "source": [
        "var1 = int(input('Entre un número entero: '))\n",
        "var2 = 10\n",
        "var3 = var1 + var2\n",
        "print(var3)"
      ],
      "metadata": {
        "id": "f9JYd4njRFas"
      },
      "execution_count": null,
      "outputs": []
    },
    {
      "cell_type": "markdown",
      "source": [],
      "metadata": {
        "id": "1uKe4JJ26DWV"
      }
    },
    {
      "cell_type": "markdown",
      "source": [
        "# Procesamiento de datos con la biblioteca Pandas\n",
        "\n",
        "La biblioteca Pandas para Python permite trabajar analizando y visualizando conjuntos de datos.\n",
        "\n",
        "Revisa el siguiente enlace donde se encuentra información de esta biblioteca:\n",
        "https://pandas.pydata.org/\n",
        "\n",
        "Importa la biblioteca Pandas:"
      ],
      "metadata": {
        "id": "LW6VXO1EUBKm"
      }
    },
    {
      "cell_type": "code",
      "source": [
        "import pandas as pd"
      ],
      "metadata": {
        "id": "pKQiJqdsEIaU"
      },
      "execution_count": null,
      "outputs": []
    },
    {
      "cell_type": "markdown",
      "source": [
        "## 1.Cargar datos y explorarlos\n",
        "\n",
        "Puedes seleccionar un archivo en formato csv, JSON o en excel desde una ubicación en el Internet o desde una ubicación en tu disco local:\n",
        "\n",
        "Indica la ruta a tu archivo, por ejemplo, en un directorio local:\n",
        "```Python\n",
        "path = \"/ruta/archivo\"\n",
        "```\n",
        "Para cargar un archivo csv con los datos separados por punto y coma:\n",
        "```Python\n",
        "df = pd.read_csv(path,sep=';',decimal= '.')\n",
        "```\n",
        "Para cargar un archivo xslx:\n",
        "```Python\n",
        "df = pd.read_excel(path,sheet_name=0)\n",
        "```\n",
        "Por ejemplo, a continuación se cargará un archivo desde un sitio en el Internet que se encuentra en formato csv:"
      ],
      "metadata": {
        "id": "bHmFf1coELP-"
      }
    },
    {
      "cell_type": "code",
      "source": [
        "path = \"https://raw.githubusercontent.com/FerneyOAmaya/Competencias-Digitales/master/H2020Medellin.csv\"\n",
        "df = pd.read_csv(path , sep=',', decimal='.')\n",
        "df.head()"
      ],
      "metadata": {
        "id": "-yDSV5sFHJnv"
      },
      "execution_count": null,
      "outputs": []
    },
    {
      "cell_type": "markdown",
      "source": [
        "Prueba con las siguientes opciones para observar la tabla con los datos descargados:"
      ],
      "metadata": {
        "id": "R_WPxvqnL6Vx"
      }
    },
    {
      "cell_type": "code",
      "source": [
        "df.shape\n",
        "df.columns\n",
        "df.describe()\n",
        "df.tail()\n",
        "df.head()"
      ],
      "metadata": {
        "id": "2InZPscEJzII"
      },
      "execution_count": null,
      "outputs": []
    },
    {
      "cell_type": "markdown",
      "source": [
        "Podemos eliminar una columna innecesaria, por ejemplo la columna: \"Unnamed: 0\""
      ],
      "metadata": {
        "id": "GuHRoTM3XuKe"
      }
    },
    {
      "cell_type": "code",
      "source": [
        "df = df.drop(['Unnamed: 0'], axis=1)"
      ],
      "metadata": {
        "id": "uMhMRSlbXy2k"
      },
      "execution_count": null,
      "outputs": []
    },
    {
      "cell_type": "markdown",
      "source": [
        "Verifica que la columna se haya eliminado."
      ],
      "metadata": {
        "id": "kP2QvDurYVyZ"
      }
    },
    {
      "cell_type": "markdown",
      "source": [
        "## 2.Carga archivos con datos de temperatura, humedad y presión\n",
        "\n",
        "Carga archivos de con datos de humedad, presión y temperatura en las variables dfH, dfP y dfT respectivamente a partir de las siguientes ubicaciones, completa el código que aparece abajo para que puedas hacerlo."
      ],
      "metadata": {
        "id": "rcyXpzMKMj5H"
      }
    },
    {
      "cell_type": "code",
      "source": [
        "pathH = \"https://raw.githubusercontent.com/FerneyOAmaya/Competencias-Digitales/master/H2020Medellin.csv\"\n",
        "pathP = \"https://raw.githubusercontent.com/FerneyOAmaya/Competencias-Digitales/master/P2020Medellin.csv\"\n",
        "pathT = \"https://raw.githubusercontent.com/FerneyOAmaya/Competencias-Digitales/master/T2020Medellin.csv\""
      ],
      "metadata": {
        "id": "_33K85Xs6ylV"
      },
      "execution_count": null,
      "outputs": []
    },
    {
      "cell_type": "markdown",
      "source": [
        "Escribe el código para eliminar la columna \"Unnamed:0\" en cada una de ellas. Verifica y explora las 3 tablas."
      ],
      "metadata": {
        "id": "pJwws6bLN5h6"
      }
    },
    {
      "cell_type": "markdown",
      "source": [
        "Lleva las 3 tablas a una sola. Para hacerlo revisa el siguiente ejemplo: Si quiero unir dos tablas \"tabla1\" y \"tabla\" que comparten los nombres de las columnas \"var1\" y \"var2\" y generar como resultado una tabla llamada \"salida\", la forma de hacerlo es la siguiente:\n",
        "\n",
        "```Python\n",
        "salida = pd.merge(tabla1, tabla2, on=['var1','var2'])\n",
        "```\n",
        "\n",
        "A partir del ejemplo anterior, genere el código que te permita unir en una única tabla, las tablas de humedad, presión y temperatura."
      ],
      "metadata": {
        "id": "tPlt5CfqOHAT"
      }
    },
    {
      "cell_type": "markdown",
      "source": [
        "## 3.Obtener valores estadísticos básicos\n",
        "\n",
        "Puedes obtener valores estadísticos. Por ejemplo, para obtener el valor promedio de la columna \"Temperatura\", puedes hacerlo de la siguiente forma:\n",
        "\n",
        "```Python\n",
        "df['Temperatura'].mean()\n",
        "```\n",
        "Se presentan más resultados de la columna \"Temperatura\""
      ],
      "metadata": {
        "id": "s15-gYDIZdG9"
      }
    },
    {
      "cell_type": "code",
      "source": [
        "print('Conteo:', df['Temperatura'].count())\n",
        "print('Máximo:', df['Temperatura'].max())\n",
        "print('Mínimo:', df['Temperatura'].min())\n",
        "print('Promedio:', df['Temperatura'].mean())\n",
        "print('Desviación estándar:', df['Temperatura'].std())"
      ],
      "metadata": {
        "id": "3_Vg_h14bEJb"
      },
      "execution_count": null,
      "outputs": []
    },
    {
      "cell_type": "markdown",
      "source": [
        "Obten las estadísticas básicas de la temperatura, humedad y presión. Encuentra el valor máximo y mínimo de la fecha."
      ],
      "metadata": {
        "id": "M5DtbS4-b7EB"
      }
    },
    {
      "cell_type": "markdown",
      "source": [
        "## 4.Graficar el valor de una columna\n",
        "\n",
        "En esta sección revisaremos dos alternativas para generar gráficos a partir de una tabla. Por ejemplo, si queremos graficar la temperatura:\n",
        "\n",
        "Alternativa 1: Graficar directamente desde la tabla:"
      ],
      "metadata": {
        "id": "FKcF3vcDcRzq"
      }
    },
    {
      "cell_type": "code",
      "source": [
        "df['Temperatura'].plot()"
      ],
      "metadata": {
        "id": "vYYB5TaGeJmi"
      },
      "execution_count": null,
      "outputs": []
    },
    {
      "cell_type": "markdown",
      "source": [
        "Alternativa 2: Graficar directamente desde la tabla indicando las variables a graficar:"
      ],
      "metadata": {
        "id": "D-zBVdGOxYVf"
      }
    },
    {
      "cell_type": "code",
      "source": [
        "df.plot(x='Fechas',y='Temperatura')"
      ],
      "metadata": {
        "id": "OjCBqFI-xZA1"
      },
      "execution_count": null,
      "outputs": []
    },
    {
      "cell_type": "markdown",
      "source": [
        "Alternativa 3: Graficar empleando la biblioteca matplotlib.pyplot. En este caso graficamos la temperatura en función de la fecha y debemos previamente ordenar en forma ascendente las fechas."
      ],
      "metadata": {
        "id": "xi2F92rsqA48"
      }
    },
    {
      "cell_type": "code",
      "source": [
        "import matplotlib.pyplot as plt\n",
        "\n",
        "df = df.sort_values('Fechas',ascending=True)\n",
        "plt.plot(df['Fechas'],df['Temperatura'])\n",
        "plt.title('Temperatura en función de la fecha')\n",
        "ax = plt.subplot()\n",
        "ax.set_xlabel('Fecha')\n",
        "ax.set_ylabel('Temperatura')"
      ],
      "metadata": {
        "id": "3UAkkZr9URP3"
      },
      "execution_count": null,
      "outputs": []
    },
    {
      "cell_type": "markdown",
      "source": [
        "Puede graficarse la temperatura en un gráfico tipo cajas y bigotes. Averigue como se interpreta."
      ],
      "metadata": {
        "id": "v46t9dQeupwI"
      }
    },
    {
      "cell_type": "code",
      "source": [
        "df['Temperatura'].plot(kind=\"box\")"
      ],
      "metadata": {
        "id": "2H3o8IoruX3n"
      },
      "execution_count": null,
      "outputs": []
    },
    {
      "cell_type": "markdown",
      "source": [
        "Generar gráficas para la presión y la humedad."
      ],
      "metadata": {
        "id": "CUBTE2zLqvLM"
      }
    },
    {
      "cell_type": "markdown",
      "source": [
        "## 5.Agrupar y ordenar\n",
        "\n",
        "Por ejemplo, si se quiere obtener el promedio de temperatura por cada estación y posteriormente presentarlo:"
      ],
      "metadata": {
        "id": "sNUlE6WTqr6v"
      }
    },
    {
      "cell_type": "code",
      "source": [
        "df.groupby(['Estacion'])['Temperatura'].mean()"
      ],
      "metadata": {
        "colab": {
          "base_uri": "https://localhost:8080/"
        },
        "id": "UPCD0kfeKAvq",
        "outputId": "64bcdc6f-13fa-4ec5-e17b-95ee5c4ccfba"
      },
      "execution_count": null,
      "outputs": [
        {
          "output_type": "execute_result",
          "data": {
            "text/plain": [
              "Estacion\n",
              "BEL-USBV    21.520074\n",
              "ITA-CJUS    22.171826\n",
              "MED-FISC    22.637576\n",
              "Name: Temperatura, dtype: float64"
            ]
          },
          "metadata": {},
          "execution_count": 84
        }
      ]
    },
    {
      "cell_type": "markdown",
      "source": [
        "Puede generarse una gráfica de barras:"
      ],
      "metadata": {
        "id": "6c-0o5VhsR75"
      }
    },
    {
      "cell_type": "code",
      "source": [
        "df.groupby(['Estacion'])['Temperatura'].mean().plot(kind=\"bar\")"
      ],
      "metadata": {
        "colab": {
          "base_uri": "https://localhost:8080/",
          "height": 521
        },
        "id": "0VRq1Qk4savK",
        "outputId": "760241bb-ef6c-4548-d610-bfe5a41542cd"
      },
      "execution_count": null,
      "outputs": [
        {
          "output_type": "execute_result",
          "data": {
            "text/plain": [
              "<Axes: xlabel='Estacion'>"
            ]
          },
          "metadata": {},
          "execution_count": 86
        },
        {
          "output_type": "display_data",
          "data": {
            "text/plain": [
              "<Figure size 640x480 with 1 Axes>"
            ],
            "image/png": "[encoded data removed]"
          },
          "metadata": {}
        }
      ]
    },
    {
      "cell_type": "markdown",
      "source": [
        "## 5. Relación entre variables\n",
        "\n",
        "Se presentan diferentes formas de observar la relación entre variables:\n",
        "\n",
        "### Gráfica de dos variables"
      ],
      "metadata": {
        "id": "kZS4DYG_tC-u"
      }
    },
    {
      "cell_type": "code",
      "source": [
        "plt.plot(df['Temperatura'],df['Presion'])\n",
        "ax = plt.subplot()\n",
        "ax.set_xlabel('Temperatura')\n",
        "ax.set_ylabel('Presion')\n",
        "plt.show()"
      ],
      "metadata": {
        "id": "kt2lBrb-Kt2n"
      },
      "execution_count": null,
      "outputs": []
    },
    {
      "cell_type": "markdown",
      "source": [
        "¿Cuáles variables se relacionan más? ¿Cómo identificarlo?"
      ],
      "metadata": {
        "id": "Q_dlUaejv122"
      }
    },
    {
      "cell_type": "markdown",
      "source": [
        "### Correlación entre dos variables"
      ],
      "metadata": {
        "id": "vM9ZOIIlvYly"
      }
    },
    {
      "cell_type": "code",
      "source": [
        "print(df['Temperatura'].corr(df['Presion']))"
      ],
      "metadata": {
        "id": "tynDvaB3vrCe"
      },
      "execution_count": null,
      "outputs": []
    },
    {
      "cell_type": "markdown",
      "source": [
        "¿Cuáles variables se relacionan más? ¿Cómo identificarlo?\n",
        "\n",
        "### Regresión lineal"
      ],
      "metadata": {
        "id": "juFy_vGXv9cW"
      }
    },
    {
      "cell_type": "code",
      "source": [
        "muestras = df.shape[0]\n",
        "x = df['Temperatura'].values.reshape((muestras,1))\n",
        "y = df['Presion'].values.reshape((muestras,1))"
      ],
      "metadata": {
        "id": "LjGO1sG60zbM"
      },
      "execution_count": null,
      "outputs": []
    },
    {
      "cell_type": "code",
      "source": [
        "from sklearn import linear_model\n",
        "from sklearn.metrics import mean_squared_error, r2_score\n",
        "\n",
        "# Crear el modelo de regresión lineal\n",
        "modelo = linear_model.LinearRegression()\n",
        "\n",
        "# Entrenar el modelo con los datos (X,Y)\n",
        "modelo.fit(x, y)\n",
        "\n",
        "# Predecir usando el modelo\n",
        "y_pred = modelo.predict(x)\n",
        "\n",
        "# Calcular el error cuadrático medio y el estadístico R^2\n",
        "print('Error cuadrático medio: ', mean_squared_error(y, y_pred))\n",
        "print('Estadístico R_2: ', r2_score(y, y_pred))\n",
        "\n",
        "# Graficar\n",
        "plt.scatter(x, y)\n",
        "plt.plot(x, y_pred, color='red')\n",
        "plt.show()"
      ],
      "metadata": {
        "id": "6BX9i2kyynlS"
      },
      "execution_count": null,
      "outputs": []
    }
  ]
}