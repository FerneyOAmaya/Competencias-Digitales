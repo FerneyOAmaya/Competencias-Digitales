{
  "nbformat": 4,
  "nbformat_minor": 0,
  "metadata": {
    "colab": {
      "name": "0_Python.ipynb",
      "provenance": [],
      "collapsed_sections": [],
      "toc_visible": true
    },
    "kernelspec": {
      "name": "python3",
      "display_name": "Python 3"
    }
  },
  "cells": [
    {
      "cell_type": "markdown",
      "metadata": {
        "id": "5Uimjphy8WNz",
        "colab_type": "text"
      },
      "source": [
        "[![Open In Colab](https://colab.research.google.com/assets/colab-badge.svg)](https://colab.research.google.com/github/FerneyOAmaya/DataLiteracy/blob/master/0_Python.ipynb)\n",
        "\n",
        "#Introducción a Pyhton\n",
        "\n",
        "Contenido:\n",
        "1. Generalidades.\n",
        "2. Tipos de datos.\n",
        "3. Operadores.\n",
        "4. Estructuras de control."
      ]
    },
    {
      "cell_type": "markdown",
      "metadata": {
        "id": "XZ6FiRW5-o-o",
        "colab_type": "text"
      },
      "source": [
        "## 1.Generalidades\n",
        "\n",
        "Algunos aspectos de Python:\n",
        "- Emplea una nueva linea para completar el comando, no requiere punto y coma al final.\n",
        "- Emplea identación (sangrado) en lazos, funciones, clases. Debe usarse al menos 1 espacio en blanco."
      ]
    },
    {
      "cell_type": "markdown",
      "metadata": {
        "id": "aJ08w-wwRVvv",
        "colab_type": "text"
      },
      "source": [
        "### 1.1. Variables\n",
        "\n",
        "Las variables son creada al asignarles un valor por primera vez.\n",
        "\n",
        "Para nombrar variables:\n",
        "- Son sensibles a las mayúsculas y minúsculas (case-sensitive), las variables CARRO y carro son diferentes.\n",
        "- Su nombre debe iniciar con letra o guión bajo (_), no con un número.\n",
        "- Pueden contener solo caracteres alfanuméricas y guión bajo  (A-z, 0-9, _ ).\n",
        "\n",
        "El comando print() es empleado para visualizar el contenido de una variable.\n",
        "\n",
        "Asignar a la variable x el valor 5 y luego visualizar el valor:"
      ]
    },
    {
      "cell_type": "code",
      "metadata": {
        "id": "1Qvli5c1ReD5",
        "colab_type": "code",
        "outputId": "8397669d-6699-4653-98df-943c13602fa1",
        "colab": {
          "base_uri": "https://localhost:8080/",
          "height": 34
        }
      },
      "source": [
        "x = 5\n",
        "print(x)"
      ],
      "execution_count": 0,
      "outputs": [
        {
          "output_type": "stream",
          "text": [
            "5\n"
          ],
          "name": "stdout"
        }
      ]
    },
    {
      "cell_type": "markdown",
      "metadata": {
        "id": "23q_KmkpR3E6",
        "colab_type": "text"
      },
      "source": [
        "Pueden asignarse valores a múltiples variables en una línea:\n"
      ]
    },
    {
      "cell_type": "code",
      "metadata": {
        "id": "BcgZp01FSCJ1",
        "colab_type": "code",
        "outputId": "a8184222-67ca-4068-c247-07d6aee7f898",
        "colab": {
          "base_uri": "https://localhost:8080/",
          "height": 34
        }
      },
      "source": [
        "x, y, z = \"Manzana\", \"Azul\", \"Edificio\"\n",
        "print(x,y,z)"
      ],
      "execution_count": 0,
      "outputs": [
        {
          "output_type": "stream",
          "text": [
            "Manzana Azul Edificio\n"
          ],
          "name": "stdout"
        }
      ]
    },
    {
      "cell_type": "markdown",
      "metadata": {
        "id": "YVG2ccudRenX",
        "colab_type": "text"
      },
      "source": [
        "### 1.2. Comentarios\n",
        "\n",
        "Pueden ser de una o varias líneas:\n",
        "\n",
        "\\# Comentario de una sola línea\n",
        "<br> <br>\n",
        "\"\"\" <br>\n",
        "Comentario <br>\n",
        "de varias <br>\n",
        "líneas <br>\n",
        "\"\"\"\n"
      ]
    },
    {
      "cell_type": "markdown",
      "metadata": {
        "id": "D5fbjoQ58npU",
        "colab_type": "text"
      },
      "source": [
        "## 2.Tipos de datos\n",
        "\n",
        "Los tipos de datos nativos de Python son:\n",
        "- Text Type:\tstr\n",
        "- Numeric Types:\tint, float, complex\n",
        "- Sequence Types:\tlist, tuple, range\n",
        "- Mapping Type:\tdict\n",
        "- Set Types:\tset, frozenset\n",
        "- Boolean Type:\tbool\n",
        "- Binary Types:\tbytes, bytearray, memoryview\n",
        "\n",
        "Tomado de: \n",
        "https://www.w3schools.com/python/python_datatypes.asp\n",
        "\n",
        "Se abordarán los tipos numéricos int, float, complex; las cadenas de caracters (strings), las listas (list), y los tipos tuple, bool y range.\n",
        "\n",
        "El comando type() entrega el tipo de datos de una variable. "
      ]
    },
    {
      "cell_type": "markdown",
      "metadata": {
        "id": "SONkdj1ceB9g",
        "colab_type": "text"
      },
      "source": [
        "### 2.1.\tTipos numéricos\n",
        "\n",
        "Hay varios tipos de representación numerica: enteros (int), punto flotante (float) y números complejos (complex). \n",
        "\n",
        "Los valores decimales son separados por punto.\n",
        "\n",
        "Los enteros:\n",
        "\n",
        "$$-\\infty, ...,-2,-1,0,1,2,, ...,\\infty$$\n",
        "\n"
      ]
    },
    {
      "cell_type": "code",
      "metadata": {
        "id": "msjWWjudeWbX",
        "colab_type": "code",
        "outputId": "8655833d-a6dc-4318-92e5-e92e20d6b06f",
        "colab": {
          "base_uri": "https://localhost:8080/",
          "height": 34
        }
      },
      "source": [
        "a = 5       #Entero\n",
        "b = 5.0     #Flotante\n",
        "c = 1+2j    #Complejo\n",
        "print(type(a),type(b),type(c))"
      ],
      "execution_count": 16,
      "outputs": [
        {
          "output_type": "stream",
          "text": [
            "<class 'int'> <class 'float'> <class 'complex'>\n"
          ],
          "name": "stdout"
        }
      ]
    },
    {
      "cell_type": "markdown",
      "metadata": {
        "id": "d444oYZzeSd_",
        "colab_type": "text"
      },
      "source": [
        "### 2.2. Cadenas de caracteres\n",
        "\n",
        "Las cadenas de caracteres (strings) pueden conformarse con comillas simples 'cadena de caracteres' o dobles \"cadena de caracteres\":\n",
        "\n",
        "Cada elemento de la cadena puede indexarse de dos formas:\n",
        "- índice positivo: el índice del primer elemento es 0.\n",
        "- índice negativo: el índice del último elemento es -1.\n"
      ]
    },
    {
      "cell_type": "code",
      "metadata": {
        "id": "IdtrewHK-ZRG",
        "colab_type": "code",
        "colab": {
          "base_uri": "https://localhost:8080/",
          "height": 34
        },
        "outputId": "62ba1334-9158-4d9e-ef04-1eb13c060337"
      },
      "source": [
        "a = \"Hol@ mundo\"\n",
        "a = 'Hol@ mundo'\n",
        "print(a[3], a[-7])"
      ],
      "execution_count": 8,
      "outputs": [
        {
          "output_type": "stream",
          "text": [
            "@ @\n"
          ],
          "name": "stdout"
        }
      ]
    },
    {
      "cell_type": "markdown",
      "metadata": {
        "id": "bhsmbTBP-Zp0",
        "colab_type": "text"
      },
      "source": [
        "Se puede acceder a varios elementos:"
      ]
    },
    {
      "cell_type": "code",
      "metadata": {
        "id": "6ukUZO32_bAw",
        "colab_type": "code",
        "colab": {
          "base_uri": "https://localhost:8080/",
          "height": 85
        },
        "outputId": "5e9e0d44-ca7d-43d6-bc22-4d0b2963c7b3"
      },
      "source": [
        "a = 'Hol@ mundo'\n",
        "print(a[0:3])    #Caracteres del 0 al 2: 0='H', 1='o', 2='l'\n",
        "print(a[:4])     #Caracteres del 0 al 3: 0='H', 1='o', 2='l', 3='@' \n",
        "print(a[5:])     #Caracteres del 5 al final\n",
        "print(a[0:9:2])  #Caracteres del 0 al 8, agrupa de a 2 y accede al último"
      ],
      "execution_count": 22,
      "outputs": [
        {
          "output_type": "stream",
          "text": [
            "Hol\n",
            "Hol@\n",
            "mundo\n",
            "Hl ud\n"
          ],
          "name": "stdout"
        }
      ]
    },
    {
      "cell_type": "markdown",
      "metadata": {
        "id": "KFDtvHts_bTC",
        "colab_type": "text"
      },
      "source": [
        "Pueden insertarse caracteres de escape en la cadena de caracteres, algunos son:\n",
        "- \\\\'\tSingle Quote\t\n",
        "- \\\\\\\tBackslash\t\n",
        "- \\n\tNew Line\t\n",
        "- \\r\tCarriage Return\t\n",
        "- \\t\tTab\t\n",
        "- \\b\tBackspace\t\n",
        "- \\f\tForm Feed\t\n",
        "\n",
        "Tomado de:\n",
        "https://www.w3schools.com/python/gloss_python_escape_characters.asp"
      ]
    },
    {
      "cell_type": "code",
      "metadata": {
        "id": "FC9GMZEKA4R6",
        "colab_type": "code",
        "colab": {
          "base_uri": "https://localhost:8080/",
          "height": 51
        },
        "outputId": "63608b00-dd40-4ece-ae82-b70d281dc201"
      },
      "source": [
        "a = 'Hola\\nmundo'\n",
        "print(a)"
      ],
      "execution_count": 15,
      "outputs": [
        {
          "output_type": "stream",
          "text": [
            "Hola\n",
            "mundo\n"
          ],
          "name": "stdout"
        }
      ]
    },
    {
      "cell_type": "markdown",
      "metadata": {
        "id": "3hPA122jJnT6",
        "colab_type": "text"
      },
      "source": [
        ""
      ]
    },
    {
      "cell_type": "markdown",
      "metadata": {
        "id": "2VdShu3dA3e6",
        "colab_type": "text"
      },
      "source": [
        "Operaciones con strings:\n",
        "- .upper()\n",
        "- .replace()\n",
        "- .find()\n",
        "- Ejemplo de unión de dos cadenas: a = 'Hola' + 'mundo'\n",
        "\n",
        "El número de elementos de cadena de caracteres se obtiene con: len()."
      ]
    },
    {
      "cell_type": "code",
      "metadata": {
        "id": "zUhTmg0vIZYS",
        "colab_type": "code",
        "colab": {
          "base_uri": "https://localhost:8080/",
          "height": 34
        },
        "outputId": "5cb5c141-18f7-48e9-aa51-2c2f4f7003ba"
      },
      "source": [
        "a = 'Hola' + ' ' + 'mundo'\n",
        "print(a, len(a))"
      ],
      "execution_count": 34,
      "outputs": [
        {
          "output_type": "stream",
          "text": [
            "Hola mundo 10\n"
          ],
          "name": "stdout"
        }
      ]
    },
    {
      "cell_type": "markdown",
      "metadata": {
        "id": "TTXkGIyOB8s0",
        "colab_type": "text"
      },
      "source": [
        "### 2.3. Listas\n",
        "\n",
        "Las listas (List) son colecciones o arreglos de elementos ordenados, no necesariamente son del mismo tipo y que pueden modificarse.\n",
        "\n",
        "Se indexan en forma similar a las cadenas de caracteres (str)."
      ]
    },
    {
      "cell_type": "code",
      "metadata": {
        "id": "w_OGHn02E0Tr",
        "colab_type": "code",
        "colab": {
          "base_uri": "https://localhost:8080/",
          "height": 51
        },
        "outputId": "a982d272-86ac-4c4d-a872-f1e67fe60961"
      },
      "source": [
        "a = [1, 2, 2.2, 3.5, 'python']\n",
        "print(a[2]) \n",
        "print(a[2:4])"
      ],
      "execution_count": 25,
      "outputs": [
        {
          "output_type": "stream",
          "text": [
            "2.2\n",
            "[2.2, 3.5]\n"
          ],
          "name": "stdout"
        }
      ]
    },
    {
      "cell_type": "markdown",
      "metadata": {
        "id": "vs6KOZGBE0v-",
        "colab_type": "text"
      },
      "source": [
        "Operaciones con listas:\n",
        "- .extend()\n",
        "- .append()\n",
        "- .del()\n",
        "- .split(): conforma una lista separando una cadena de caracteres a partir de un caracter específico, por defecto es espacio.\n",
        "\n",
        "El número de elementos de la lista: len()"
      ]
    },
    {
      "cell_type": "code",
      "metadata": {
        "id": "uR7CJZbiGWsD",
        "colab_type": "code",
        "colab": {
          "base_uri": "https://localhost:8080/",
          "height": 68
        },
        "outputId": "26a28304-a366-472f-92c7-5002347361a0"
      },
      "source": [
        "a = [1, 2, 2.2, 3.5, 'python']\n",
        "print(len(a))\n",
        "print('Hola mundo'.split())\n",
        "print('A,B,C,D'.split(','))"
      ],
      "execution_count": 35,
      "outputs": [
        {
          "output_type": "stream",
          "text": [
            "5\n",
            "['Hola', 'mundo']\n",
            "['A', 'B', 'C', 'D']\n"
          ],
          "name": "stdout"
        }
      ]
    },
    {
      "cell_type": "markdown",
      "metadata": {
        "id": "3d-WFvriC0Cc",
        "colab_type": "text"
      },
      "source": [
        "### 2.4. Otros tipos de datos y especificación del tipo de datos\n",
        "\n",
        "Los tipos booleano pueden tener solo dos valores: True, False.\n",
        "\n",
        "Las tuplas (Tuple) son una secuencia ordrdenada de elementos como en una lista. La diferencia es que una vez creada la tupla, esta no puede modificarse, solo añadir elementos.\n",
        "\n",
        "Los tipos range se crean con: range(). Por ejemplo, con el comando range(3) se crean los valores 0, 1, 2.\n",
        "\n",
        "Puede especificarse un tipo de variable con los comandos:\n",
        "- float()\n",
        "- int()\n",
        "- str()\n",
        "- bool()\n",
        "- complex()\n",
        "- list()\n"
      ]
    },
    {
      "cell_type": "code",
      "metadata": {
        "id": "hO-SSJglOd7p",
        "colab_type": "code",
        "colab": {
          "base_uri": "https://localhost:8080/",
          "height": 68
        },
        "outputId": "8e18391b-5059-4f6a-e7fd-22f679d774e0"
      },
      "source": [
        "print(int(2.34))\n",
        "print(float(2))\n",
        "print(complex(2))"
      ],
      "execution_count": 38,
      "outputs": [
        {
          "output_type": "stream",
          "text": [
            "2\n",
            "2.0\n",
            "(2+0j)\n"
          ],
          "name": "stdout"
        }
      ]
    },
    {
      "cell_type": "markdown",
      "metadata": {
        "id": "NsNoqbL1BP3M",
        "colab_type": "text"
      },
      "source": [
        "## 3.Operadores\n",
        "\n",
        "El contenido de esta sección es tomado de:\n",
        "https://www.w3schools.com/python/python_operators.asp\n",
        "\n",
        "Python clasifica los operadores en los siguientes grupos:\n",
        "- Aritméticos\n",
        "- Asignamiento\n",
        "- Comparación\n",
        "- Lógicos\n",
        "- De identidad\n",
        "- De mebresía\n",
        "- Entre bits"
      ]
    },
    {
      "cell_type": "markdown",
      "metadata": {
        "id": "qFNb2jMPTIgH",
        "colab_type": "text"
      },
      "source": [
        "### 3.1. Operadores aritméticos\n",
        "\n",
        "Empleados entre variables numéricas:\n",
        "\n",
        "- Adición +\t\n",
        "- Subtracción -\t\n",
        "- Multiplicación *\t\n",
        "- División\t/\t\n",
        "- Módulo de la división %\t\n",
        "- Exponenciación **\t\n",
        "- Resultado de la división redondeando al menor entero //"
      ]
    },
    {
      "cell_type": "code",
      "metadata": {
        "id": "VKp5ZiBlSSCy",
        "colab_type": "code",
        "colab": {
          "base_uri": "https://localhost:8080/",
          "height": 51
        },
        "outputId": "d3e7843c-2b05-4396-d9b5-a76d30de72b0"
      },
      "source": [
        "x = 7\n",
        "y = 3\n",
        "print(x+y, x-y, x*y, x/y)\n",
        "print(x%y, x**y, x//y)"
      ],
      "execution_count": 45,
      "outputs": [
        {
          "output_type": "stream",
          "text": [
            "10 4 21 2.3333333333333335\n",
            "1 343 2\n"
          ],
          "name": "stdout"
        }
      ]
    },
    {
      "cell_type": "markdown",
      "metadata": {
        "id": "Gqp9DhgvSSdS",
        "colab_type": "text"
      },
      "source": [
        "### 3.2. Operadores de asignamiento\n",
        "\n",
        "Para asignar un valor a una variable se emplea el operador =.\n",
        "\n",
        "Los operadores de asignamiento permiten simplificar la escritura al emplear operadores aritméticos:\n",
        "\n",
        "por ejemplo, al escribir:\n",
        "\n",
        "x 'operador' = 'valor'\n",
        "\n",
        "equivale a:\n",
        "\n",
        "x = x 'operador' 'valor'\n",
        "\n",
        "En estos ejemplos, la variable x debió asignarse previamente.\n",
        "\n",
        "Ejemplos:\n"
      ]
    },
    {
      "cell_type": "code",
      "metadata": {
        "id": "NDWrXJtMVHM8",
        "colab_type": "code",
        "colab": {
          "base_uri": "https://localhost:8080/",
          "height": 51
        },
        "outputId": "f1ea450a-426b-4d32-993f-bd3f2d018304"
      },
      "source": [
        "x = 7\n",
        "print(x)\n",
        "x +=3\n",
        "print(x)\n",
        "x *=3 \n"
      ],
      "execution_count": 50,
      "outputs": [
        {
          "output_type": "stream",
          "text": [
            "5\n",
            "8\n"
          ],
          "name": "stdout"
        }
      ]
    },
    {
      "cell_type": "markdown",
      "metadata": {
        "id": "qH4s9eXpVyG5",
        "colab_type": "text"
      },
      "source": [
        "### 3.3. Operadores de comparación\n",
        "\n",
        "Empleados para comparar dos valores, devuelve un valor lógico:\n",
        "- Igual ==\t\n",
        "- No igual !=\t\n",
        "- Mayor que >\t\n",
        "- Menor que <\t\n",
        "- Mayor o igual que >=\t\n",
        "- Menor o igual que <=\t"
      ]
    },
    {
      "cell_type": "code",
      "metadata": {
        "id": "qZ6INMUXWeTt",
        "colab_type": "code",
        "colab": {
          "base_uri": "https://localhost:8080/",
          "height": 68
        },
        "outputId": "affcaa56-c0e8-4e06-e086-007af4eea01b"
      },
      "source": [
        "x = 7\n",
        "y = 3\n",
        "print(x == y)\n",
        "print(x != y)\n",
        "print(x > y)"
      ],
      "execution_count": 51,
      "outputs": [
        {
          "output_type": "stream",
          "text": [
            "False\n",
            "True\n",
            "True\n"
          ],
          "name": "stdout"
        }
      ]
    },
    {
      "cell_type": "markdown",
      "metadata": {
        "id": "iOTX3gR0Wel8",
        "colab_type": "text"
      },
      "source": [
        "### 3.4. Operadores lógicos\n",
        "\n",
        "Empleados para combinar operaciones de comparación:\n",
        "\n",
        "- and\n",
        "- or\n",
        "- not"
      ]
    },
    {
      "cell_type": "code",
      "metadata": {
        "id": "Go7w0b08Xb4u",
        "colab_type": "code",
        "colab": {
          "base_uri": "https://localhost:8080/",
          "height": 68
        },
        "outputId": "077928f2-5c6d-4288-df84-ee30da606a5c"
      },
      "source": [
        "x = 7\n",
        "y = 3\n",
        "print(x==y and x>y)\n",
        "print(x!=y and x>y)\n",
        "print(not(x==y and x>y))"
      ],
      "execution_count": 53,
      "outputs": [
        {
          "output_type": "stream",
          "text": [
            "False\n",
            "True\n",
            "True\n"
          ],
          "name": "stdout"
        }
      ]
    },
    {
      "cell_type": "markdown",
      "metadata": {
        "id": "PGbOsefOXcOy",
        "colab_type": "text"
      },
      "source": [
        "### 3.5. Operadores de identidad\n",
        "\n",
        "Empleados para identificar si dos variables comparten la misma ubicación en memoria:\n",
        "- is\n",
        "- is not"
      ]
    },
    {
      "cell_type": "code",
      "metadata": {
        "id": "JKmRF24VYhDq",
        "colab_type": "code",
        "colab": {
          "base_uri": "https://localhost:8080/",
          "height": 51
        },
        "outputId": "ee620c67-f50c-46bf-fb3f-0c8c6911fa62"
      },
      "source": [
        "x = 7\n",
        "y = 3\n",
        "z = x\n",
        "print(x is y)\n",
        "print(x is z)"
      ],
      "execution_count": 55,
      "outputs": [
        {
          "output_type": "stream",
          "text": [
            "False\n",
            "True\n"
          ],
          "name": "stdout"
        }
      ]
    },
    {
      "cell_type": "markdown",
      "metadata": {
        "id": "uIz3_jEeY-O4",
        "colab_type": "text"
      },
      "source": [
        "Es importante tener en cuenta que al asignar una variable a otra, la nueva variable comparte la misma posición de memoria, como ocurre con las variables x y z en el ejemplo anterior."
      ]
    },
    {
      "cell_type": "markdown",
      "metadata": {
        "id": "zzf9qqoNYhUm",
        "colab_type": "text"
      },
      "source": [
        "### 3.6. Operadores de membresía\n",
        "\n",
        "Empleados para saber si una secuencia está presente o no en un objeto, devuelve un valor lógico:\n",
        "\n",
        "- in\n",
        "- not in\n"
      ]
    },
    {
      "cell_type": "code",
      "metadata": {
        "id": "cjXxpjXraRAV",
        "colab_type": "code",
        "colab": {
          "base_uri": "https://localhost:8080/",
          "height": 51
        },
        "outputId": "cc9ad2b7-4c89-4298-de7d-8d3eab252a6d"
      },
      "source": [
        "x = ['manzana', 'mango']\n",
        "print('mango' in x)\n",
        "print('pera' in x)"
      ],
      "execution_count": 58,
      "outputs": [
        {
          "output_type": "stream",
          "text": [
            "True\n",
            "False\n"
          ],
          "name": "stdout"
        }
      ]
    },
    {
      "cell_type": "markdown",
      "metadata": {
        "id": "fLrXAeRRaRPL",
        "colab_type": "text"
      },
      "source": [
        "### 3.7. Operaciones entre bits\n",
        "\n",
        "Realizan la operación indicada bit a bit:\n",
        "\n",
        "- & \tAND\n",
        "- |\tOR\n",
        "- ^\tXOR\n",
        "- ~ NOT\n",
        "- <<\tdesplazamiento a izquierda insertando ceros\n",
        "- \\>>\tdesplazamiento a derecha conservando el signo"
      ]
    },
    {
      "cell_type": "code",
      "metadata": {
        "id": "OSWvIhEzbeV0",
        "colab_type": "code",
        "colab": {
          "base_uri": "https://localhost:8080/",
          "height": 119
        },
        "outputId": "3cd2a3c0-4bff-4cb2-a74f-7d130cfe9ae5"
      },
      "source": [
        "x = 7     #En binario en 4 bits es '0111'\n",
        "y = 3     #En binario en 4 bits es '0011'\n",
        "print(x & y)\n",
        "print(x | y)\n",
        "print(x ^ y)\n",
        "print(~x)\n",
        "print(x << y)\n",
        "print(x >> y)\n"
      ],
      "execution_count": 60,
      "outputs": [
        {
          "output_type": "stream",
          "text": [
            "3\n",
            "7\n",
            "4\n",
            "-8\n",
            "56\n",
            "0\n"
          ],
          "name": "stdout"
        }
      ]
    },
    {
      "cell_type": "markdown",
      "metadata": {
        "id": "bXSpwFNjESeO",
        "colab_type": "text"
      },
      "source": [
        "## 4. Estructuras de control\n",
        "\n",
        "Las estructuras de control permiten modificar el flujo de ejecución de las instrucciones:\n",
        "- if elif else\n",
        "- for\n",
        "- while\n",
        "\n",
        "En Python no se tiene la estructura switch.\n",
        "\n",
        "En estas estructuras debe emplearse identación (sangrado).\n",
        "\n"
      ]
    },
    {
      "cell_type": "markdown",
      "metadata": {
        "id": "yW_MiAAKdNns",
        "colab_type": "text"
      },
      "source": [
        "### 4.1 if elif else\n",
        "\n",
        "El if debe tener instrucciones, si por alguna razón no se requieren, puede colocarse pass para evitar el error."
      ]
    },
    {
      "cell_type": "code",
      "metadata": {
        "id": "HaFqyeqyeg4t",
        "colab_type": "code",
        "colab": {
          "base_uri": "https://localhost:8080/",
          "height": 34
        },
        "outputId": "f9ca0706-4281-404d-d058-59e757ee7f1e"
      },
      "source": [
        "x = 7\n",
        "y = 3\n",
        "\n",
        "if x>y:\n",
        " print('If: mayor')\n",
        "elif x<y:\n",
        " print('Elif: menor')\n",
        "else:\n",
        " print('Else: igual')"
      ],
      "execution_count": 62,
      "outputs": [
        {
          "output_type": "stream",
          "text": [
            "If: mayor\n"
          ],
          "name": "stdout"
        }
      ]
    },
    {
      "cell_type": "markdown",
      "metadata": {
        "id": "PoMKIL8behMR",
        "colab_type": "text"
      },
      "source": [
        "### 4.2 for\n",
        "\n",
        "La forma común de usar el for es como se presenta en el ejemplo:"
      ]
    },
    {
      "cell_type": "code",
      "metadata": {
        "id": "npwaVFCphb32",
        "colab_type": "code",
        "colab": {
          "base_uri": "https://localhost:8080/",
          "height": 68
        },
        "outputId": "bd4beea4-9961-41b5-d341-afa080ced434"
      },
      "source": [
        "for x in range(3):\n",
        " print(x)"
      ],
      "execution_count": 64,
      "outputs": [
        {
          "output_type": "stream",
          "text": [
            "0\n",
            "1\n",
            "2\n"
          ],
          "name": "stdout"
        }
      ]
    },
    {
      "cell_type": "markdown",
      "metadata": {
        "id": "e8cqh-Cwhlhb",
        "colab_type": "text"
      },
      "source": [
        "### 4.3 while\n",
        "\n",
        "La forma común de emplear el while es como se presenta en el ejemplo:"
      ]
    },
    {
      "cell_type": "code",
      "metadata": {
        "id": "AMYcOj5oiCZJ",
        "colab_type": "code",
        "colab": {
          "base_uri": "https://localhost:8080/",
          "height": 85
        },
        "outputId": "bd3b8191-e95c-4853-90b7-f63bb048cbcd"
      },
      "source": [
        "x = 0\n",
        "while(x < 4):\n",
        " print(x)\n",
        " x += 1"
      ],
      "execution_count": 65,
      "outputs": [
        {
          "output_type": "stream",
          "text": [
            "0\n",
            "1\n",
            "2\n",
            "3\n"
          ],
          "name": "stdout"
        }
      ]
    }
  ]
}