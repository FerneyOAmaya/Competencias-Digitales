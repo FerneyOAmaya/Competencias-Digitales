{
  "nbformat": 4,
  "nbformat_minor": 0,
  "metadata": {
    "colab": {
      "name": "GoogleColaboratory.ipynb",
      "provenance": [],
      "collapsed_sections": [],
      "toc_visible": true
    },
    "kernelspec": {
      "name": "python3",
      "display_name": "Python 3"
    },
    "language_info": {
      "name": "python"
    }
  },
  "cells": [
    {
      "cell_type": "markdown",
      "source": [
        "# Google Colaboratory\n",
        "\n",
        "[![Open In Colab](https://colab.research.google.com/assets/colab-badge.svg)](https://colab.research.google.com/github/FerneyOAmaya/Competencias-Digitales/blob/master/GoogleColaboratory.ipynb)\n",
        "\n",
        "Se presenta un breve tutorial para el uso de la herramienta Google Colaboratory o \"Colab\". Colab permite escribir y ejecutar código en el lenguaje de programación Python.\n",
        "\n",
        "Por:\n",
        "\n",
        "Ferney Amaya Fernández\n",
        "https://ferneyoamaya.github.io/\n",
        "\n",
        "Contenido:\n",
        "1. Celdas de Texto y ecuaciones.\n",
        "2. Celdas de código y lenguaje Python.\n",
        "3. Bilbioteca Numpy.\n",
        "4. Gráficas empleando Matplotlib.\n",
        "<br>¿Dónde encontrar más información?"
      ],
      "metadata": {
        "id": "9o_pO6ho4rjP"
      }
    },
    {
      "cell_type": "markdown",
      "source": [
        "## 1.Celdas de texto y ecuaciones\n",
        "\n",
        "Colab tiene dos tipos de celdas: Código y Texto. Las celdas de Texto reciben código en un formato llamado Markdown. A continuación se presentan ejemplos:\n",
        "\n",
        "\n",
        "\n",
        "**negrita**\n",
        "\n",
        "_cursiva_ o *cursiva*\n",
        "\n",
        "~~tachado~~\n",
        "\n",
        ">Texto tabulado\n",
        "\n",
        "`ejemplo de código print(a)`\n",
        "\n",
        "[Enlace a UPB](https://www.upb.edu.co)\n",
        "\n",
        "Lista no enumerada:\n",
        "- primer item\n",
        "- segundo item\n",
        "- tercer item\n",
        "\n",
        "Tabla:\n",
        "\n",
        "|Columna 1|Columna 2|\n",
        "|---------|---------|\n",
        "|   A     |    B    | \n",
        "|   C     |    D    | \n",
        "\n",
        "Ecuación:\n",
        "\n",
        "$$e^x=\\sum_{i=0}^\\infty \\frac{1}{i!}x^i$$\n",
        "\n",
        "\n",
        "En el siguiente enlace se encuentran más formas para codificar texto y ecuaciones:\n",
        "\n",
        "https://colab.research.google.com/notebooks/markdown_guide.ipynb"
      ],
      "metadata": {
        "id": "FEZlmXRbGJXP"
      }
    },
    {
      "cell_type": "markdown",
      "source": [
        "##2.Celdas de código y lenguaje Python\n",
        "\n",
        "Características básicas:\n",
        "- Se emplea `=` para asignar un valor a una variable.\n",
        "- Se emplea la función `input()` para permitir que el usuario entre datos.\n",
        "- Se emplea la función `print()` para presentar información en pantalla.\n",
        "\n",
        "Ejecutar la siguiente celda:\n"
      ],
      "metadata": {
        "id": "DIiq91g4O4Zi"
      }
    },
    {
      "cell_type": "code",
      "source": [
        "var1 = int(input('Entre un número entero: '))\n",
        "var2 = 10\n",
        "var3 = var1 + var2\n",
        "print(var3)"
      ],
      "metadata": {
        "id": "f9JYd4njRFas"
      },
      "execution_count": null,
      "outputs": []
    },
    {
      "cell_type": "markdown",
      "source": [
        "##3.Biblioteca Numpy\n",
        "\n",
        "NumPy es una biblioteca para el lenguaje de programación Python que ofrece diversas funciones matemáticas. Enlace:\n",
        "\n",
        "https://numpy.org/\n",
        "\n",
        "Algunas ejemplos empleando funciones de la biblioteca Numpy:"
      ],
      "metadata": {
        "id": "k4KUT0NZRxG5"
      }
    },
    {
      "cell_type": "code",
      "source": [
        "import numpy as np\n",
        "\n",
        "v1 = np.array([5, 2, 3, 5, 6])\n",
        "v2 = np.arange(0, 10, 2)\n",
        "v3 = np.random.randint(10, size=10)\n",
        "print('Arreglo Numpy a partir de lista: ', v1)\n",
        "print('Arreglo Numpy seleccionando rango: ', v2)\n",
        "print('Valores aleatorios empleando Numpy: ', v3)"
      ],
      "metadata": {
        "colab": {
          "base_uri": "https://localhost:8080/"
        },
        "id": "QpRvYFjeVhnr",
        "outputId": "fdbe0a53-0977-46be-d144-acb70f481816"
      },
      "execution_count": null,
      "outputs": [
        {
          "output_type": "stream",
          "name": "stdout",
          "text": [
            "Arreglo Numpy a partir de lista:  [5 2 3 5 6]\n",
            "Arreglo Numpy seleccionando rango:  [0 2 4 6 8]\n",
            "Valores aleatorios empleando Numpy:  [5 8 7 7 8 4 1 2 0 8]\n"
          ]
        }
      ]
    },
    {
      "cell_type": "markdown",
      "source": [
        "##4.Gráficas empleando Matplotlib\n",
        "\n",
        "Matplotlib es una biblioteca para generar gráficos empleando el lenguaje de programación Python.\n",
        "\n",
        "Se presenta un ejemplo de como realizar una gráfica:"
      ],
      "metadata": {
        "id": "Mi0_LoO9WR4L"
      }
    },
    {
      "cell_type": "code",
      "source": [
        "import matplotlib.pyplot as plt\n",
        "import numpy as np\n",
        "\n",
        "x = np.arange(0,10,2)\n",
        "y1 = 2*x + -1\n",
        "y2 = 1.5*x + -5\n",
        "\n",
        "f, ax = plt.subplots(1, 2, figsize=(10, 6))\n",
        "ax[0].axis([0, 10, -50, 50])\n",
        "ax[0].set_xlabel('Etiqueta Eje x', fontsize=14)\n",
        "ax[0].set_ylabel('Etiqueta Eje y', fontsize=14)\n",
        "ax[0].set_title('Título de la Figura.', fontsize=14)\n",
        "ax[0].plot(x,y1)\n",
        "ax[0].plot(x,y2)\n",
        "\n",
        "ax[1].axis([0, 10, -50, 50])\n",
        "ax[1].set_xlabel('Etiqueta Eje x', fontsize=14)\n",
        "ax[1].set_ylabel('Etiqueta Eje y', fontsize=14)\n",
        "ax[1].set_title('Título de la Figura.', fontsize=14)\n",
        "ax[1].plot(x,y2)\n",
        "\n",
        "f.show()"
      ],
      "metadata": {
        "colab": {
          "base_uri": "https://localhost:8080/",
          "height": 410
        },
        "id": "BmF2eCONGPPF",
        "outputId": "8f19240a-d551-4028-cbce-803e1cecacdb"
      },
      "execution_count": null,
      "outputs": [
        {
          "output_type": "display_data",
          "data": {
            "image/png": "[encoded data removed]",
            "text/plain": [
              "<Figure size 720x432 with 2 Axes>"
            ]
          },
          "metadata": {
            "needs_background": "light"
          }
        }
      ]
    },
    {
      "cell_type": "markdown",
      "source": [
        "##¿Dónde encontrar más información?\n",
        "\n",
        "- [Lenguaje Markdown incluyendo ecuaciones](https://colab.research.google.com/notebooks/markdown_guide.ipynb#scrollTo=70pYkR9LiOV0)\n",
        "- [Introducción a Python](https://colab.research.google.com/github/FerneyOAmaya/DataLiteracy/blob/master/0_Python.ipynb)\n",
        "- [Simulación movimiento parabólico](https://colab.research.google.com/github/FerneyOAmaya/DataLiteracy/blob/master/Parabolico.ipynb)"
      ],
      "metadata": {
        "id": "r1tt8Nh1NjWG"
      }
    }
  ]
}