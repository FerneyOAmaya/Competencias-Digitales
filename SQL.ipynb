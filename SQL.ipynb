{
  "nbformat": 4,
  "nbformat_minor": 0,
  "metadata": {
    "colab": {
      "provenance": [],
      "toc_visible": true
    },
    "kernelspec": {
      "name": "python3",
      "display_name": "Python 3"
    },
    "language_info": {
      "name": "python"
    }
  },
  "cells": [
    {
      "cell_type": "markdown",
      "source": [
        "#SQL\n",
        "Cada vez se vuelve más indispensable interactuar con bases de datos, especialmente cuando se trabaja con grandes volúmenes de información estructurada. Para ello, uno de los lenguajes más utilizados en la industria es SQL (Structured Query Language).\n",
        "\n",
        "En este cuaderno se abordan algunos comandos SQL que se practicarán a través de ejemplos simples y claros empleando la librería sqlite3 de Python.\n",
        "\n",
        "Por:\n",
        "\n",
        "Ferney Orlando Amaya Fernández\n"
      ],
      "metadata": {
        "id": "RAhqIvzaoSeV"
      }
    },
    {
      "cell_type": "markdown",
      "source": [
        "#1 Crear la base de datos\n",
        "\n",
        "Para la siguiente tabla de ejemplo se presenta el uso de las sentencias básicas de SQL empleando SQLite3.\n",
        "\n",
        "| id | nombre       | cargo         | salario | departamento |\n",
        "|----|--------------|---------------|---------|--------------|\n",
        "| 1  | Ana Torres   | Analista      | 4000    | Finanzas     |\n",
        "| 2  | Luis Pérez   | Desarrollador | 4500    | Tecnología   |\n",
        "| 3  | Marta Gómez  | Gerente       | 6000    | Ventas       |\n",
        "| 4  | Diego Ríos   | Desarrollador | 4700    | Tecnología   |"
      ],
      "metadata": {
        "id": "GM8qpjqMont3"
      }
    },
    {
      "cell_type": "markdown",
      "source": [
        "## Crear la conexión en SQLite3\n",
        "\n",
        "\n",
        "Inicialmente, se importan las bibliotecas:"
      ],
      "metadata": {
        "id": "ijgZntYZC6Ef"
      }
    },
    {
      "cell_type": "code",
      "source": [
        "import sqlite3"
      ],
      "metadata": {
        "id": "TXzhewKRp6dH"
      },
      "execution_count": 2,
      "outputs": []
    },
    {
      "cell_type": "markdown",
      "source": [
        "Posteriormente se realiza la conexión a la base de datos. Con la opción en memoria, el código se ejecuta en memoria, por lo que todos los datos se pierden cuando termina el script.\n",
        "\n",
        "```\n",
        "sqlite3.connect(':memory:')\n",
        "```\n",
        "\n",
        "En este ejemplo se guardarán los datos en un archivo llamado `empleados.db`."
      ],
      "metadata": {
        "id": "RCflcksWDWGD"
      }
    },
    {
      "cell_type": "code",
      "execution_count": 3,
      "metadata": {
        "id": "QZ_4cjiboMGG"
      },
      "outputs": [],
      "source": [
        "conn = sqlite3.connect('empleados.db')\n",
        "cursor = conn.cursor()"
      ]
    },
    {
      "cell_type": "markdown",
      "source": [
        "## Crear la tabla\n",
        "Se crea la tabla:"
      ],
      "metadata": {
        "id": "XoCtYYUepWcA"
      }
    },
    {
      "cell_type": "code",
      "source": [
        "cursor.execute(\"\"\"\n",
        "CREATE TABLE empleados (\n",
        "    id INTEGER PRIMARY KEY,\n",
        "    nombre TEXT,\n",
        "    cargo TEXT,\n",
        "    salario REAL,\n",
        "    departamento TEXT\n",
        ");\n",
        "\"\"\")"
      ],
      "metadata": {
        "colab": {
          "base_uri": "https://localhost:8080/"
        },
        "id": "WqsWMNkPrI6Q",
        "outputId": "b158e55e-fb93-471d-c760-292478159225"
      },
      "execution_count": 4,
      "outputs": [
        {
          "output_type": "execute_result",
          "data": {
            "text/plain": [
              "<sqlite3.Cursor at 0x7864644605c0>"
            ]
          },
          "metadata": {},
          "execution_count": 4
        }
      ]
    },
    {
      "cell_type": "markdown",
      "source": [
        "## Mostrar información de las columnas\n",
        "\n",
        "Para mostrar información de las columnas de la tabla empleados:"
      ],
      "metadata": {
        "id": "b78Nk2nrdevM"
      }
    },
    {
      "cell_type": "code",
      "source": [
        "cursor.execute(\"PRAGMA table_info(empleados);\")\n",
        "resultados = cursor.fetchall()\n",
        "print(\"Nombre de la columna | Tipo de dato | NOT NULL | Clave Primaria | Valor por defecto\")\n",
        "print(\"-----------------------------------------------------------------------\")\n",
        "for fila in resultados:\n",
        "    print(f\"{fila[1]:<20} | {fila[2]:<12} | {fila[3]:<8} | {fila[5]:<14} | {fila[4]}\")\n",
        "    #print(fila)"
      ],
      "metadata": {
        "colab": {
          "base_uri": "https://localhost:8080/"
        },
        "id": "UNvkAditde6o",
        "outputId": "39152b5e-5761-46ce-cd4c-bb7b4397b6e8"
      },
      "execution_count": 5,
      "outputs": [
        {
          "output_type": "stream",
          "name": "stdout",
          "text": [
            "Nombre de la columna | Tipo de dato | NOT NULL | Clave Primaria | Valor por defecto\n",
            "-----------------------------------------------------------------------\n",
            "id                   | INTEGER      | 0        | 1              | None\n",
            "nombre               | TEXT         | 0        | 0              | None\n",
            "cargo                | TEXT         | 0        | 0              | None\n",
            "salario              | REAL         | 0        | 0              | None\n",
            "departamento         | TEXT         | 0        | 0              | None\n"
          ]
        }
      ]
    },
    {
      "cell_type": "markdown",
      "source": [
        "## Consultar tablas existentes y borrar tablas de un archivo\n",
        "\n",
        "Con el siguiente código pueden observarse las tablas creadas dentro del archivo `empleados.db`."
      ],
      "metadata": {
        "id": "NAKkY300DpJk"
      }
    },
    {
      "cell_type": "code",
      "source": [
        "# Consultar las tablas existentes\n",
        "cursor.execute(\"SELECT name FROM sqlite_master WHERE type='table';\")\n",
        "tablas = cursor.fetchall()\n",
        "\n",
        "# Mostrar las tablas\n",
        "for tabla in tablas:\n",
        "    print(tabla[0])"
      ],
      "metadata": {
        "colab": {
          "base_uri": "https://localhost:8080/"
        },
        "id": "h9uwu-BHDpfr",
        "outputId": "ca0998d2-b1d3-4ba5-9006-0e969f9d3a1b"
      },
      "execution_count": null,
      "outputs": [
        {
          "output_type": "stream",
          "name": "stdout",
          "text": [
            "empleados\n"
          ]
        }
      ]
    },
    {
      "cell_type": "markdown",
      "source": [
        "Para borrar la tabla se emplea:"
      ],
      "metadata": {
        "id": "uwRJxWlNGWPs"
      }
    },
    {
      "cell_type": "code",
      "source": [
        "cursor.execute(\"DROP TABLE IF EXISTS empleados;\")"
      ],
      "metadata": {
        "colab": {
          "base_uri": "https://localhost:8080/"
        },
        "id": "q0e_eAijGY87",
        "outputId": "f46a5e7b-561e-4181-e354-c5792e5d1843"
      },
      "execution_count": null,
      "outputs": [
        {
          "output_type": "execute_result",
          "data": {
            "text/plain": [
              "<sqlite3.Cursor at 0x7e1453a140c0>"
            ]
          },
          "metadata": {},
          "execution_count": 7
        }
      ]
    },
    {
      "cell_type": "markdown",
      "source": [
        "##Insertar los datos iniciales"
      ],
      "metadata": {
        "id": "56G9I1SGrJC2"
      }
    },
    {
      "cell_type": "code",
      "source": [
        "cursor.execute(\"\"\"\n",
        "INSERT INTO empleados (id, nombre, cargo, salario, departamento)\n",
        "VALUES\n",
        "    (1, 'Ana Torres', 'Analista', 4000, 'Finanzas'),\n",
        "    (2, 'Luis Pérez', 'Desarrollador', 4500, 'Tecnología'),\n",
        "    (3, 'Marta Gómez', 'Gerente', 6000, 'Ventas'),\n",
        "    (4, 'Diego Ríos', 'Desarrollador', 4700, 'Tecnología')\n",
        "\"\"\")"
      ],
      "metadata": {
        "colab": {
          "base_uri": "https://localhost:8080/"
        },
        "id": "TVNP4yOxrWa-",
        "outputId": "8d79ba31-b22d-46e3-f88f-97aabcb83b56"
      },
      "execution_count": null,
      "outputs": [
        {
          "output_type": "execute_result",
          "data": {
            "text/plain": [
              "<sqlite3.Cursor at 0x7ec4494e4fc0>"
            ]
          },
          "metadata": {},
          "execution_count": 6
        }
      ]
    },
    {
      "cell_type": "markdown",
      "source": [
        "##Consultar los datos\n",
        "\n",
        "Consultar todos los datos:"
      ],
      "metadata": {
        "id": "m6Cb4vbSrWhm"
      }
    },
    {
      "cell_type": "code",
      "source": [
        "print(\"Todos los empleados:\")\n",
        "cursor.execute(\"SELECT * FROM empleados;\")\n",
        "for fila in cursor.fetchall():\n",
        "    print(fila)"
      ],
      "metadata": {
        "colab": {
          "base_uri": "https://localhost:8080/"
        },
        "id": "kBWmx-8trvJw",
        "outputId": "dc87055f-4365-4afe-bbaa-18263f336e83"
      },
      "execution_count": null,
      "outputs": [
        {
          "output_type": "stream",
          "name": "stdout",
          "text": [
            "Todos los empleados:\n",
            "(1, 'Ana Torres', 'Analista', 4000.0, 'Finanzas')\n",
            "(2, 'Luis Pérez', 'Desarrollador', 4500.0, 'Tecnología')\n",
            "(3, 'Marta Gómez', 'Gerente', 6000.0, 'Ventas')\n",
            "(4, 'Diego Ríos', 'Desarrollador', 4700.0, 'Tecnología')\n"
          ]
        }
      ]
    },
    {
      "cell_type": "markdown",
      "source": [
        "#2 Comandos básicos"
      ],
      "metadata": {
        "id": "X4nm08OzUxsc"
      }
    },
    {
      "cell_type": "markdown",
      "source": [
        "## Insertar datos\n",
        "\n",
        "Para insertar un registro:"
      ],
      "metadata": {
        "id": "jra4Pl80VOnu"
      }
    },
    {
      "cell_type": "code",
      "source": [
        "cursor.execute(\"\"\"\n",
        "INSERT INTO empleados (id, nombre, cargo, salario, departamento)\n",
        "VALUES (5, 'Laura Jiménez', 'Analista', 4200, 'Marketing');\n",
        "\"\"\")"
      ],
      "metadata": {
        "colab": {
          "base_uri": "https://localhost:8080/"
        },
        "id": "8eKKPpdCVOw2",
        "outputId": "78bbf0ca-fc51-49f0-c6ea-438a5cb4163f"
      },
      "execution_count": null,
      "outputs": [
        {
          "output_type": "execute_result",
          "data": {
            "text/plain": [
              "<sqlite3.Cursor at 0x7ec4494e4fc0>"
            ]
          },
          "metadata": {},
          "execution_count": 8
        }
      ]
    },
    {
      "cell_type": "markdown",
      "source": [
        "##Modificar un registro existente\n",
        "Se aumentará el salario solo de los que tienen el cargo Desarrollador en 300:"
      ],
      "metadata": {
        "id": "4PdviPjZYHkW"
      }
    },
    {
      "cell_type": "code",
      "source": [
        "cursor.execute(\"\"\"\n",
        "UPDATE empleados\n",
        "SET salario = salario + 300\n",
        "WHERE cargo = 'Desarrollador';\n",
        "\"\"\")"
      ],
      "metadata": {
        "colab": {
          "base_uri": "https://localhost:8080/"
        },
        "id": "RNrzjEOeYTX8",
        "outputId": "2248d594-81de-4389-f10b-d3efb5185b25"
      },
      "execution_count": null,
      "outputs": [
        {
          "output_type": "execute_result",
          "data": {
            "text/plain": [
              "<sqlite3.Cursor at 0x7ec4494e4fc0>"
            ]
          },
          "metadata": {},
          "execution_count": 9
        }
      ]
    },
    {
      "cell_type": "markdown",
      "source": [
        "##Eliminar registros\n",
        "Se eliminará el registro con id=3:\n"
      ],
      "metadata": {
        "id": "kyyqDtlmYa7M"
      }
    },
    {
      "cell_type": "code",
      "source": [
        "cursor.execute(\"\"\"\n",
        "DELETE FROM empleados\n",
        "WHERE id = 3;\n",
        "\"\"\")"
      ],
      "metadata": {
        "colab": {
          "base_uri": "https://localhost:8080/"
        },
        "id": "_X9knyfMYhJM",
        "outputId": "62433592-8cc9-44da-af01-3c58c7dc9363"
      },
      "execution_count": null,
      "outputs": [
        {
          "output_type": "execute_result",
          "data": {
            "text/plain": [
              "<sqlite3.Cursor at 0x7ec4494e4fc0>"
            ]
          },
          "metadata": {},
          "execution_count": 10
        }
      ]
    },
    {
      "cell_type": "markdown",
      "source": [
        "##Observar el resultado:"
      ],
      "metadata": {
        "id": "QtYzrkyaYoXd"
      }
    },
    {
      "cell_type": "code",
      "source": [
        "print(\"Todos los empleados:\")\n",
        "cursor.execute(\"SELECT * FROM empleados;\")\n",
        "for fila in cursor.fetchall():\n",
        "    print(fila)"
      ],
      "metadata": {
        "colab": {
          "base_uri": "https://localhost:8080/"
        },
        "id": "esUalrpUYrOd",
        "outputId": "81db841b-8bda-46f2-e031-4537dc9c364f"
      },
      "execution_count": null,
      "outputs": [
        {
          "output_type": "stream",
          "name": "stdout",
          "text": [
            "Todos los empleados:\n",
            "(1, 'Ana Torres', 'Analista', 4000.0, 'Finanzas')\n",
            "(2, 'Luis Pérez', 'Desarrollador', 4800.0, 'Tecnología')\n",
            "(4, 'Diego Ríos', 'Desarrollador', 5000.0, 'Tecnología')\n",
            "(5, 'Laura Jiménez', 'Analista', 4200.0, 'Marketing')\n"
          ]
        }
      ]
    },
    {
      "cell_type": "markdown",
      "source": [
        "#3 Consultar datos"
      ],
      "metadata": {
        "id": "eSs00_S-Y7Kv"
      }
    },
    {
      "cell_type": "markdown",
      "source": [
        "##Filtrar por un valor específico:"
      ],
      "metadata": {
        "id": "1OHpgKO9ZWHV"
      }
    },
    {
      "cell_type": "code",
      "source": [
        "cursor.execute(\"\"\"\n",
        "SELECT * FROM empleados\n",
        "WHERE departamento = 'Tecnología';\n",
        "\"\"\")\n",
        "for fila in cursor.fetchall():\n",
        "    print(fila)"
      ],
      "metadata": {
        "colab": {
          "base_uri": "https://localhost:8080/"
        },
        "id": "toAyQz9dZcvc",
        "outputId": "7f909c22-75b5-4a70-fb3a-c3f83c835834"
      },
      "execution_count": null,
      "outputs": [
        {
          "output_type": "stream",
          "name": "stdout",
          "text": [
            "(2, 'Luis Pérez', 'Desarrollador', 4800.0, 'Tecnología')\n",
            "(4, 'Diego Ríos', 'Desarrollador', 5000.0, 'Tecnología')\n"
          ]
        }
      ]
    },
    {
      "cell_type": "markdown",
      "source": [
        "##Obtener nombre y salario solo de los desarrolladores:"
      ],
      "metadata": {
        "id": "o_qN51PcZcD9"
      }
    },
    {
      "cell_type": "code",
      "source": [
        "cursor.execute(\"\"\"\n",
        "SELECT nombre, salario\n",
        "FROM empleados\n",
        "WHERE cargo = 'Desarrollador';\n",
        "\"\"\")\n",
        "for fila in cursor.fetchall():\n",
        "    print(fila)"
      ],
      "metadata": {
        "colab": {
          "base_uri": "https://localhost:8080/"
        },
        "id": "oFvtPGzxZ0U2",
        "outputId": "1ea5f3f2-263b-4d06-ff1c-a53e5b6b59a8"
      },
      "execution_count": null,
      "outputs": [
        {
          "output_type": "stream",
          "name": "stdout",
          "text": [
            "('Luis Pérez', 4800.0)\n",
            "('Diego Ríos', 5000.0)\n"
          ]
        }
      ]
    },
    {
      "cell_type": "markdown",
      "source": [
        "##Filtrar con operadores relacionales:\n"
      ],
      "metadata": {
        "id": "UofoIUdcZ0cu"
      }
    },
    {
      "cell_type": "code",
      "source": [
        "cursor.execute(\"\"\"\n",
        "SELECT nombre, salario\n",
        "FROM empleados\n",
        "WHERE salario > 3000;\n",
        "\"\"\")\n",
        "for fila in cursor.fetchall():\n",
        "    print(fila)"
      ],
      "metadata": {
        "colab": {
          "base_uri": "https://localhost:8080/"
        },
        "id": "oYShZ1pbZ-eG",
        "outputId": "9a416a7b-a9ca-4361-fbfd-fb6681ce0d2d"
      },
      "execution_count": null,
      "outputs": [
        {
          "output_type": "stream",
          "name": "stdout",
          "text": [
            "('Ana Torres', 4000.0)\n",
            "('Luis Pérez', 4800.0)\n",
            "('Diego Ríos', 5000.0)\n",
            "('Laura Jiménez', 4200.0)\n"
          ]
        }
      ]
    },
    {
      "cell_type": "markdown",
      "source": [
        "##Usar múltiples condiciones con AND / OR"
      ],
      "metadata": {
        "id": "KCxc3jILZ-lm"
      }
    },
    {
      "cell_type": "code",
      "source": [
        "cursor.execute(\"\"\"\n",
        "SELECT nombre, salario\n",
        "FROM empleados\n",
        "WHERE cargo = 'Analista' AND salario > 4000;\n",
        "\"\"\")\n",
        "for fila in cursor.fetchall():\n",
        "    print(fila)"
      ],
      "metadata": {
        "colab": {
          "base_uri": "https://localhost:8080/"
        },
        "id": "q6DKPc0ZaGTt",
        "outputId": "2b5a9f3b-1faf-45af-96d8-69ecd927e078"
      },
      "execution_count": null,
      "outputs": [
        {
          "output_type": "stream",
          "name": "stdout",
          "text": [
            "('Laura Jiménez', 4200.0)\n"
          ]
        }
      ]
    },
    {
      "cell_type": "markdown",
      "source": [
        "##Búsqueda por patrón"
      ],
      "metadata": {
        "id": "jQdXczuNaGb8"
      }
    },
    {
      "cell_type": "code",
      "source": [
        "cursor.execute(\"\"\"\n",
        "SELECT nombre\n",
        "FROM empleados\n",
        "WHERE nombre LIKE 'A%';\n",
        "\"\"\")\n",
        "for fila in cursor.fetchall():\n",
        "    print(fila)"
      ],
      "metadata": {
        "colab": {
          "base_uri": "https://localhost:8080/"
        },
        "id": "d-D-xj1caoK-",
        "outputId": "df328d4e-021d-4150-da8e-54a26ad976f1"
      },
      "execution_count": null,
      "outputs": [
        {
          "output_type": "stream",
          "name": "stdout",
          "text": [
            "('Ana Torres',)\n"
          ]
        }
      ]
    },
    {
      "cell_type": "markdown",
      "source": [
        "##Varios valores posibles\n"
      ],
      "metadata": {
        "id": "e8JesgwTaoSN"
      }
    },
    {
      "cell_type": "code",
      "source": [
        "cursor.execute(\"\"\"\n",
        "SELECT nombre\n",
        "FROM empleados\n",
        "WHERE departamento IN ('Ventas', 'Tecnología');\n",
        "\"\"\")\n",
        "for fila in cursor.fetchall():\n",
        "    print(fila)\n"
      ],
      "metadata": {
        "colab": {
          "base_uri": "https://localhost:8080/"
        },
        "id": "GTQg-xAv4x4p",
        "outputId": "e12cc9bb-7f2d-4816-e738-cb621d68d8ef"
      },
      "execution_count": null,
      "outputs": [
        {
          "output_type": "stream",
          "name": "stdout",
          "text": [
            "('Luis Pérez',)\n",
            "('Diego Ríos',)\n"
          ]
        }
      ]
    },
    {
      "cell_type": "markdown",
      "source": [
        "##Rango de valores"
      ],
      "metadata": {
        "id": "jU-Hw8WZ4yCT"
      }
    },
    {
      "cell_type": "code",
      "source": [
        "cursor.execute(\"\"\"\n",
        "SELECT nombre\n",
        "FROM empleados\n",
        "WHERE salario BETWEEN 4000 AND 5000;\n",
        "\"\"\")\n",
        "for fila in cursor.fetchall():\n",
        "    print(fila)"
      ],
      "metadata": {
        "colab": {
          "base_uri": "https://localhost:8080/"
        },
        "id": "jSn4z2Rp5Vi6",
        "outputId": "22016d85-2d06-4df6-c833-65c38072454c"
      },
      "execution_count": null,
      "outputs": [
        {
          "output_type": "stream",
          "name": "stdout",
          "text": [
            "('Ana Torres',)\n",
            "('Luis Pérez',)\n",
            "('Diego Ríos',)\n",
            "('Laura Jiménez',)\n"
          ]
        }
      ]
    },
    {
      "cell_type": "markdown",
      "source": [
        "##Verificar nulos\tSELECT nombre"
      ],
      "metadata": {
        "id": "66oMOsy35VqC"
      }
    },
    {
      "cell_type": "code",
      "source": [
        "cursor.execute(\"\"\"\n",
        "SELECT nombre\n",
        "FROM empleados\n",
        "WHERE salario IS NULL;\n",
        "\"\"\")\n",
        "for fila in cursor.fetchall():\n",
        "    print(fila)"
      ],
      "metadata": {
        "id": "8sd7ZPCB5gHg"
      },
      "execution_count": null,
      "outputs": []
    },
    {
      "cell_type": "markdown",
      "source": [
        "#4 Finalización"
      ],
      "metadata": {
        "id": "HDbFINxUsQtv"
      }
    },
    {
      "cell_type": "markdown",
      "source": [
        "##Guardar cambios si se hicieron modificaciones."
      ],
      "metadata": {
        "id": "BR5ZrZiv9NHK"
      }
    },
    {
      "cell_type": "code",
      "source": [
        "conn.commit()"
      ],
      "metadata": {
        "id": "ofnqe727sU62"
      },
      "execution_count": null,
      "outputs": []
    },
    {
      "cell_type": "markdown",
      "source": [
        "##Cerrar la conexión"
      ],
      "metadata": {
        "id": "oEjk7yqh6Sdi"
      }
    },
    {
      "cell_type": "code",
      "source": [
        "conn.close()"
      ],
      "metadata": {
        "id": "eb-89PQv6nTf"
      },
      "execution_count": null,
      "outputs": []
    },
    {
      "cell_type": "markdown",
      "source": [
        "##Descargar el archivo\n",
        "\n",
        "Para descargar el archivo empleados.db al computador:"
      ],
      "metadata": {
        "id": "Z_mtVJtB8yIy"
      }
    },
    {
      "cell_type": "code",
      "source": [
        "from google.colab import files\n",
        "files.download('empleados.db')"
      ],
      "metadata": {
        "colab": {
          "base_uri": "https://localhost:8080/",
          "height": 17
        },
        "id": "NUyeoWip8zfK",
        "outputId": "af824ea5-07e7-49ce-92ea-34020b3198c3"
      },
      "execution_count": null,
      "outputs": [
        {
          "output_type": "display_data",
          "data": {
            "text/plain": [
              "<IPython.core.display.Javascript object>"
            ],
            "application/javascript": [
              "\n",
              "    async function download(id, filename, size) {\n",
              "      if (!google.colab.kernel.accessAllowed) {\n",
              "        return;\n",
              "      }\n",
              "      const div = document.createElement('div');\n",
              "      const label = document.createElement('label');\n",
              "      label.textContent = `Downloading \"${filename}\": `;\n",
              "      div.appendChild(label);\n",
              "      const progress = document.createElement('progress');\n",
              "      progress.max = size;\n",
              "      div.appendChild(progress);\n",
              "      document.body.appendChild(div);\n",
              "\n",
              "      const buffers = [];\n",
              "      let downloaded = 0;\n",
              "\n",
              "      const channel = await google.colab.kernel.comms.open(id);\n",
              "      // Send a message to notify the kernel that we're ready.\n",
              "      channel.send({})\n",
              "\n",
              "      for await (const message of channel.messages) {\n",
              "        // Send a message to notify the kernel that we're ready.\n",
              "        channel.send({})\n",
              "        if (message.buffers) {\n",
              "          for (const buffer of message.buffers) {\n",
              "            buffers.push(buffer);\n",
              "            downloaded += buffer.byteLength;\n",
              "            progress.value = downloaded;\n",
              "          }\n",
              "        }\n",
              "      }\n",
              "      const blob = new Blob(buffers, {type: 'application/binary'});\n",
              "      const a = document.createElement('a');\n",
              "      a.href = window.URL.createObjectURL(blob);\n",
              "      a.download = filename;\n",
              "      div.appendChild(a);\n",
              "      a.click();\n",
              "      div.remove();\n",
              "    }\n",
              "  "
            ]
          },
          "metadata": {}
        },
        {
          "output_type": "display_data",
          "data": {
            "text/plain": [
              "<IPython.core.display.Javascript object>"
            ],
            "application/javascript": [
              "download(\"download_4a309c98-4bba-48a8-9428-b73b3e36cb7b\", \"empleados.db\", 8192)"
            ]
          },
          "metadata": {}
        }
      ]
    },
    {
      "cell_type": "markdown",
      "source": [
        "#5 Ejercicios"
      ],
      "metadata": {
        "id": "U7PzB7laKCWl"
      }
    },
    {
      "cell_type": "markdown",
      "source": [
        "##5.1 Ejercicio 1"
      ],
      "metadata": {
        "id": "LQ6k2PBJKIYQ"
      }
    },
    {
      "cell_type": "code",
      "source": [
        "\"Información de empleados en una empresa\"\n",
        "CREATE TABLE prueba1 (\n",
        "    id INTEGER PRIMARY KEY AUTOINCREMENT,\n",
        "    nombre TEXT NOT NULL,\n",
        "    edad INTEGER,\n",
        "    departamento TEXT,\n",
        "    salario REAL,\n",
        "    fecha_ingreso TEXT,\n",
        "    telefono TEXT\n",
        ");\n",
        "\n",
        "INSERT INTO prueba1 (nombre, edad, departamento, salario, fecha_ingreso, telefono) VALUES\n",
        "('Ana Torres',        28, 'Ventas',    3200.50, '2021-05-10', '3001234567'),\n",
        "('Luis Pérez',        35, 'Marketing', 4100.00, '2020-08-21', NULL),\n",
        "('María López',       42, 'Ventas',    3900.75, '2018-11-15', '3129876543'),\n",
        "('Pedro Gómez',       30, 'IT',        5000.00, '2019-01-10', '3155555555'),\n",
        "('Laura Sánchez',     25, 'Ventas',    2800.00, '2022-07-01', NULL),\n",
        "('Andrés Castro',     38, 'IT',        5400.00, '2017-09-30', '3012223344'),\n",
        "('Inés Ramírez',      29, 'Marketing', 3600.50, '2021-02-18', '3144445566'),\n",
        "('Carlos Martínez',   45, 'Gerencia',  7500.00, '2015-03-12', '3166667788'),\n",
        "('Elena Gutiérrez',   33, 'IT',        4900.00, '2020-12-05', NULL),\n",
        "('Andrés López',      27, 'Ventas',    3000.00, '2023-01-25', '3009998888');"
      ],
      "metadata": {
        "id": "PfZi_TwDKVJ-"
      },
      "execution_count": null,
      "outputs": []
    },
    {
      "cell_type": "markdown",
      "source": [
        "## Ejercicio 2"
      ],
      "metadata": {
        "id": "F767N0a4lS1h"
      }
    },
    {
      "cell_type": "code",
      "source": [
        "-- Crear tabla Clientes\n",
        "CREATE TABLE Clientes (\n",
        "    cliente_id INTEGER PRIMARY KEY,\n",
        "    nombre TEXT NOT NULL,\n",
        "    ciudad TEXT\n",
        ");\n",
        "\n",
        "-- Insertar registros en Clientes\n",
        "INSERT INTO Clientes (cliente_id, nombre, ciudad) VALUES\n",
        "(1, 'Ana Pérez', 'Bogotá'),\n",
        "(2, 'Luis Gómez', 'Medellín'),\n",
        "(3, 'Carlos Ruiz', 'Cali'),\n",
        "(4, 'Laura Torres', 'Bogotá');\n",
        "\n",
        "-- Crear tabla Órdenes\n",
        "CREATE TABLE Ordenes (\n",
        "    orden_id INTEGER PRIMARY KEY,\n",
        "    cliente_id INTEGER,\n",
        "    fecha TEXT,\n",
        "    total REAL,\n",
        "    FOREIGN KEY (cliente_id) REFERENCES Clientes(cliente_id)\n",
        ");\n",
        "\n",
        "-- Insertar registros en Órdenes\n",
        "INSERT INTO Ordenes (orden_id, cliente_id, fecha, total) VALUES\n",
        "(101, 1, '2024-05-10', 150),\n",
        "(102, 2, '2024-05-11', 200),\n",
        "(103, 1, '2024-05-12', 300),\n",
        "(104, 3, '2024-05-13', 100),\n",
        "(105, 2, '2024-05-14', 250);"
      ],
      "metadata": {
        "id": "Rv2r3mt5lWFi"
      },
      "execution_count": null,
      "outputs": []
    }
  ]
}